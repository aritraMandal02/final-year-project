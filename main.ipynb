{
 "cells": [
  {
   "cell_type": "markdown",
   "metadata": {},
   "source": [
    "#### Importing necessary libraries"
   ]
  },
  {
   "cell_type": "code",
   "execution_count": 40,
   "metadata": {},
   "outputs": [],
   "source": [
    "import numpy as np\n",
    "import pandas as pd\n",
    "import plotly.express as px"
   ]
  },
  {
   "cell_type": "code",
   "execution_count": 41,
   "metadata": {},
   "outputs": [],
   "source": [
    "df1 = pd.read_excel('model/data-welding.xlsx', sheet_name='Sheet1')\n",
    "df2 = pd.read_excel('model/data-welding.xlsx', sheet_name='Sheet2')"
   ]
  },
  {
   "cell_type": "code",
   "execution_count": 42,
   "metadata": {},
   "outputs": [
    {
     "data": {
      "text/html": [
       "<div>\n",
       "<style scoped>\n",
       "    .dataframe tbody tr th:only-of-type {\n",
       "        vertical-align: middle;\n",
       "    }\n",
       "\n",
       "    .dataframe tbody tr th {\n",
       "        vertical-align: top;\n",
       "    }\n",
       "\n",
       "    .dataframe thead th {\n",
       "        text-align: right;\n",
       "    }\n",
       "</style>\n",
       "<table border=\"1\" class=\"dataframe\">\n",
       "  <thead>\n",
       "    <tr style=\"text-align: right;\">\n",
       "      <th></th>\n",
       "      <th>Weld No.</th>\n",
       "      <th>V</th>\n",
       "      <th>A</th>\n",
       "      <th>S</th>\n",
       "      <th>N</th>\n",
       "      <th>Bead height (H)</th>\n",
       "      <th>Bead width (W)</th>\n",
       "      <th>Bead Penetration (P)</th>\n",
       "    </tr>\n",
       "  </thead>\n",
       "  <tbody>\n",
       "    <tr>\n",
       "      <th>0</th>\n",
       "      <td>1</td>\n",
       "      <td>-1</td>\n",
       "      <td>-1</td>\n",
       "      <td>-1</td>\n",
       "      <td>-1</td>\n",
       "      <td>2.38</td>\n",
       "      <td>10.55</td>\n",
       "      <td>3.94</td>\n",
       "    </tr>\n",
       "    <tr>\n",
       "      <th>1</th>\n",
       "      <td>2</td>\n",
       "      <td>1</td>\n",
       "      <td>-1</td>\n",
       "      <td>-1</td>\n",
       "      <td>-1</td>\n",
       "      <td>2.54</td>\n",
       "      <td>12.43</td>\n",
       "      <td>5.08</td>\n",
       "    </tr>\n",
       "    <tr>\n",
       "      <th>2</th>\n",
       "      <td>3</td>\n",
       "      <td>-1</td>\n",
       "      <td>1</td>\n",
       "      <td>-1</td>\n",
       "      <td>-1</td>\n",
       "      <td>3.07</td>\n",
       "      <td>9.76</td>\n",
       "      <td>5.12</td>\n",
       "    </tr>\n",
       "    <tr>\n",
       "      <th>3</th>\n",
       "      <td>4</td>\n",
       "      <td>1</td>\n",
       "      <td>1</td>\n",
       "      <td>-1</td>\n",
       "      <td>-1</td>\n",
       "      <td>2.79</td>\n",
       "      <td>13.14</td>\n",
       "      <td>6.40</td>\n",
       "    </tr>\n",
       "    <tr>\n",
       "      <th>4</th>\n",
       "      <td>5</td>\n",
       "      <td>-1</td>\n",
       "      <td>-1</td>\n",
       "      <td>1</td>\n",
       "      <td>-1</td>\n",
       "      <td>2.03</td>\n",
       "      <td>10.27</td>\n",
       "      <td>3.05</td>\n",
       "    </tr>\n",
       "  </tbody>\n",
       "</table>\n",
       "</div>"
      ],
      "text/plain": [
       "   Weld No.  V  A  S  N  Bead height (H)  Bead width (W)  Bead Penetration (P)\n",
       "0         1 -1 -1 -1 -1             2.38           10.55                  3.94\n",
       "1         2  1 -1 -1 -1             2.54           12.43                  5.08\n",
       "2         3 -1  1 -1 -1             3.07            9.76                  5.12\n",
       "3         4  1  1 -1 -1             2.79           13.14                  6.40\n",
       "4         5 -1 -1  1 -1             2.03           10.27                  3.05"
      ]
     },
     "execution_count": 42,
     "metadata": {},
     "output_type": "execute_result"
    }
   ],
   "source": [
    "df1.head()"
   ]
  },
  {
   "cell_type": "code",
   "execution_count": 43,
   "metadata": {},
   "outputs": [
    {
     "data": {
      "text/html": [
       "<div>\n",
       "<style scoped>\n",
       "    .dataframe tbody tr th:only-of-type {\n",
       "        vertical-align: middle;\n",
       "    }\n",
       "\n",
       "    .dataframe tbody tr th {\n",
       "        vertical-align: top;\n",
       "    }\n",
       "\n",
       "    .dataframe thead th {\n",
       "        text-align: right;\n",
       "    }\n",
       "</style>\n",
       "<table border=\"1\" class=\"dataframe\">\n",
       "  <thead>\n",
       "    <tr style=\"text-align: right;\">\n",
       "      <th></th>\n",
       "      <th>Sl.No</th>\n",
       "      <th>PARAMETERS</th>\n",
       "      <th>Units</th>\n",
       "      <th>Notation</th>\n",
       "      <th>value(-2)</th>\n",
       "      <th>value(-1)</th>\n",
       "      <th>value(0)</th>\n",
       "      <th>value(1)</th>\n",
       "      <th>value(2)</th>\n",
       "    </tr>\n",
       "  </thead>\n",
       "  <tbody>\n",
       "    <tr>\n",
       "      <th>0</th>\n",
       "      <td>1</td>\n",
       "      <td>Current</td>\n",
       "      <td>Amperes</td>\n",
       "      <td>A</td>\n",
       "      <td>250</td>\n",
       "      <td>325.0</td>\n",
       "      <td>400</td>\n",
       "      <td>475.0</td>\n",
       "      <td>550</td>\n",
       "    </tr>\n",
       "    <tr>\n",
       "      <th>1</th>\n",
       "      <td>2</td>\n",
       "      <td>Arc Voltage</td>\n",
       "      <td>Volts</td>\n",
       "      <td>V</td>\n",
       "      <td>22</td>\n",
       "      <td>22.5</td>\n",
       "      <td>29</td>\n",
       "      <td>32.5</td>\n",
       "      <td>36</td>\n",
       "    </tr>\n",
       "    <tr>\n",
       "      <th>2</th>\n",
       "      <td>3</td>\n",
       "      <td>Travel speed</td>\n",
       "      <td>mm/sec</td>\n",
       "      <td>S</td>\n",
       "      <td>6</td>\n",
       "      <td>9.0</td>\n",
       "      <td>12</td>\n",
       "      <td>15.0</td>\n",
       "      <td>18</td>\n",
       "    </tr>\n",
       "    <tr>\n",
       "      <th>3</th>\n",
       "      <td>4</td>\n",
       "      <td>Nozzle to plate distance</td>\n",
       "      <td>Mm</td>\n",
       "      <td>N</td>\n",
       "      <td>20</td>\n",
       "      <td>23.5</td>\n",
       "      <td>27</td>\n",
       "      <td>30.5</td>\n",
       "      <td>34</td>\n",
       "    </tr>\n",
       "  </tbody>\n",
       "</table>\n",
       "</div>"
      ],
      "text/plain": [
       "   Sl.No                PARAMETERS    Units Notation  value(-2)  value(-1)  \\\n",
       "0      1                   Current  Amperes        A        250      325.0   \n",
       "1      2               Arc Voltage    Volts        V         22       22.5   \n",
       "2      3              Travel speed   mm/sec        S          6        9.0   \n",
       "3      4  Nozzle to plate distance       Mm        N         20       23.5   \n",
       "\n",
       "   value(0)  value(1)  value(2)  \n",
       "0       400     475.0       550  \n",
       "1        29      32.5        36  \n",
       "2        12      15.0        18  \n",
       "3        27      30.5        34  "
      ]
     },
     "execution_count": 43,
     "metadata": {},
     "output_type": "execute_result"
    }
   ],
   "source": [
    "df2.head()"
   ]
  },
  {
   "cell_type": "code",
   "execution_count": 44,
   "metadata": {},
   "outputs": [
    {
     "data": {
      "text/html": [
       "<div>\n",
       "<style scoped>\n",
       "    .dataframe tbody tr th:only-of-type {\n",
       "        vertical-align: middle;\n",
       "    }\n",
       "\n",
       "    .dataframe tbody tr th {\n",
       "        vertical-align: top;\n",
       "    }\n",
       "\n",
       "    .dataframe thead th {\n",
       "        text-align: right;\n",
       "    }\n",
       "</style>\n",
       "<table border=\"1\" class=\"dataframe\">\n",
       "  <thead>\n",
       "    <tr style=\"text-align: right;\">\n",
       "      <th></th>\n",
       "      <th>Sl.No</th>\n",
       "      <th>PARAMETERS</th>\n",
       "      <th>Units</th>\n",
       "      <th>value(-2)</th>\n",
       "      <th>value(-1)</th>\n",
       "      <th>value(0)</th>\n",
       "      <th>value(1)</th>\n",
       "      <th>value(2)</th>\n",
       "    </tr>\n",
       "    <tr>\n",
       "      <th>Notation</th>\n",
       "      <th></th>\n",
       "      <th></th>\n",
       "      <th></th>\n",
       "      <th></th>\n",
       "      <th></th>\n",
       "      <th></th>\n",
       "      <th></th>\n",
       "      <th></th>\n",
       "    </tr>\n",
       "  </thead>\n",
       "  <tbody>\n",
       "    <tr>\n",
       "      <th>A</th>\n",
       "      <td>1</td>\n",
       "      <td>Current</td>\n",
       "      <td>Amperes</td>\n",
       "      <td>250</td>\n",
       "      <td>325.0</td>\n",
       "      <td>400</td>\n",
       "      <td>475.0</td>\n",
       "      <td>550</td>\n",
       "    </tr>\n",
       "    <tr>\n",
       "      <th>V</th>\n",
       "      <td>2</td>\n",
       "      <td>Arc Voltage</td>\n",
       "      <td>Volts</td>\n",
       "      <td>22</td>\n",
       "      <td>22.5</td>\n",
       "      <td>29</td>\n",
       "      <td>32.5</td>\n",
       "      <td>36</td>\n",
       "    </tr>\n",
       "    <tr>\n",
       "      <th>S</th>\n",
       "      <td>3</td>\n",
       "      <td>Travel speed</td>\n",
       "      <td>mm/sec</td>\n",
       "      <td>6</td>\n",
       "      <td>9.0</td>\n",
       "      <td>12</td>\n",
       "      <td>15.0</td>\n",
       "      <td>18</td>\n",
       "    </tr>\n",
       "    <tr>\n",
       "      <th>N</th>\n",
       "      <td>4</td>\n",
       "      <td>Nozzle to plate distance</td>\n",
       "      <td>Mm</td>\n",
       "      <td>20</td>\n",
       "      <td>23.5</td>\n",
       "      <td>27</td>\n",
       "      <td>30.5</td>\n",
       "      <td>34</td>\n",
       "    </tr>\n",
       "  </tbody>\n",
       "</table>\n",
       "</div>"
      ],
      "text/plain": [
       "          Sl.No                PARAMETERS    Units  value(-2)  value(-1)  \\\n",
       "Notation                                                                   \n",
       "A             1                   Current  Amperes        250      325.0   \n",
       "V             2               Arc Voltage    Volts         22       22.5   \n",
       "S             3              Travel speed   mm/sec          6        9.0   \n",
       "N             4  Nozzle to plate distance       Mm         20       23.5   \n",
       "\n",
       "          value(0)  value(1)  value(2)  \n",
       "Notation                                \n",
       "A              400     475.0       550  \n",
       "V               29      32.5        36  \n",
       "S               12      15.0        18  \n",
       "N               27      30.5        34  "
      ]
     },
     "execution_count": 44,
     "metadata": {},
     "output_type": "execute_result"
    }
   ],
   "source": [
    "df2 = df2.set_index('Notation')\n",
    "df2"
   ]
  },
  {
   "cell_type": "code",
   "execution_count": 45,
   "metadata": {},
   "outputs": [],
   "source": [
    "data = df1.copy()"
   ]
  },
  {
   "cell_type": "code",
   "execution_count": 46,
   "metadata": {},
   "outputs": [
    {
     "name": "stderr",
     "output_type": "stream",
     "text": [
      "C:\\Users\\aritr\\AppData\\Local\\Temp\\ipykernel_8924\\2874447586.py:3: FutureWarning:\n",
      "\n",
      "Setting an item of incompatible dtype is deprecated and will raise in a future error of pandas. Value '22.5' has dtype incompatible with int64, please explicitly cast to a compatible dtype first.\n",
      "\n",
      "C:\\Users\\aritr\\AppData\\Local\\Temp\\ipykernel_8924\\2874447586.py:3: FutureWarning:\n",
      "\n",
      "Setting an item of incompatible dtype is deprecated and will raise in a future error of pandas. Value '23.5' has dtype incompatible with int64, please explicitly cast to a compatible dtype first.\n",
      "\n"
     ]
    }
   ],
   "source": [
    "for i in range(len(df1)):\n",
    "    for col in ['V', 'A', 'S', 'N']:\n",
    "        data.loc[i, col] = df2[f'value({str(int(df1[col][i]))})'][col]"
   ]
  },
  {
   "cell_type": "code",
   "execution_count": 47,
   "metadata": {},
   "outputs": [
    {
     "data": {
      "text/html": [
       "<div>\n",
       "<style scoped>\n",
       "    .dataframe tbody tr th:only-of-type {\n",
       "        vertical-align: middle;\n",
       "    }\n",
       "\n",
       "    .dataframe tbody tr th {\n",
       "        vertical-align: top;\n",
       "    }\n",
       "\n",
       "    .dataframe thead th {\n",
       "        text-align: right;\n",
       "    }\n",
       "</style>\n",
       "<table border=\"1\" class=\"dataframe\">\n",
       "  <thead>\n",
       "    <tr style=\"text-align: right;\">\n",
       "      <th></th>\n",
       "      <th>Weld No.</th>\n",
       "      <th>V</th>\n",
       "      <th>A</th>\n",
       "      <th>S</th>\n",
       "      <th>N</th>\n",
       "      <th>Bead height (H)</th>\n",
       "      <th>Bead width (W)</th>\n",
       "      <th>Bead Penetration (P)</th>\n",
       "    </tr>\n",
       "  </thead>\n",
       "  <tbody>\n",
       "    <tr>\n",
       "      <th>0</th>\n",
       "      <td>1</td>\n",
       "      <td>22.5</td>\n",
       "      <td>325</td>\n",
       "      <td>9</td>\n",
       "      <td>23.5</td>\n",
       "      <td>2.38</td>\n",
       "      <td>10.55</td>\n",
       "      <td>3.94</td>\n",
       "    </tr>\n",
       "    <tr>\n",
       "      <th>1</th>\n",
       "      <td>2</td>\n",
       "      <td>32.5</td>\n",
       "      <td>325</td>\n",
       "      <td>9</td>\n",
       "      <td>23.5</td>\n",
       "      <td>2.54</td>\n",
       "      <td>12.43</td>\n",
       "      <td>5.08</td>\n",
       "    </tr>\n",
       "    <tr>\n",
       "      <th>2</th>\n",
       "      <td>3</td>\n",
       "      <td>22.5</td>\n",
       "      <td>475</td>\n",
       "      <td>9</td>\n",
       "      <td>23.5</td>\n",
       "      <td>3.07</td>\n",
       "      <td>9.76</td>\n",
       "      <td>5.12</td>\n",
       "    </tr>\n",
       "    <tr>\n",
       "      <th>3</th>\n",
       "      <td>4</td>\n",
       "      <td>32.5</td>\n",
       "      <td>475</td>\n",
       "      <td>9</td>\n",
       "      <td>23.5</td>\n",
       "      <td>2.79</td>\n",
       "      <td>13.14</td>\n",
       "      <td>6.40</td>\n",
       "    </tr>\n",
       "    <tr>\n",
       "      <th>4</th>\n",
       "      <td>5</td>\n",
       "      <td>22.5</td>\n",
       "      <td>325</td>\n",
       "      <td>15</td>\n",
       "      <td>23.5</td>\n",
       "      <td>2.03</td>\n",
       "      <td>10.27</td>\n",
       "      <td>3.05</td>\n",
       "    </tr>\n",
       "  </tbody>\n",
       "</table>\n",
       "</div>"
      ],
      "text/plain": [
       "   Weld No.     V    A   S     N  Bead height (H)  Bead width (W)  \\\n",
       "0         1  22.5  325   9  23.5             2.38           10.55   \n",
       "1         2  32.5  325   9  23.5             2.54           12.43   \n",
       "2         3  22.5  475   9  23.5             3.07            9.76   \n",
       "3         4  32.5  475   9  23.5             2.79           13.14   \n",
       "4         5  22.5  325  15  23.5             2.03           10.27   \n",
       "\n",
       "   Bead Penetration (P)  \n",
       "0                  3.94  \n",
       "1                  5.08  \n",
       "2                  5.12  \n",
       "3                  6.40  \n",
       "4                  3.05  "
      ]
     },
     "execution_count": 47,
     "metadata": {},
     "output_type": "execute_result"
    }
   ],
   "source": [
    "data.head()"
   ]
  },
  {
   "cell_type": "code",
   "execution_count": 48,
   "metadata": {},
   "outputs": [
    {
     "data": {
      "text/html": [
       "<div>\n",
       "<style scoped>\n",
       "    .dataframe tbody tr th:only-of-type {\n",
       "        vertical-align: middle;\n",
       "    }\n",
       "\n",
       "    .dataframe tbody tr th {\n",
       "        vertical-align: top;\n",
       "    }\n",
       "\n",
       "    .dataframe thead th {\n",
       "        text-align: right;\n",
       "    }\n",
       "</style>\n",
       "<table border=\"1\" class=\"dataframe\">\n",
       "  <thead>\n",
       "    <tr style=\"text-align: right;\">\n",
       "      <th></th>\n",
       "      <th>Weld No.</th>\n",
       "      <th>V</th>\n",
       "      <th>A</th>\n",
       "      <th>S</th>\n",
       "      <th>N</th>\n",
       "      <th>Bead height (H)</th>\n",
       "      <th>Bead width (W)</th>\n",
       "      <th>Bead Penetration (P)</th>\n",
       "    </tr>\n",
       "  </thead>\n",
       "  <tbody>\n",
       "    <tr>\n",
       "      <th>0</th>\n",
       "      <td>1</td>\n",
       "      <td>-1</td>\n",
       "      <td>-1</td>\n",
       "      <td>-1</td>\n",
       "      <td>-1</td>\n",
       "      <td>2.38</td>\n",
       "      <td>10.55</td>\n",
       "      <td>3.94</td>\n",
       "    </tr>\n",
       "    <tr>\n",
       "      <th>1</th>\n",
       "      <td>2</td>\n",
       "      <td>1</td>\n",
       "      <td>-1</td>\n",
       "      <td>-1</td>\n",
       "      <td>-1</td>\n",
       "      <td>2.54</td>\n",
       "      <td>12.43</td>\n",
       "      <td>5.08</td>\n",
       "    </tr>\n",
       "    <tr>\n",
       "      <th>2</th>\n",
       "      <td>3</td>\n",
       "      <td>-1</td>\n",
       "      <td>1</td>\n",
       "      <td>-1</td>\n",
       "      <td>-1</td>\n",
       "      <td>3.07</td>\n",
       "      <td>9.76</td>\n",
       "      <td>5.12</td>\n",
       "    </tr>\n",
       "    <tr>\n",
       "      <th>3</th>\n",
       "      <td>4</td>\n",
       "      <td>1</td>\n",
       "      <td>1</td>\n",
       "      <td>-1</td>\n",
       "      <td>-1</td>\n",
       "      <td>2.79</td>\n",
       "      <td>13.14</td>\n",
       "      <td>6.40</td>\n",
       "    </tr>\n",
       "    <tr>\n",
       "      <th>4</th>\n",
       "      <td>5</td>\n",
       "      <td>-1</td>\n",
       "      <td>-1</td>\n",
       "      <td>1</td>\n",
       "      <td>-1</td>\n",
       "      <td>2.03</td>\n",
       "      <td>10.27</td>\n",
       "      <td>3.05</td>\n",
       "    </tr>\n",
       "  </tbody>\n",
       "</table>\n",
       "</div>"
      ],
      "text/plain": [
       "   Weld No.  V  A  S  N  Bead height (H)  Bead width (W)  Bead Penetration (P)\n",
       "0         1 -1 -1 -1 -1             2.38           10.55                  3.94\n",
       "1         2  1 -1 -1 -1             2.54           12.43                  5.08\n",
       "2         3 -1  1 -1 -1             3.07            9.76                  5.12\n",
       "3         4  1  1 -1 -1             2.79           13.14                  6.40\n",
       "4         5 -1 -1  1 -1             2.03           10.27                  3.05"
      ]
     },
     "execution_count": 48,
     "metadata": {},
     "output_type": "execute_result"
    }
   ],
   "source": [
    "df1.head()"
   ]
  },
  {
   "cell_type": "code",
   "execution_count": 49,
   "metadata": {},
   "outputs": [],
   "source": [
    "from sklearn.model_selection import train_test_split\n",
    "from xgboost import XGBRegressor"
   ]
  },
  {
   "cell_type": "code",
   "execution_count": 50,
   "metadata": {},
   "outputs": [],
   "source": [
    "X = data.iloc[:, 1:5].values\n",
    "y = data.iloc[:, -3:].values"
   ]
  },
  {
   "cell_type": "code",
   "execution_count": 51,
   "metadata": {},
   "outputs": [],
   "source": [
    "X_train, X_test, y_train, y_test = train_test_split(X, y, test_size=0.2, random_state=316)"
   ]
  },
  {
   "cell_type": "code",
   "execution_count": 52,
   "metadata": {},
   "outputs": [
    {
     "data": {
      "text/html": [
       "<style>#sk-container-id-2 {color: black;}#sk-container-id-2 pre{padding: 0;}#sk-container-id-2 div.sk-toggleable {background-color: white;}#sk-container-id-2 label.sk-toggleable__label {cursor: pointer;display: block;width: 100%;margin-bottom: 0;padding: 0.3em;box-sizing: border-box;text-align: center;}#sk-container-id-2 label.sk-toggleable__label-arrow:before {content: \"▸\";float: left;margin-right: 0.25em;color: #696969;}#sk-container-id-2 label.sk-toggleable__label-arrow:hover:before {color: black;}#sk-container-id-2 div.sk-estimator:hover label.sk-toggleable__label-arrow:before {color: black;}#sk-container-id-2 div.sk-toggleable__content {max-height: 0;max-width: 0;overflow: hidden;text-align: left;background-color: #f0f8ff;}#sk-container-id-2 div.sk-toggleable__content pre {margin: 0.2em;color: black;border-radius: 0.25em;background-color: #f0f8ff;}#sk-container-id-2 input.sk-toggleable__control:checked~div.sk-toggleable__content {max-height: 200px;max-width: 100%;overflow: auto;}#sk-container-id-2 input.sk-toggleable__control:checked~label.sk-toggleable__label-arrow:before {content: \"▾\";}#sk-container-id-2 div.sk-estimator input.sk-toggleable__control:checked~label.sk-toggleable__label {background-color: #d4ebff;}#sk-container-id-2 div.sk-label input.sk-toggleable__control:checked~label.sk-toggleable__label {background-color: #d4ebff;}#sk-container-id-2 input.sk-hidden--visually {border: 0;clip: rect(1px 1px 1px 1px);clip: rect(1px, 1px, 1px, 1px);height: 1px;margin: -1px;overflow: hidden;padding: 0;position: absolute;width: 1px;}#sk-container-id-2 div.sk-estimator {font-family: monospace;background-color: #f0f8ff;border: 1px dotted black;border-radius: 0.25em;box-sizing: border-box;margin-bottom: 0.5em;}#sk-container-id-2 div.sk-estimator:hover {background-color: #d4ebff;}#sk-container-id-2 div.sk-parallel-item::after {content: \"\";width: 100%;border-bottom: 1px solid gray;flex-grow: 1;}#sk-container-id-2 div.sk-label:hover label.sk-toggleable__label {background-color: #d4ebff;}#sk-container-id-2 div.sk-serial::before {content: \"\";position: absolute;border-left: 1px solid gray;box-sizing: border-box;top: 0;bottom: 0;left: 50%;z-index: 0;}#sk-container-id-2 div.sk-serial {display: flex;flex-direction: column;align-items: center;background-color: white;padding-right: 0.2em;padding-left: 0.2em;position: relative;}#sk-container-id-2 div.sk-item {position: relative;z-index: 1;}#sk-container-id-2 div.sk-parallel {display: flex;align-items: stretch;justify-content: center;background-color: white;position: relative;}#sk-container-id-2 div.sk-item::before, #sk-container-id-2 div.sk-parallel-item::before {content: \"\";position: absolute;border-left: 1px solid gray;box-sizing: border-box;top: 0;bottom: 0;left: 50%;z-index: -1;}#sk-container-id-2 div.sk-parallel-item {display: flex;flex-direction: column;z-index: 1;position: relative;background-color: white;}#sk-container-id-2 div.sk-parallel-item:first-child::after {align-self: flex-end;width: 50%;}#sk-container-id-2 div.sk-parallel-item:last-child::after {align-self: flex-start;width: 50%;}#sk-container-id-2 div.sk-parallel-item:only-child::after {width: 0;}#sk-container-id-2 div.sk-dashed-wrapped {border: 1px dashed gray;margin: 0 0.4em 0.5em 0.4em;box-sizing: border-box;padding-bottom: 0.4em;background-color: white;}#sk-container-id-2 div.sk-label label {font-family: monospace;font-weight: bold;display: inline-block;line-height: 1.2em;}#sk-container-id-2 div.sk-label-container {text-align: center;}#sk-container-id-2 div.sk-container {/* jupyter's `normalize.less` sets `[hidden] { display: none; }` but bootstrap.min.css set `[hidden] { display: none !important; }` so we also need the `!important` here to be able to override the default hidden behavior on the sphinx rendered scikit-learn.org. See: https://github.com/scikit-learn/scikit-learn/issues/21755 */display: inline-block !important;position: relative;}#sk-container-id-2 div.sk-text-repr-fallback {display: none;}</style><div id=\"sk-container-id-2\" class=\"sk-top-container\"><div class=\"sk-text-repr-fallback\"><pre>XGBRegressor(base_score=None, booster=None, callbacks=None,\n",
       "             colsample_bylevel=None, colsample_bynode=None,\n",
       "             colsample_bytree=None, device=None, early_stopping_rounds=None,\n",
       "             enable_categorical=False, eval_metric=None, feature_types=None,\n",
       "             gamma=None, grow_policy=None, importance_type=None,\n",
       "             interaction_constraints=None, learning_rate=None, max_bin=None,\n",
       "             max_cat_threshold=None, max_cat_to_onehot=None,\n",
       "             max_delta_step=None, max_depth=None, max_leaves=None,\n",
       "             min_child_weight=None, missing=nan, monotone_constraints=None,\n",
       "             multi_strategy=None, n_estimators=None, n_jobs=None,\n",
       "             num_parallel_tree=None, random_state=None, ...)</pre><b>In a Jupyter environment, please rerun this cell to show the HTML representation or trust the notebook. <br />On GitHub, the HTML representation is unable to render, please try loading this page with nbviewer.org.</b></div><div class=\"sk-container\" hidden><div class=\"sk-item\"><div class=\"sk-estimator sk-toggleable\"><input class=\"sk-toggleable__control sk-hidden--visually\" id=\"sk-estimator-id-2\" type=\"checkbox\" checked><label for=\"sk-estimator-id-2\" class=\"sk-toggleable__label sk-toggleable__label-arrow\">XGBRegressor</label><div class=\"sk-toggleable__content\"><pre>XGBRegressor(base_score=None, booster=None, callbacks=None,\n",
       "             colsample_bylevel=None, colsample_bynode=None,\n",
       "             colsample_bytree=None, device=None, early_stopping_rounds=None,\n",
       "             enable_categorical=False, eval_metric=None, feature_types=None,\n",
       "             gamma=None, grow_policy=None, importance_type=None,\n",
       "             interaction_constraints=None, learning_rate=None, max_bin=None,\n",
       "             max_cat_threshold=None, max_cat_to_onehot=None,\n",
       "             max_delta_step=None, max_depth=None, max_leaves=None,\n",
       "             min_child_weight=None, missing=nan, monotone_constraints=None,\n",
       "             multi_strategy=None, n_estimators=None, n_jobs=None,\n",
       "             num_parallel_tree=None, random_state=None, ...)</pre></div></div></div></div></div>"
      ],
      "text/plain": [
       "XGBRegressor(base_score=None, booster=None, callbacks=None,\n",
       "             colsample_bylevel=None, colsample_bynode=None,\n",
       "             colsample_bytree=None, device=None, early_stopping_rounds=None,\n",
       "             enable_categorical=False, eval_metric=None, feature_types=None,\n",
       "             gamma=None, grow_policy=None, importance_type=None,\n",
       "             interaction_constraints=None, learning_rate=None, max_bin=None,\n",
       "             max_cat_threshold=None, max_cat_to_onehot=None,\n",
       "             max_delta_step=None, max_depth=None, max_leaves=None,\n",
       "             min_child_weight=None, missing=nan, monotone_constraints=None,\n",
       "             multi_strategy=None, n_estimators=None, n_jobs=None,\n",
       "             num_parallel_tree=None, random_state=None, ...)"
      ]
     },
     "execution_count": 52,
     "metadata": {},
     "output_type": "execute_result"
    }
   ],
   "source": [
    "regressor = XGBRegressor()\n",
    "regressor.fit(X_train, y_train)"
   ]
  },
  {
   "cell_type": "code",
   "execution_count": 53,
   "metadata": {},
   "outputs": [],
   "source": [
    "y_pred = regressor.predict(X_test)"
   ]
  },
  {
   "cell_type": "code",
   "execution_count": 54,
   "metadata": {},
   "outputs": [
    {
     "data": {
      "text/plain": [
       "array([[ 3.0605316,  8.962853 ,  5.332557 ],\n",
       "       [ 1.6624138, 10.807027 ,  2.8025804],\n",
       "       [ 2.0342035, 10.7027445,  4.0859714],\n",
       "       [ 2.978788 , 12.786759 ,  5.806867 ],\n",
       "       [ 1.8098342,  9.049013 ,  3.023615 ],\n",
       "       [ 2.0185375, 11.0030365,  3.9628763],\n",
       "       [ 2.1430464,  9.755803 ,  3.8631697]], dtype=float32)"
      ]
     },
     "execution_count": 54,
     "metadata": {},
     "output_type": "execute_result"
    }
   ],
   "source": [
    "y_pred"
   ]
  },
  {
   "cell_type": "code",
   "execution_count": 55,
   "metadata": {},
   "outputs": [
    {
     "data": {
      "text/plain": [
       "array([[ 3.23,  9.48,  7.31],\n",
       "       [ 2.08,  9.74,  2.08],\n",
       "       [ 1.96, 10.4 ,  4.34],\n",
       "       [ 2.79, 13.14,  6.4 ],\n",
       "       [ 2.09,  8.08,  2.6 ],\n",
       "       [ 1.93, 11.4 ,  3.94],\n",
       "       [ 1.98,  9.26,  3.59]])"
      ]
     },
     "execution_count": 55,
     "metadata": {},
     "output_type": "execute_result"
    }
   ],
   "source": [
    "y_test"
   ]
  },
  {
   "cell_type": "code",
   "execution_count": 56,
   "metadata": {},
   "outputs": [
    {
     "data": {
      "text/plain": [
       "0.7848029133381121"
      ]
     },
     "execution_count": 56,
     "metadata": {},
     "output_type": "execute_result"
    }
   ],
   "source": [
    "from sklearn.metrics import r2_score\n",
    "r2_score(y_test, y_pred)"
   ]
  },
  {
   "cell_type": "code",
   "execution_count": 57,
   "metadata": {},
   "outputs": [
    {
     "data": {
      "text/html": [
       "<div>\n",
       "<style scoped>\n",
       "    .dataframe tbody tr th:only-of-type {\n",
       "        vertical-align: middle;\n",
       "    }\n",
       "\n",
       "    .dataframe tbody tr th {\n",
       "        vertical-align: top;\n",
       "    }\n",
       "\n",
       "    .dataframe thead th {\n",
       "        text-align: right;\n",
       "    }\n",
       "</style>\n",
       "<table border=\"1\" class=\"dataframe\">\n",
       "  <thead>\n",
       "    <tr style=\"text-align: right;\">\n",
       "      <th></th>\n",
       "      <th>Weld no.</th>\n",
       "      <th>V</th>\n",
       "      <th>A</th>\n",
       "      <th>S</th>\n",
       "      <th>N</th>\n",
       "      <th>H</th>\n",
       "      <th>W</th>\n",
       "      <th>P</th>\n",
       "    </tr>\n",
       "  </thead>\n",
       "  <tbody>\n",
       "    <tr>\n",
       "      <th>0</th>\n",
       "      <td>5</td>\n",
       "      <td>25.5</td>\n",
       "      <td>325</td>\n",
       "      <td>15</td>\n",
       "      <td>23.5</td>\n",
       "      <td>2.03</td>\n",
       "      <td>10.27</td>\n",
       "      <td>3.05</td>\n",
       "    </tr>\n",
       "    <tr>\n",
       "      <th>1</th>\n",
       "      <td>8</td>\n",
       "      <td>32.5</td>\n",
       "      <td>475</td>\n",
       "      <td>15</td>\n",
       "      <td>23.5</td>\n",
       "      <td>1.99</td>\n",
       "      <td>9.42</td>\n",
       "      <td>5.37</td>\n",
       "    </tr>\n",
       "    <tr>\n",
       "      <th>2</th>\n",
       "      <td>16</td>\n",
       "      <td>32.5</td>\n",
       "      <td>475</td>\n",
       "      <td>15</td>\n",
       "      <td>30.5</td>\n",
       "      <td>3.05</td>\n",
       "      <td>10.58</td>\n",
       "      <td>4.19</td>\n",
       "    </tr>\n",
       "    <tr>\n",
       "      <th>3</th>\n",
       "      <td>23</td>\n",
       "      <td>29.0</td>\n",
       "      <td>400</td>\n",
       "      <td>12</td>\n",
       "      <td>20.0</td>\n",
       "      <td>1.96</td>\n",
       "      <td>10.40</td>\n",
       "      <td>4.34</td>\n",
       "    </tr>\n",
       "    <tr>\n",
       "      <th>4</th>\n",
       "      <td>31</td>\n",
       "      <td>29.0</td>\n",
       "      <td>400</td>\n",
       "      <td>12</td>\n",
       "      <td>27.0</td>\n",
       "      <td>1.94</td>\n",
       "      <td>10.72</td>\n",
       "      <td>3.68</td>\n",
       "    </tr>\n",
       "  </tbody>\n",
       "</table>\n",
       "</div>"
      ],
      "text/plain": [
       "   Weld no.     V    A   S     N     H      W     P\n",
       "0         5  25.5  325  15  23.5  2.03  10.27  3.05\n",
       "1         8  32.5  475  15  23.5  1.99   9.42  5.37\n",
       "2        16  32.5  475  15  30.5  3.05  10.58  4.19\n",
       "3        23  29.0  400  12  20.0  1.96  10.40  4.34\n",
       "4        31  29.0  400  12  27.0  1.94  10.72  3.68"
      ]
     },
     "execution_count": 57,
     "metadata": {},
     "output_type": "execute_result"
    }
   ],
   "source": [
    "test_data = pd.read_excel('model/data-welding.xlsx', sheet_name='Sheet3')\n",
    "test_data"
   ]
  },
  {
   "cell_type": "code",
   "execution_count": 58,
   "metadata": {},
   "outputs": [
    {
     "data": {
      "text/plain": [
       "array([[ 2.0312629, 10.270511 ,  3.0516596],\n",
       "       [ 1.9897397,  9.421179 ,  5.369852 ],\n",
       "       [ 3.0491655, 10.578496 ,  4.192153 ],\n",
       "       [ 2.0342035, 10.7027445,  4.0859714],\n",
       "       [ 2.0185375, 11.0030365,  3.9628763]], dtype=float32)"
      ]
     },
     "execution_count": 58,
     "metadata": {},
     "output_type": "execute_result"
    }
   ],
   "source": [
    "pred = regressor.predict(test_data.iloc[:, 1:5])\n",
    "pred"
   ]
  },
  {
   "cell_type": "code",
   "execution_count": 59,
   "metadata": {},
   "outputs": [
    {
     "data": {
      "text/html": [
       "<div>\n",
       "<style scoped>\n",
       "    .dataframe tbody tr th:only-of-type {\n",
       "        vertical-align: middle;\n",
       "    }\n",
       "\n",
       "    .dataframe tbody tr th {\n",
       "        vertical-align: top;\n",
       "    }\n",
       "\n",
       "    .dataframe thead th {\n",
       "        text-align: right;\n",
       "    }\n",
       "</style>\n",
       "<table border=\"1\" class=\"dataframe\">\n",
       "  <thead>\n",
       "    <tr style=\"text-align: right;\">\n",
       "      <th></th>\n",
       "      <th>H</th>\n",
       "      <th>W</th>\n",
       "      <th>P</th>\n",
       "    </tr>\n",
       "  </thead>\n",
       "  <tbody>\n",
       "    <tr>\n",
       "      <th>0</th>\n",
       "      <td>2.03</td>\n",
       "      <td>10.27</td>\n",
       "      <td>3.05</td>\n",
       "    </tr>\n",
       "    <tr>\n",
       "      <th>1</th>\n",
       "      <td>1.99</td>\n",
       "      <td>9.42</td>\n",
       "      <td>5.37</td>\n",
       "    </tr>\n",
       "    <tr>\n",
       "      <th>2</th>\n",
       "      <td>3.05</td>\n",
       "      <td>10.58</td>\n",
       "      <td>4.19</td>\n",
       "    </tr>\n",
       "    <tr>\n",
       "      <th>3</th>\n",
       "      <td>1.96</td>\n",
       "      <td>10.40</td>\n",
       "      <td>4.34</td>\n",
       "    </tr>\n",
       "    <tr>\n",
       "      <th>4</th>\n",
       "      <td>1.94</td>\n",
       "      <td>10.72</td>\n",
       "      <td>3.68</td>\n",
       "    </tr>\n",
       "  </tbody>\n",
       "</table>\n",
       "</div>"
      ],
      "text/plain": [
       "      H      W     P\n",
       "0  2.03  10.27  3.05\n",
       "1  1.99   9.42  5.37\n",
       "2  3.05  10.58  4.19\n",
       "3  1.96  10.40  4.34\n",
       "4  1.94  10.72  3.68"
      ]
     },
     "execution_count": 59,
     "metadata": {},
     "output_type": "execute_result"
    }
   ],
   "source": [
    "actual = test_data.iloc[:, -3:]\n",
    "actual"
   ]
  },
  {
   "cell_type": "code",
   "execution_count": 60,
   "metadata": {},
   "outputs": [
    {
     "data": {
      "text/html": [
       "<div>\n",
       "<style scoped>\n",
       "    .dataframe tbody tr th:only-of-type {\n",
       "        vertical-align: middle;\n",
       "    }\n",
       "\n",
       "    .dataframe tbody tr th {\n",
       "        vertical-align: top;\n",
       "    }\n",
       "\n",
       "    .dataframe thead th {\n",
       "        text-align: right;\n",
       "    }\n",
       "</style>\n",
       "<table border=\"1\" class=\"dataframe\">\n",
       "  <thead>\n",
       "    <tr style=\"text-align: right;\">\n",
       "      <th></th>\n",
       "      <th>H</th>\n",
       "      <th>W</th>\n",
       "      <th>P</th>\n",
       "    </tr>\n",
       "  </thead>\n",
       "  <tbody>\n",
       "    <tr>\n",
       "      <th>0</th>\n",
       "      <td>0.062211</td>\n",
       "      <td>0.004972</td>\n",
       "      <td>0.054413</td>\n",
       "    </tr>\n",
       "    <tr>\n",
       "      <th>1</th>\n",
       "      <td>-0.013083</td>\n",
       "      <td>0.012514</td>\n",
       "      <td>-0.002755</td>\n",
       "    </tr>\n",
       "    <tr>\n",
       "      <th>2</th>\n",
       "      <td>-0.027361</td>\n",
       "      <td>-0.014216</td>\n",
       "      <td>0.051384</td>\n",
       "    </tr>\n",
       "    <tr>\n",
       "      <th>3</th>\n",
       "      <td>3.785894</td>\n",
       "      <td>2.911005</td>\n",
       "      <td>-5.853195</td>\n",
       "    </tr>\n",
       "    <tr>\n",
       "      <th>4</th>\n",
       "      <td>4.048326</td>\n",
       "      <td>2.640266</td>\n",
       "      <td>7.686857</td>\n",
       "    </tr>\n",
       "  </tbody>\n",
       "</table>\n",
       "</div>"
      ],
      "text/plain": [
       "          H         W         P\n",
       "0  0.062211  0.004972  0.054413\n",
       "1 -0.013083  0.012514 -0.002755\n",
       "2 -0.027361 -0.014216  0.051384\n",
       "3  3.785894  2.911005 -5.853195\n",
       "4  4.048326  2.640266  7.686857"
      ]
     },
     "execution_count": 60,
     "metadata": {},
     "output_type": "execute_result"
    }
   ],
   "source": [
    "percentage_error = (pred - actual) / actual * 100\n",
    "percentage_error"
   ]
  },
  {
   "cell_type": "code",
   "execution_count": 61,
   "metadata": {},
   "outputs": [
    {
     "name": "stderr",
     "output_type": "stream",
     "text": [
      "c:\\Users\\aritr\\AppData\\Local\\Programs\\Python\\Python311\\Lib\\site-packages\\xgboost\\core.py:160: UserWarning:\n",
      "\n",
      "[00:09:49] WARNING: C:\\buildkite-agent\\builds\\buildkite-windows-cpu-autoscaling-group-i-0b3782d1791676daf-1\\xgboost\\xgboost-ci-windows\\src\\c_api\\c_api.cc:1240: Saving into deprecated binary model format, please consider using `json` or `ubj`. Model format will default to JSON in XGBoost 2.2 if not specified.\n",
      "\n"
     ]
    },
    {
     "data": {
      "text/plain": [
       "array([[ 3.0605316,  8.962853 ,  5.332557 ],\n",
       "       [ 1.6624138, 10.807027 ,  2.8025804],\n",
       "       [ 2.0342035, 10.7027445,  4.0859714],\n",
       "       [ 2.978788 , 12.786759 ,  5.806867 ],\n",
       "       [ 1.8098342,  9.049013 ,  3.023615 ],\n",
       "       [ 2.0185375, 11.0030365,  3.9628763],\n",
       "       [ 2.1430464,  9.755803 ,  3.8631697]], dtype=float32)"
      ]
     },
     "execution_count": 61,
     "metadata": {},
     "output_type": "execute_result"
    }
   ],
   "source": [
    "import pickle\n",
    "\n",
    "filename = 'finalized_model.sav'\n",
    "# pickle.dump(regressor, open(filename, 'wb'))\n",
    "\n",
    "regressor.save_model(f'model/{filename}')\n",
    "regressor.load_model(f'model/{filename}')\n",
    "regressor.predict(X_test)"
   ]
  },
  {
   "cell_type": "markdown",
   "metadata": {},
   "source": [
    "## Graphs"
   ]
  },
  {
   "cell_type": "code",
   "execution_count": 62,
   "metadata": {},
   "outputs": [
    {
     "data": {
      "application/vnd.plotly.v1+json": {
       "config": {
        "plotlyServerURL": "https://plot.ly"
       },
       "data": [
        {
         "hovertemplate": "variable=Bead height (H)<br>V=%{x}<br>value=%{y}<extra></extra>",
         "legendgroup": "Bead height (H)",
         "marker": {
          "color": "#636efa",
          "symbol": "circle"
         },
         "mode": "markers",
         "name": "Bead height (H)",
         "orientation": "v",
         "showlegend": true,
         "type": "scatter",
         "x": [
          22.5,
          32.5,
          22.5,
          32.5,
          22.5,
          32.5,
          22.5,
          32.5,
          22.5,
          32.5,
          22.5,
          32.5,
          22.5,
          32.5,
          22.5,
          32.5,
          22,
          36,
          29,
          29,
          29,
          29,
          29,
          29,
          29,
          29,
          29,
          29,
          29,
          29,
          29
         ],
         "xaxis": "x",
         "y": [
          2.38,
          2.54,
          3.07,
          2.79,
          2.03,
          1.98,
          1.89,
          1.99,
          1.81,
          1.66,
          3.23,
          2.72,
          2.09,
          2.08,
          3.66,
          3.05,
          2.72,
          2.13,
          1.96,
          3.2,
          2.31,
          2.1,
          1.96,
          2.07,
          2.29,
          2.14,
          1.79,
          2.2,
          1.93,
          1.75,
          1.94
         ],
         "yaxis": "y"
        },
        {
         "hovertemplate": "<b>LOWESS trendline</b><br><br>variable=Bead height (H)<br>V=%{x}<br>value=%{y} <b>(trend)</b><extra></extra>",
         "legendgroup": "Bead height (H)",
         "marker": {
          "color": "#636efa",
          "symbol": "circle"
         },
         "mode": "lines",
         "name": "Bead height (H)",
         "showlegend": false,
         "type": "scatter",
         "x": [
          22,
          22.5,
          22.5,
          22.5,
          22.5,
          22.5,
          22.5,
          22.5,
          22.5,
          29,
          29,
          29,
          29,
          29,
          29,
          29,
          29,
          29,
          29,
          29,
          29,
          29,
          32.5,
          32.5,
          32.5,
          32.5,
          32.5,
          32.5,
          32.5,
          32.5,
          36
         ],
         "xaxis": "x",
         "y": [
          2.720000000000001,
          2.3419117312298754,
          2.3419117312298754,
          2.3419117312298754,
          2.3419117312298754,
          2.3419117312298754,
          2.3419117312298754,
          2.3419117312298754,
          2.3419117312298754,
          2.068890809699046,
          2.068890809699046,
          2.068890809699046,
          2.068890809699046,
          2.068890809699046,
          2.068890809699046,
          2.068890809699046,
          2.068890809699046,
          2.068890809699046,
          2.068890809699046,
          2.068890809699046,
          2.068890809699046,
          2.068890809699046,
          2.347189756429462,
          2.347189756429462,
          2.347189756429462,
          2.347189756429462,
          2.347189756429462,
          2.347189756429462,
          2.347189756429462,
          2.347189756429462,
          2.129999999999987
         ],
         "yaxis": "y"
        },
        {
         "hovertemplate": "variable=Bead width (W)<br>V=%{x}<br>value=%{y}<extra></extra>",
         "legendgroup": "Bead width (W)",
         "marker": {
          "color": "#EF553B",
          "symbol": "circle"
         },
         "mode": "markers",
         "name": "Bead width (W)",
         "orientation": "v",
         "showlegend": true,
         "type": "scatter",
         "x": [
          22.5,
          32.5,
          22.5,
          32.5,
          22.5,
          32.5,
          22.5,
          32.5,
          22.5,
          32.5,
          22.5,
          32.5,
          22.5,
          32.5,
          22.5,
          32.5,
          22,
          36,
          29,
          29,
          29,
          29,
          29,
          29,
          29,
          29,
          29,
          29,
          29,
          29,
          29
         ],
         "xaxis": "x",
         "y": [
          10.55,
          12.43,
          9.76,
          13.14,
          10.27,
          9.26,
          9.37,
          9.42,
          9.17,
          11.21,
          9.48,
          12.79,
          8.08,
          9.74,
          8.48,
          10.58,
          8.82,
          11.4,
          8.4,
          9.34,
          13.95,
          9.33,
          10.4,
          9.87,
          10.55,
          11.15,
          10.73,
          11.68,
          11.4,
          11.19,
          10.72
         ],
         "yaxis": "y"
        },
        {
         "hovertemplate": "<b>LOWESS trendline</b><br><br>variable=Bead width (W)<br>V=%{x}<br>value=%{y} <b>(trend)</b><extra></extra>",
         "legendgroup": "Bead width (W)",
         "marker": {
          "color": "#EF553B",
          "symbol": "circle"
         },
         "mode": "lines",
         "name": "Bead width (W)",
         "showlegend": false,
         "type": "scatter",
         "x": [
          22,
          22.5,
          22.5,
          22.5,
          22.5,
          22.5,
          22.5,
          22.5,
          22.5,
          29,
          29,
          29,
          29,
          29,
          29,
          29,
          29,
          29,
          29,
          29,
          29,
          29,
          32.5,
          32.5,
          32.5,
          32.5,
          32.5,
          32.5,
          32.5,
          32.5,
          36
         ],
         "xaxis": "x",
         "y": [
          8.820000000000505,
          9.403419746705778,
          9.403419746705778,
          9.403419746705778,
          9.403419746705778,
          9.403419746705778,
          9.403419746705778,
          9.403419746705778,
          9.403419746705778,
          10.55052648478894,
          10.55052648478894,
          10.55052648478894,
          10.55052648478894,
          10.55052648478894,
          10.55052648478894,
          10.55052648478894,
          10.55052648478894,
          10.55052648478894,
          10.55052648478894,
          10.55052648478894,
          10.55052648478894,
          10.55052648478894,
          11.018087479112967,
          11.018087479112967,
          11.018087479112967,
          11.018087479112967,
          11.018087479112967,
          11.018087479112967,
          11.018087479112967,
          11.018087479112967,
          11.399999999999869
         ],
         "yaxis": "y"
        },
        {
         "hovertemplate": "variable=Bead Penetration (P)<br>V=%{x}<br>value=%{y}<extra></extra>",
         "legendgroup": "Bead Penetration (P)",
         "marker": {
          "color": "#00cc96",
          "symbol": "circle"
         },
         "mode": "markers",
         "name": "Bead Penetration (P)",
         "orientation": "v",
         "showlegend": true,
         "type": "scatter",
         "x": [
          22.5,
          32.5,
          22.5,
          32.5,
          22.5,
          32.5,
          22.5,
          32.5,
          22.5,
          32.5,
          22.5,
          32.5,
          22.5,
          32.5,
          22.5,
          32.5,
          22,
          36,
          29,
          29,
          29,
          29,
          29,
          29,
          29,
          29,
          29,
          29,
          29,
          29,
          29
         ],
         "xaxis": "x",
         "y": [
          3.94,
          5.08,
          5.12,
          6.4,
          3.05,
          3.59,
          4.79,
          5.37,
          3.33,
          3.18,
          7.31,
          5.77,
          2.6,
          2.08,
          6.06,
          4.19,
          4.44,
          5.3,
          2.35,
          5.76,
          4.88,
          3.24,
          4.34,
          3.43,
          3.6,
          3.66,
          4.37,
          4.17,
          3.94,
          4.3,
          3.68
         ],
         "yaxis": "y"
        },
        {
         "hovertemplate": "<b>LOWESS trendline</b><br><br>variable=Bead Penetration (P)<br>V=%{x}<br>value=%{y} <b>(trend)</b><extra></extra>",
         "legendgroup": "Bead Penetration (P)",
         "marker": {
          "color": "#00cc96",
          "symbol": "circle"
         },
         "mode": "lines",
         "name": "Bead Penetration (P)",
         "showlegend": false,
         "type": "scatter",
         "x": [
          22,
          22.5,
          22.5,
          22.5,
          22.5,
          22.5,
          22.5,
          22.5,
          22.5,
          29,
          29,
          29,
          29,
          29,
          29,
          29,
          29,
          29,
          29,
          29,
          29,
          29,
          32.5,
          32.5,
          32.5,
          32.5,
          32.5,
          32.5,
          32.5,
          32.5,
          36
         ],
         "xaxis": "x",
         "y": [
          4.440000000000217,
          4.255179548163136,
          4.255179548163136,
          4.255179548163136,
          4.255179548163136,
          4.255179548163136,
          4.255179548163136,
          4.255179548163136,
          4.255179548163136,
          3.964949146498905,
          3.964949146498905,
          3.964949146498905,
          3.964949146498905,
          3.964949146498905,
          3.964949146498905,
          3.964949146498905,
          3.964949146498905,
          3.964949146498905,
          3.964949146498905,
          3.964949146498905,
          3.964949146498905,
          3.964949146498905,
          4.567823544105371,
          4.567823544105371,
          4.567823544105371,
          4.567823544105371,
          4.567823544105371,
          4.567823544105371,
          4.567823544105371,
          4.567823544105371,
          5.300000000000057
         ],
         "yaxis": "y"
        }
       ],
       "layout": {
        "legend": {
         "title": {
          "text": "variable"
         },
         "tracegroupgap": 0
        },
        "margin": {
         "t": 60
        },
        "template": {
         "data": {
          "bar": [
           {
            "error_x": {
             "color": "#2a3f5f"
            },
            "error_y": {
             "color": "#2a3f5f"
            },
            "marker": {
             "line": {
              "color": "#E5ECF6",
              "width": 0.5
             },
             "pattern": {
              "fillmode": "overlay",
              "size": 10,
              "solidity": 0.2
             }
            },
            "type": "bar"
           }
          ],
          "barpolar": [
           {
            "marker": {
             "line": {
              "color": "#E5ECF6",
              "width": 0.5
             },
             "pattern": {
              "fillmode": "overlay",
              "size": 10,
              "solidity": 0.2
             }
            },
            "type": "barpolar"
           }
          ],
          "carpet": [
           {
            "aaxis": {
             "endlinecolor": "#2a3f5f",
             "gridcolor": "white",
             "linecolor": "white",
             "minorgridcolor": "white",
             "startlinecolor": "#2a3f5f"
            },
            "baxis": {
             "endlinecolor": "#2a3f5f",
             "gridcolor": "white",
             "linecolor": "white",
             "minorgridcolor": "white",
             "startlinecolor": "#2a3f5f"
            },
            "type": "carpet"
           }
          ],
          "choropleth": [
           {
            "colorbar": {
             "outlinewidth": 0,
             "ticks": ""
            },
            "type": "choropleth"
           }
          ],
          "contour": [
           {
            "colorbar": {
             "outlinewidth": 0,
             "ticks": ""
            },
            "colorscale": [
             [
              0,
              "#0d0887"
             ],
             [
              0.1111111111111111,
              "#46039f"
             ],
             [
              0.2222222222222222,
              "#7201a8"
             ],
             [
              0.3333333333333333,
              "#9c179e"
             ],
             [
              0.4444444444444444,
              "#bd3786"
             ],
             [
              0.5555555555555556,
              "#d8576b"
             ],
             [
              0.6666666666666666,
              "#ed7953"
             ],
             [
              0.7777777777777778,
              "#fb9f3a"
             ],
             [
              0.8888888888888888,
              "#fdca26"
             ],
             [
              1,
              "#f0f921"
             ]
            ],
            "type": "contour"
           }
          ],
          "contourcarpet": [
           {
            "colorbar": {
             "outlinewidth": 0,
             "ticks": ""
            },
            "type": "contourcarpet"
           }
          ],
          "heatmap": [
           {
            "colorbar": {
             "outlinewidth": 0,
             "ticks": ""
            },
            "colorscale": [
             [
              0,
              "#0d0887"
             ],
             [
              0.1111111111111111,
              "#46039f"
             ],
             [
              0.2222222222222222,
              "#7201a8"
             ],
             [
              0.3333333333333333,
              "#9c179e"
             ],
             [
              0.4444444444444444,
              "#bd3786"
             ],
             [
              0.5555555555555556,
              "#d8576b"
             ],
             [
              0.6666666666666666,
              "#ed7953"
             ],
             [
              0.7777777777777778,
              "#fb9f3a"
             ],
             [
              0.8888888888888888,
              "#fdca26"
             ],
             [
              1,
              "#f0f921"
             ]
            ],
            "type": "heatmap"
           }
          ],
          "heatmapgl": [
           {
            "colorbar": {
             "outlinewidth": 0,
             "ticks": ""
            },
            "colorscale": [
             [
              0,
              "#0d0887"
             ],
             [
              0.1111111111111111,
              "#46039f"
             ],
             [
              0.2222222222222222,
              "#7201a8"
             ],
             [
              0.3333333333333333,
              "#9c179e"
             ],
             [
              0.4444444444444444,
              "#bd3786"
             ],
             [
              0.5555555555555556,
              "#d8576b"
             ],
             [
              0.6666666666666666,
              "#ed7953"
             ],
             [
              0.7777777777777778,
              "#fb9f3a"
             ],
             [
              0.8888888888888888,
              "#fdca26"
             ],
             [
              1,
              "#f0f921"
             ]
            ],
            "type": "heatmapgl"
           }
          ],
          "histogram": [
           {
            "marker": {
             "pattern": {
              "fillmode": "overlay",
              "size": 10,
              "solidity": 0.2
             }
            },
            "type": "histogram"
           }
          ],
          "histogram2d": [
           {
            "colorbar": {
             "outlinewidth": 0,
             "ticks": ""
            },
            "colorscale": [
             [
              0,
              "#0d0887"
             ],
             [
              0.1111111111111111,
              "#46039f"
             ],
             [
              0.2222222222222222,
              "#7201a8"
             ],
             [
              0.3333333333333333,
              "#9c179e"
             ],
             [
              0.4444444444444444,
              "#bd3786"
             ],
             [
              0.5555555555555556,
              "#d8576b"
             ],
             [
              0.6666666666666666,
              "#ed7953"
             ],
             [
              0.7777777777777778,
              "#fb9f3a"
             ],
             [
              0.8888888888888888,
              "#fdca26"
             ],
             [
              1,
              "#f0f921"
             ]
            ],
            "type": "histogram2d"
           }
          ],
          "histogram2dcontour": [
           {
            "colorbar": {
             "outlinewidth": 0,
             "ticks": ""
            },
            "colorscale": [
             [
              0,
              "#0d0887"
             ],
             [
              0.1111111111111111,
              "#46039f"
             ],
             [
              0.2222222222222222,
              "#7201a8"
             ],
             [
              0.3333333333333333,
              "#9c179e"
             ],
             [
              0.4444444444444444,
              "#bd3786"
             ],
             [
              0.5555555555555556,
              "#d8576b"
             ],
             [
              0.6666666666666666,
              "#ed7953"
             ],
             [
              0.7777777777777778,
              "#fb9f3a"
             ],
             [
              0.8888888888888888,
              "#fdca26"
             ],
             [
              1,
              "#f0f921"
             ]
            ],
            "type": "histogram2dcontour"
           }
          ],
          "mesh3d": [
           {
            "colorbar": {
             "outlinewidth": 0,
             "ticks": ""
            },
            "type": "mesh3d"
           }
          ],
          "parcoords": [
           {
            "line": {
             "colorbar": {
              "outlinewidth": 0,
              "ticks": ""
             }
            },
            "type": "parcoords"
           }
          ],
          "pie": [
           {
            "automargin": true,
            "type": "pie"
           }
          ],
          "scatter": [
           {
            "fillpattern": {
             "fillmode": "overlay",
             "size": 10,
             "solidity": 0.2
            },
            "type": "scatter"
           }
          ],
          "scatter3d": [
           {
            "line": {
             "colorbar": {
              "outlinewidth": 0,
              "ticks": ""
             }
            },
            "marker": {
             "colorbar": {
              "outlinewidth": 0,
              "ticks": ""
             }
            },
            "type": "scatter3d"
           }
          ],
          "scattercarpet": [
           {
            "marker": {
             "colorbar": {
              "outlinewidth": 0,
              "ticks": ""
             }
            },
            "type": "scattercarpet"
           }
          ],
          "scattergeo": [
           {
            "marker": {
             "colorbar": {
              "outlinewidth": 0,
              "ticks": ""
             }
            },
            "type": "scattergeo"
           }
          ],
          "scattergl": [
           {
            "marker": {
             "colorbar": {
              "outlinewidth": 0,
              "ticks": ""
             }
            },
            "type": "scattergl"
           }
          ],
          "scattermapbox": [
           {
            "marker": {
             "colorbar": {
              "outlinewidth": 0,
              "ticks": ""
             }
            },
            "type": "scattermapbox"
           }
          ],
          "scatterpolar": [
           {
            "marker": {
             "colorbar": {
              "outlinewidth": 0,
              "ticks": ""
             }
            },
            "type": "scatterpolar"
           }
          ],
          "scatterpolargl": [
           {
            "marker": {
             "colorbar": {
              "outlinewidth": 0,
              "ticks": ""
             }
            },
            "type": "scatterpolargl"
           }
          ],
          "scatterternary": [
           {
            "marker": {
             "colorbar": {
              "outlinewidth": 0,
              "ticks": ""
             }
            },
            "type": "scatterternary"
           }
          ],
          "surface": [
           {
            "colorbar": {
             "outlinewidth": 0,
             "ticks": ""
            },
            "colorscale": [
             [
              0,
              "#0d0887"
             ],
             [
              0.1111111111111111,
              "#46039f"
             ],
             [
              0.2222222222222222,
              "#7201a8"
             ],
             [
              0.3333333333333333,
              "#9c179e"
             ],
             [
              0.4444444444444444,
              "#bd3786"
             ],
             [
              0.5555555555555556,
              "#d8576b"
             ],
             [
              0.6666666666666666,
              "#ed7953"
             ],
             [
              0.7777777777777778,
              "#fb9f3a"
             ],
             [
              0.8888888888888888,
              "#fdca26"
             ],
             [
              1,
              "#f0f921"
             ]
            ],
            "type": "surface"
           }
          ],
          "table": [
           {
            "cells": {
             "fill": {
              "color": "#EBF0F8"
             },
             "line": {
              "color": "white"
             }
            },
            "header": {
             "fill": {
              "color": "#C8D4E3"
             },
             "line": {
              "color": "white"
             }
            },
            "type": "table"
           }
          ]
         },
         "layout": {
          "annotationdefaults": {
           "arrowcolor": "#2a3f5f",
           "arrowhead": 0,
           "arrowwidth": 1
          },
          "autotypenumbers": "strict",
          "coloraxis": {
           "colorbar": {
            "outlinewidth": 0,
            "ticks": ""
           }
          },
          "colorscale": {
           "diverging": [
            [
             0,
             "#8e0152"
            ],
            [
             0.1,
             "#c51b7d"
            ],
            [
             0.2,
             "#de77ae"
            ],
            [
             0.3,
             "#f1b6da"
            ],
            [
             0.4,
             "#fde0ef"
            ],
            [
             0.5,
             "#f7f7f7"
            ],
            [
             0.6,
             "#e6f5d0"
            ],
            [
             0.7,
             "#b8e186"
            ],
            [
             0.8,
             "#7fbc41"
            ],
            [
             0.9,
             "#4d9221"
            ],
            [
             1,
             "#276419"
            ]
           ],
           "sequential": [
            [
             0,
             "#0d0887"
            ],
            [
             0.1111111111111111,
             "#46039f"
            ],
            [
             0.2222222222222222,
             "#7201a8"
            ],
            [
             0.3333333333333333,
             "#9c179e"
            ],
            [
             0.4444444444444444,
             "#bd3786"
            ],
            [
             0.5555555555555556,
             "#d8576b"
            ],
            [
             0.6666666666666666,
             "#ed7953"
            ],
            [
             0.7777777777777778,
             "#fb9f3a"
            ],
            [
             0.8888888888888888,
             "#fdca26"
            ],
            [
             1,
             "#f0f921"
            ]
           ],
           "sequentialminus": [
            [
             0,
             "#0d0887"
            ],
            [
             0.1111111111111111,
             "#46039f"
            ],
            [
             0.2222222222222222,
             "#7201a8"
            ],
            [
             0.3333333333333333,
             "#9c179e"
            ],
            [
             0.4444444444444444,
             "#bd3786"
            ],
            [
             0.5555555555555556,
             "#d8576b"
            ],
            [
             0.6666666666666666,
             "#ed7953"
            ],
            [
             0.7777777777777778,
             "#fb9f3a"
            ],
            [
             0.8888888888888888,
             "#fdca26"
            ],
            [
             1,
             "#f0f921"
            ]
           ]
          },
          "colorway": [
           "#636efa",
           "#EF553B",
           "#00cc96",
           "#ab63fa",
           "#FFA15A",
           "#19d3f3",
           "#FF6692",
           "#B6E880",
           "#FF97FF",
           "#FECB52"
          ],
          "font": {
           "color": "#2a3f5f"
          },
          "geo": {
           "bgcolor": "white",
           "lakecolor": "white",
           "landcolor": "#E5ECF6",
           "showlakes": true,
           "showland": true,
           "subunitcolor": "white"
          },
          "hoverlabel": {
           "align": "left"
          },
          "hovermode": "closest",
          "mapbox": {
           "style": "light"
          },
          "paper_bgcolor": "white",
          "plot_bgcolor": "#E5ECF6",
          "polar": {
           "angularaxis": {
            "gridcolor": "white",
            "linecolor": "white",
            "ticks": ""
           },
           "bgcolor": "#E5ECF6",
           "radialaxis": {
            "gridcolor": "white",
            "linecolor": "white",
            "ticks": ""
           }
          },
          "scene": {
           "xaxis": {
            "backgroundcolor": "#E5ECF6",
            "gridcolor": "white",
            "gridwidth": 2,
            "linecolor": "white",
            "showbackground": true,
            "ticks": "",
            "zerolinecolor": "white"
           },
           "yaxis": {
            "backgroundcolor": "#E5ECF6",
            "gridcolor": "white",
            "gridwidth": 2,
            "linecolor": "white",
            "showbackground": true,
            "ticks": "",
            "zerolinecolor": "white"
           },
           "zaxis": {
            "backgroundcolor": "#E5ECF6",
            "gridcolor": "white",
            "gridwidth": 2,
            "linecolor": "white",
            "showbackground": true,
            "ticks": "",
            "zerolinecolor": "white"
           }
          },
          "shapedefaults": {
           "line": {
            "color": "#2a3f5f"
           }
          },
          "ternary": {
           "aaxis": {
            "gridcolor": "white",
            "linecolor": "white",
            "ticks": ""
           },
           "baxis": {
            "gridcolor": "white",
            "linecolor": "white",
            "ticks": ""
           },
           "bgcolor": "#E5ECF6",
           "caxis": {
            "gridcolor": "white",
            "linecolor": "white",
            "ticks": ""
           }
          },
          "title": {
           "x": 0.05
          },
          "xaxis": {
           "automargin": true,
           "gridcolor": "white",
           "linecolor": "white",
           "ticks": "",
           "title": {
            "standoff": 15
           },
           "zerolinecolor": "white",
           "zerolinewidth": 2
          },
          "yaxis": {
           "automargin": true,
           "gridcolor": "white",
           "linecolor": "white",
           "ticks": "",
           "title": {
            "standoff": 15
           },
           "zerolinecolor": "white",
           "zerolinewidth": 2
          }
         }
        },
        "xaxis": {
         "anchor": "y",
         "domain": [
          0,
          1
         ],
         "title": {
          "text": "V"
         }
        },
        "yaxis": {
         "anchor": "x",
         "domain": [
          0,
          1
         ],
         "title": {
          "text": "value"
         }
        }
       }
      }
     },
     "metadata": {},
     "output_type": "display_data"
    }
   ],
   "source": [
    "import plotly.express as px\n",
    "fig = px.scatter(data, x=\"V\", y=[\"Bead height (H)\", \"Bead width (W)\", \"Bead Penetration (P)\"], trendline=\"lowess\") \n",
    "# LOESS (locally estimated scatterplot smoothing) and LOWESS (locally weighted scatterplot smoothing)\n",
    "fig.show()"
   ]
  },
  {
   "cell_type": "code",
   "execution_count": 63,
   "metadata": {},
   "outputs": [
    {
     "data": {
      "application/vnd.plotly.v1+json": {
       "config": {
        "plotlyServerURL": "https://plot.ly"
       },
       "data": [
        {
         "hovertemplate": "variable=Bead height (H)<br>A=%{x}<br>value=%{y}<extra></extra>",
         "legendgroup": "Bead height (H)",
         "marker": {
          "color": "#636efa",
          "symbol": "circle"
         },
         "mode": "markers",
         "name": "Bead height (H)",
         "orientation": "v",
         "showlegend": true,
         "type": "scatter",
         "x": [
          325,
          325,
          475,
          475,
          325,
          325,
          475,
          475,
          325,
          325,
          475,
          475,
          325,
          325,
          475,
          475,
          400,
          400,
          250,
          550,
          400,
          400,
          400,
          400,
          400,
          400,
          400,
          400,
          400,
          400,
          400
         ],
         "xaxis": "x",
         "y": [
          2.38,
          2.54,
          3.07,
          2.79,
          2.03,
          1.98,
          1.89,
          1.99,
          1.81,
          1.66,
          3.23,
          2.72,
          2.09,
          2.08,
          3.66,
          3.05,
          2.72,
          2.13,
          1.96,
          3.2,
          2.31,
          2.1,
          1.96,
          2.07,
          2.29,
          2.14,
          1.79,
          2.2,
          1.93,
          1.75,
          1.94
         ],
         "yaxis": "y"
        },
        {
         "hovertemplate": "<b>LOWESS trendline</b><br><br>variable=Bead height (H)<br>A=%{x}<br>value=%{y} <b>(trend)</b><extra></extra>",
         "legendgroup": "Bead height (H)",
         "marker": {
          "color": "#636efa",
          "symbol": "circle"
         },
         "mode": "lines",
         "name": "Bead height (H)",
         "showlegend": false,
         "type": "scatter",
         "x": [
          250,
          325,
          325,
          325,
          325,
          325,
          325,
          325,
          325,
          400,
          400,
          400,
          400,
          400,
          400,
          400,
          400,
          400,
          400,
          400,
          400,
          400,
          475,
          475,
          475,
          475,
          475,
          475,
          475,
          475,
          550
         ],
         "xaxis": "x",
         "y": [
          1.9599999999999962,
          2.0501740107539166,
          2.0501740107539166,
          2.0501740107539166,
          2.0501740107539166,
          2.0501740107539166,
          2.0501740107539166,
          2.0501740107539166,
          2.0501740107539166,
          2.067713032541959,
          2.067713032541959,
          2.067713032541959,
          2.067713032541959,
          2.067713032541959,
          2.067713032541959,
          2.067713032541959,
          2.067713032541959,
          2.067713032541959,
          2.067713032541959,
          2.067713032541959,
          2.067713032541959,
          2.067713032541959,
          2.994588674429535,
          2.994588674429535,
          2.994588674429535,
          2.994588674429535,
          2.994588674429535,
          2.994588674429535,
          2.994588674429535,
          2.994588674429535,
          3.1999999999999895
         ],
         "yaxis": "y"
        },
        {
         "hovertemplate": "variable=Bead width (W)<br>A=%{x}<br>value=%{y}<extra></extra>",
         "legendgroup": "Bead width (W)",
         "marker": {
          "color": "#EF553B",
          "symbol": "circle"
         },
         "mode": "markers",
         "name": "Bead width (W)",
         "orientation": "v",
         "showlegend": true,
         "type": "scatter",
         "x": [
          325,
          325,
          475,
          475,
          325,
          325,
          475,
          475,
          325,
          325,
          475,
          475,
          325,
          325,
          475,
          475,
          400,
          400,
          250,
          550,
          400,
          400,
          400,
          400,
          400,
          400,
          400,
          400,
          400,
          400,
          400
         ],
         "xaxis": "x",
         "y": [
          10.55,
          12.43,
          9.76,
          13.14,
          10.27,
          9.26,
          9.37,
          9.42,
          9.17,
          11.21,
          9.48,
          12.79,
          8.08,
          9.74,
          8.48,
          10.58,
          8.82,
          11.4,
          8.4,
          9.34,
          13.95,
          9.33,
          10.4,
          9.87,
          10.55,
          11.15,
          10.73,
          11.68,
          11.4,
          11.19,
          10.72
         ],
         "yaxis": "y"
        },
        {
         "hovertemplate": "<b>LOWESS trendline</b><br><br>variable=Bead width (W)<br>A=%{x}<br>value=%{y} <b>(trend)</b><extra></extra>",
         "legendgroup": "Bead width (W)",
         "marker": {
          "color": "#EF553B",
          "symbol": "circle"
         },
         "mode": "lines",
         "name": "Bead width (W)",
         "showlegend": false,
         "type": "scatter",
         "x": [
          250,
          325,
          325,
          325,
          325,
          325,
          325,
          325,
          325,
          400,
          400,
          400,
          400,
          400,
          400,
          400,
          400,
          400,
          400,
          400,
          400,
          400,
          475,
          475,
          475,
          475,
          475,
          475,
          475,
          475,
          550
         ],
         "xaxis": "x",
         "y": [
          8.400000000000034,
          9.988004159496434,
          9.988004159496434,
          9.988004159496434,
          9.988004159496434,
          9.988004159496434,
          9.988004159496434,
          9.988004159496434,
          9.988004159496434,
          10.71712359906244,
          10.71712359906244,
          10.71712359906244,
          10.71712359906244,
          10.71712359906244,
          10.71712359906244,
          10.71712359906244,
          10.71712359906244,
          10.71712359906244,
          10.71712359906244,
          10.71712359906244,
          10.71712359906244,
          10.71712359906244,
          9.712777927982065,
          9.712777927982065,
          9.712777927982065,
          9.712777927982065,
          9.712777927982065,
          9.712777927982065,
          9.712777927982065,
          9.712777927982065,
          9.34
         ],
         "yaxis": "y"
        },
        {
         "hovertemplate": "variable=Bead Penetration (P)<br>A=%{x}<br>value=%{y}<extra></extra>",
         "legendgroup": "Bead Penetration (P)",
         "marker": {
          "color": "#00cc96",
          "symbol": "circle"
         },
         "mode": "markers",
         "name": "Bead Penetration (P)",
         "orientation": "v",
         "showlegend": true,
         "type": "scatter",
         "x": [
          325,
          325,
          475,
          475,
          325,
          325,
          475,
          475,
          325,
          325,
          475,
          475,
          325,
          325,
          475,
          475,
          400,
          400,
          250,
          550,
          400,
          400,
          400,
          400,
          400,
          400,
          400,
          400,
          400,
          400,
          400
         ],
         "xaxis": "x",
         "y": [
          3.94,
          5.08,
          5.12,
          6.4,
          3.05,
          3.59,
          4.79,
          5.37,
          3.33,
          3.18,
          7.31,
          5.77,
          2.6,
          2.08,
          6.06,
          4.19,
          4.44,
          5.3,
          2.35,
          5.76,
          4.88,
          3.24,
          4.34,
          3.43,
          3.6,
          3.66,
          4.37,
          4.17,
          3.94,
          4.3,
          3.68
         ],
         "yaxis": "y"
        },
        {
         "hovertemplate": "<b>LOWESS trendline</b><br><br>variable=Bead Penetration (P)<br>A=%{x}<br>value=%{y} <b>(trend)</b><extra></extra>",
         "legendgroup": "Bead Penetration (P)",
         "marker": {
          "color": "#00cc96",
          "symbol": "circle"
         },
         "mode": "lines",
         "name": "Bead Penetration (P)",
         "showlegend": false,
         "type": "scatter",
         "x": [
          250,
          325,
          325,
          325,
          325,
          325,
          325,
          325,
          325,
          400,
          400,
          400,
          400,
          400,
          400,
          400,
          400,
          400,
          400,
          400,
          400,
          400,
          475,
          475,
          475,
          475,
          475,
          475,
          475,
          475,
          550
         ],
         "xaxis": "x",
         "y": [
          2.349999999999992,
          3.2211055110815208,
          3.2211055110815208,
          3.2211055110815208,
          3.2211055110815208,
          3.2211055110815208,
          3.2211055110815208,
          3.2211055110815208,
          3.2211055110815208,
          4.075610195282468,
          4.075610195282468,
          4.075610195282468,
          4.075610195282468,
          4.075610195282468,
          4.075610195282468,
          4.075610195282468,
          4.075610195282468,
          4.075610195282468,
          4.075610195282468,
          4.075610195282468,
          4.075610195282468,
          4.075610195282468,
          5.536120706090516,
          5.536120706090516,
          5.536120706090516,
          5.536120706090516,
          5.536120706090516,
          5.536120706090516,
          5.536120706090516,
          5.536120706090516,
          5.760000000000012
         ],
         "yaxis": "y"
        }
       ],
       "layout": {
        "legend": {
         "title": {
          "text": "variable"
         },
         "tracegroupgap": 0
        },
        "margin": {
         "t": 60
        },
        "template": {
         "data": {
          "bar": [
           {
            "error_x": {
             "color": "#2a3f5f"
            },
            "error_y": {
             "color": "#2a3f5f"
            },
            "marker": {
             "line": {
              "color": "#E5ECF6",
              "width": 0.5
             },
             "pattern": {
              "fillmode": "overlay",
              "size": 10,
              "solidity": 0.2
             }
            },
            "type": "bar"
           }
          ],
          "barpolar": [
           {
            "marker": {
             "line": {
              "color": "#E5ECF6",
              "width": 0.5
             },
             "pattern": {
              "fillmode": "overlay",
              "size": 10,
              "solidity": 0.2
             }
            },
            "type": "barpolar"
           }
          ],
          "carpet": [
           {
            "aaxis": {
             "endlinecolor": "#2a3f5f",
             "gridcolor": "white",
             "linecolor": "white",
             "minorgridcolor": "white",
             "startlinecolor": "#2a3f5f"
            },
            "baxis": {
             "endlinecolor": "#2a3f5f",
             "gridcolor": "white",
             "linecolor": "white",
             "minorgridcolor": "white",
             "startlinecolor": "#2a3f5f"
            },
            "type": "carpet"
           }
          ],
          "choropleth": [
           {
            "colorbar": {
             "outlinewidth": 0,
             "ticks": ""
            },
            "type": "choropleth"
           }
          ],
          "contour": [
           {
            "colorbar": {
             "outlinewidth": 0,
             "ticks": ""
            },
            "colorscale": [
             [
              0,
              "#0d0887"
             ],
             [
              0.1111111111111111,
              "#46039f"
             ],
             [
              0.2222222222222222,
              "#7201a8"
             ],
             [
              0.3333333333333333,
              "#9c179e"
             ],
             [
              0.4444444444444444,
              "#bd3786"
             ],
             [
              0.5555555555555556,
              "#d8576b"
             ],
             [
              0.6666666666666666,
              "#ed7953"
             ],
             [
              0.7777777777777778,
              "#fb9f3a"
             ],
             [
              0.8888888888888888,
              "#fdca26"
             ],
             [
              1,
              "#f0f921"
             ]
            ],
            "type": "contour"
           }
          ],
          "contourcarpet": [
           {
            "colorbar": {
             "outlinewidth": 0,
             "ticks": ""
            },
            "type": "contourcarpet"
           }
          ],
          "heatmap": [
           {
            "colorbar": {
             "outlinewidth": 0,
             "ticks": ""
            },
            "colorscale": [
             [
              0,
              "#0d0887"
             ],
             [
              0.1111111111111111,
              "#46039f"
             ],
             [
              0.2222222222222222,
              "#7201a8"
             ],
             [
              0.3333333333333333,
              "#9c179e"
             ],
             [
              0.4444444444444444,
              "#bd3786"
             ],
             [
              0.5555555555555556,
              "#d8576b"
             ],
             [
              0.6666666666666666,
              "#ed7953"
             ],
             [
              0.7777777777777778,
              "#fb9f3a"
             ],
             [
              0.8888888888888888,
              "#fdca26"
             ],
             [
              1,
              "#f0f921"
             ]
            ],
            "type": "heatmap"
           }
          ],
          "heatmapgl": [
           {
            "colorbar": {
             "outlinewidth": 0,
             "ticks": ""
            },
            "colorscale": [
             [
              0,
              "#0d0887"
             ],
             [
              0.1111111111111111,
              "#46039f"
             ],
             [
              0.2222222222222222,
              "#7201a8"
             ],
             [
              0.3333333333333333,
              "#9c179e"
             ],
             [
              0.4444444444444444,
              "#bd3786"
             ],
             [
              0.5555555555555556,
              "#d8576b"
             ],
             [
              0.6666666666666666,
              "#ed7953"
             ],
             [
              0.7777777777777778,
              "#fb9f3a"
             ],
             [
              0.8888888888888888,
              "#fdca26"
             ],
             [
              1,
              "#f0f921"
             ]
            ],
            "type": "heatmapgl"
           }
          ],
          "histogram": [
           {
            "marker": {
             "pattern": {
              "fillmode": "overlay",
              "size": 10,
              "solidity": 0.2
             }
            },
            "type": "histogram"
           }
          ],
          "histogram2d": [
           {
            "colorbar": {
             "outlinewidth": 0,
             "ticks": ""
            },
            "colorscale": [
             [
              0,
              "#0d0887"
             ],
             [
              0.1111111111111111,
              "#46039f"
             ],
             [
              0.2222222222222222,
              "#7201a8"
             ],
             [
              0.3333333333333333,
              "#9c179e"
             ],
             [
              0.4444444444444444,
              "#bd3786"
             ],
             [
              0.5555555555555556,
              "#d8576b"
             ],
             [
              0.6666666666666666,
              "#ed7953"
             ],
             [
              0.7777777777777778,
              "#fb9f3a"
             ],
             [
              0.8888888888888888,
              "#fdca26"
             ],
             [
              1,
              "#f0f921"
             ]
            ],
            "type": "histogram2d"
           }
          ],
          "histogram2dcontour": [
           {
            "colorbar": {
             "outlinewidth": 0,
             "ticks": ""
            },
            "colorscale": [
             [
              0,
              "#0d0887"
             ],
             [
              0.1111111111111111,
              "#46039f"
             ],
             [
              0.2222222222222222,
              "#7201a8"
             ],
             [
              0.3333333333333333,
              "#9c179e"
             ],
             [
              0.4444444444444444,
              "#bd3786"
             ],
             [
              0.5555555555555556,
              "#d8576b"
             ],
             [
              0.6666666666666666,
              "#ed7953"
             ],
             [
              0.7777777777777778,
              "#fb9f3a"
             ],
             [
              0.8888888888888888,
              "#fdca26"
             ],
             [
              1,
              "#f0f921"
             ]
            ],
            "type": "histogram2dcontour"
           }
          ],
          "mesh3d": [
           {
            "colorbar": {
             "outlinewidth": 0,
             "ticks": ""
            },
            "type": "mesh3d"
           }
          ],
          "parcoords": [
           {
            "line": {
             "colorbar": {
              "outlinewidth": 0,
              "ticks": ""
             }
            },
            "type": "parcoords"
           }
          ],
          "pie": [
           {
            "automargin": true,
            "type": "pie"
           }
          ],
          "scatter": [
           {
            "fillpattern": {
             "fillmode": "overlay",
             "size": 10,
             "solidity": 0.2
            },
            "type": "scatter"
           }
          ],
          "scatter3d": [
           {
            "line": {
             "colorbar": {
              "outlinewidth": 0,
              "ticks": ""
             }
            },
            "marker": {
             "colorbar": {
              "outlinewidth": 0,
              "ticks": ""
             }
            },
            "type": "scatter3d"
           }
          ],
          "scattercarpet": [
           {
            "marker": {
             "colorbar": {
              "outlinewidth": 0,
              "ticks": ""
             }
            },
            "type": "scattercarpet"
           }
          ],
          "scattergeo": [
           {
            "marker": {
             "colorbar": {
              "outlinewidth": 0,
              "ticks": ""
             }
            },
            "type": "scattergeo"
           }
          ],
          "scattergl": [
           {
            "marker": {
             "colorbar": {
              "outlinewidth": 0,
              "ticks": ""
             }
            },
            "type": "scattergl"
           }
          ],
          "scattermapbox": [
           {
            "marker": {
             "colorbar": {
              "outlinewidth": 0,
              "ticks": ""
             }
            },
            "type": "scattermapbox"
           }
          ],
          "scatterpolar": [
           {
            "marker": {
             "colorbar": {
              "outlinewidth": 0,
              "ticks": ""
             }
            },
            "type": "scatterpolar"
           }
          ],
          "scatterpolargl": [
           {
            "marker": {
             "colorbar": {
              "outlinewidth": 0,
              "ticks": ""
             }
            },
            "type": "scatterpolargl"
           }
          ],
          "scatterternary": [
           {
            "marker": {
             "colorbar": {
              "outlinewidth": 0,
              "ticks": ""
             }
            },
            "type": "scatterternary"
           }
          ],
          "surface": [
           {
            "colorbar": {
             "outlinewidth": 0,
             "ticks": ""
            },
            "colorscale": [
             [
              0,
              "#0d0887"
             ],
             [
              0.1111111111111111,
              "#46039f"
             ],
             [
              0.2222222222222222,
              "#7201a8"
             ],
             [
              0.3333333333333333,
              "#9c179e"
             ],
             [
              0.4444444444444444,
              "#bd3786"
             ],
             [
              0.5555555555555556,
              "#d8576b"
             ],
             [
              0.6666666666666666,
              "#ed7953"
             ],
             [
              0.7777777777777778,
              "#fb9f3a"
             ],
             [
              0.8888888888888888,
              "#fdca26"
             ],
             [
              1,
              "#f0f921"
             ]
            ],
            "type": "surface"
           }
          ],
          "table": [
           {
            "cells": {
             "fill": {
              "color": "#EBF0F8"
             },
             "line": {
              "color": "white"
             }
            },
            "header": {
             "fill": {
              "color": "#C8D4E3"
             },
             "line": {
              "color": "white"
             }
            },
            "type": "table"
           }
          ]
         },
         "layout": {
          "annotationdefaults": {
           "arrowcolor": "#2a3f5f",
           "arrowhead": 0,
           "arrowwidth": 1
          },
          "autotypenumbers": "strict",
          "coloraxis": {
           "colorbar": {
            "outlinewidth": 0,
            "ticks": ""
           }
          },
          "colorscale": {
           "diverging": [
            [
             0,
             "#8e0152"
            ],
            [
             0.1,
             "#c51b7d"
            ],
            [
             0.2,
             "#de77ae"
            ],
            [
             0.3,
             "#f1b6da"
            ],
            [
             0.4,
             "#fde0ef"
            ],
            [
             0.5,
             "#f7f7f7"
            ],
            [
             0.6,
             "#e6f5d0"
            ],
            [
             0.7,
             "#b8e186"
            ],
            [
             0.8,
             "#7fbc41"
            ],
            [
             0.9,
             "#4d9221"
            ],
            [
             1,
             "#276419"
            ]
           ],
           "sequential": [
            [
             0,
             "#0d0887"
            ],
            [
             0.1111111111111111,
             "#46039f"
            ],
            [
             0.2222222222222222,
             "#7201a8"
            ],
            [
             0.3333333333333333,
             "#9c179e"
            ],
            [
             0.4444444444444444,
             "#bd3786"
            ],
            [
             0.5555555555555556,
             "#d8576b"
            ],
            [
             0.6666666666666666,
             "#ed7953"
            ],
            [
             0.7777777777777778,
             "#fb9f3a"
            ],
            [
             0.8888888888888888,
             "#fdca26"
            ],
            [
             1,
             "#f0f921"
            ]
           ],
           "sequentialminus": [
            [
             0,
             "#0d0887"
            ],
            [
             0.1111111111111111,
             "#46039f"
            ],
            [
             0.2222222222222222,
             "#7201a8"
            ],
            [
             0.3333333333333333,
             "#9c179e"
            ],
            [
             0.4444444444444444,
             "#bd3786"
            ],
            [
             0.5555555555555556,
             "#d8576b"
            ],
            [
             0.6666666666666666,
             "#ed7953"
            ],
            [
             0.7777777777777778,
             "#fb9f3a"
            ],
            [
             0.8888888888888888,
             "#fdca26"
            ],
            [
             1,
             "#f0f921"
            ]
           ]
          },
          "colorway": [
           "#636efa",
           "#EF553B",
           "#00cc96",
           "#ab63fa",
           "#FFA15A",
           "#19d3f3",
           "#FF6692",
           "#B6E880",
           "#FF97FF",
           "#FECB52"
          ],
          "font": {
           "color": "#2a3f5f"
          },
          "geo": {
           "bgcolor": "white",
           "lakecolor": "white",
           "landcolor": "#E5ECF6",
           "showlakes": true,
           "showland": true,
           "subunitcolor": "white"
          },
          "hoverlabel": {
           "align": "left"
          },
          "hovermode": "closest",
          "mapbox": {
           "style": "light"
          },
          "paper_bgcolor": "white",
          "plot_bgcolor": "#E5ECF6",
          "polar": {
           "angularaxis": {
            "gridcolor": "white",
            "linecolor": "white",
            "ticks": ""
           },
           "bgcolor": "#E5ECF6",
           "radialaxis": {
            "gridcolor": "white",
            "linecolor": "white",
            "ticks": ""
           }
          },
          "scene": {
           "xaxis": {
            "backgroundcolor": "#E5ECF6",
            "gridcolor": "white",
            "gridwidth": 2,
            "linecolor": "white",
            "showbackground": true,
            "ticks": "",
            "zerolinecolor": "white"
           },
           "yaxis": {
            "backgroundcolor": "#E5ECF6",
            "gridcolor": "white",
            "gridwidth": 2,
            "linecolor": "white",
            "showbackground": true,
            "ticks": "",
            "zerolinecolor": "white"
           },
           "zaxis": {
            "backgroundcolor": "#E5ECF6",
            "gridcolor": "white",
            "gridwidth": 2,
            "linecolor": "white",
            "showbackground": true,
            "ticks": "",
            "zerolinecolor": "white"
           }
          },
          "shapedefaults": {
           "line": {
            "color": "#2a3f5f"
           }
          },
          "ternary": {
           "aaxis": {
            "gridcolor": "white",
            "linecolor": "white",
            "ticks": ""
           },
           "baxis": {
            "gridcolor": "white",
            "linecolor": "white",
            "ticks": ""
           },
           "bgcolor": "#E5ECF6",
           "caxis": {
            "gridcolor": "white",
            "linecolor": "white",
            "ticks": ""
           }
          },
          "title": {
           "x": 0.05
          },
          "xaxis": {
           "automargin": true,
           "gridcolor": "white",
           "linecolor": "white",
           "ticks": "",
           "title": {
            "standoff": 15
           },
           "zerolinecolor": "white",
           "zerolinewidth": 2
          },
          "yaxis": {
           "automargin": true,
           "gridcolor": "white",
           "linecolor": "white",
           "ticks": "",
           "title": {
            "standoff": 15
           },
           "zerolinecolor": "white",
           "zerolinewidth": 2
          }
         }
        },
        "xaxis": {
         "anchor": "y",
         "domain": [
          0,
          1
         ],
         "title": {
          "text": "A"
         }
        },
        "yaxis": {
         "anchor": "x",
         "domain": [
          0,
          1
         ],
         "title": {
          "text": "value"
         }
        }
       }
      }
     },
     "metadata": {},
     "output_type": "display_data"
    }
   ],
   "source": [
    "fig = px.scatter(data, x=\"A\", y=[\"Bead height (H)\", \"Bead width (W)\", \"Bead Penetration (P)\"], trendline=\"lowess\")\n",
    "fig.show()"
   ]
  },
  {
   "cell_type": "code",
   "execution_count": 64,
   "metadata": {},
   "outputs": [
    {
     "data": {
      "application/vnd.plotly.v1+json": {
       "config": {
        "plotlyServerURL": "https://plot.ly"
       },
       "data": [
        {
         "hovertemplate": "variable=Bead height (H)<br>S=%{x}<br>value=%{y}<extra></extra>",
         "legendgroup": "Bead height (H)",
         "marker": {
          "color": "#636efa",
          "symbol": "circle"
         },
         "mode": "markers",
         "name": "Bead height (H)",
         "orientation": "v",
         "showlegend": true,
         "type": "scatter",
         "x": [
          9,
          9,
          9,
          9,
          15,
          15,
          15,
          15,
          9,
          9,
          9,
          9,
          15,
          15,
          15,
          15,
          12,
          12,
          12,
          12,
          6,
          18,
          12,
          12,
          12,
          12,
          12,
          12,
          12,
          12,
          12
         ],
         "xaxis": "x",
         "y": [
          2.38,
          2.54,
          3.07,
          2.79,
          2.03,
          1.98,
          1.89,
          1.99,
          1.81,
          1.66,
          3.23,
          2.72,
          2.09,
          2.08,
          3.66,
          3.05,
          2.72,
          2.13,
          1.96,
          3.2,
          2.31,
          2.1,
          1.96,
          2.07,
          2.29,
          2.14,
          1.79,
          2.2,
          1.93,
          1.75,
          1.94
         ],
         "yaxis": "y"
        },
        {
         "hovertemplate": "<b>LOWESS trendline</b><br><br>variable=Bead height (H)<br>S=%{x}<br>value=%{y} <b>(trend)</b><extra></extra>",
         "legendgroup": "Bead height (H)",
         "marker": {
          "color": "#636efa",
          "symbol": "circle"
         },
         "mode": "lines",
         "name": "Bead height (H)",
         "showlegend": false,
         "type": "scatter",
         "x": [
          6,
          9,
          9,
          9,
          9,
          9,
          9,
          9,
          9,
          12,
          12,
          12,
          12,
          12,
          12,
          12,
          12,
          12,
          12,
          12,
          12,
          12,
          15,
          15,
          15,
          15,
          15,
          15,
          15,
          15,
          18
         ],
         "xaxis": "x",
         "y": [
          2.3100000000000027,
          2.6998488940488614,
          2.6998488940488614,
          2.6998488940488614,
          2.6998488940488614,
          2.6998488940488614,
          2.6998488940488614,
          2.6998488940488614,
          2.6998488940488614,
          2.0230008899463465,
          2.0230008899463465,
          2.0230008899463465,
          2.0230008899463465,
          2.0230008899463465,
          2.0230008899463465,
          2.0230008899463465,
          2.0230008899463465,
          2.0230008899463465,
          2.0230008899463465,
          2.0230008899463465,
          2.0230008899463465,
          2.0230008899463465,
          2.0108646188822226,
          2.0108646188822226,
          2.0108646188822226,
          2.0108646188822226,
          2.0108646188822226,
          2.0108646188822226,
          2.0108646188822226,
          2.0108646188822226,
          2.100000000000004
         ],
         "yaxis": "y"
        },
        {
         "hovertemplate": "variable=Bead width (W)<br>S=%{x}<br>value=%{y}<extra></extra>",
         "legendgroup": "Bead width (W)",
         "marker": {
          "color": "#EF553B",
          "symbol": "circle"
         },
         "mode": "markers",
         "name": "Bead width (W)",
         "orientation": "v",
         "showlegend": true,
         "type": "scatter",
         "x": [
          9,
          9,
          9,
          9,
          15,
          15,
          15,
          15,
          9,
          9,
          9,
          9,
          15,
          15,
          15,
          15,
          12,
          12,
          12,
          12,
          6,
          18,
          12,
          12,
          12,
          12,
          12,
          12,
          12,
          12,
          12
         ],
         "xaxis": "x",
         "y": [
          10.55,
          12.43,
          9.76,
          13.14,
          10.27,
          9.26,
          9.37,
          9.42,
          9.17,
          11.21,
          9.48,
          12.79,
          8.08,
          9.74,
          8.48,
          10.58,
          8.82,
          11.4,
          8.4,
          9.34,
          13.95,
          9.33,
          10.4,
          9.87,
          10.55,
          11.15,
          10.73,
          11.68,
          11.4,
          11.19,
          10.72
         ],
         "yaxis": "y"
        },
        {
         "hovertemplate": "<b>LOWESS trendline</b><br><br>variable=Bead width (W)<br>S=%{x}<br>value=%{y} <b>(trend)</b><extra></extra>",
         "legendgroup": "Bead width (W)",
         "marker": {
          "color": "#EF553B",
          "symbol": "circle"
         },
         "mode": "lines",
         "name": "Bead width (W)",
         "showlegend": false,
         "type": "scatter",
         "x": [
          6,
          9,
          9,
          9,
          9,
          9,
          9,
          9,
          9,
          12,
          12,
          12,
          12,
          12,
          12,
          12,
          12,
          12,
          12,
          12,
          12,
          12,
          15,
          15,
          15,
          15,
          15,
          15,
          15,
          15,
          18
         ],
         "xaxis": "x",
         "y": [
          13.950000000000022,
          11.01803203759553,
          11.01803203759553,
          11.01803203759553,
          11.01803203759553,
          11.01803203759553,
          11.01803203759553,
          11.01803203759553,
          11.01803203759553,
          10.497758149160239,
          10.497758149160239,
          10.497758149160239,
          10.497758149160239,
          10.497758149160239,
          10.497758149160239,
          10.497758149160239,
          10.497758149160239,
          10.497758149160239,
          10.497758149160239,
          10.497758149160239,
          10.497758149160239,
          10.497758149160239,
          9.407571820664382,
          9.407571820664382,
          9.407571820664382,
          9.407571820664382,
          9.407571820664382,
          9.407571820664382,
          9.407571820664382,
          9.407571820664382,
          9.330000000000002
         ],
         "yaxis": "y"
        },
        {
         "hovertemplate": "variable=Bead Penetration (P)<br>S=%{x}<br>value=%{y}<extra></extra>",
         "legendgroup": "Bead Penetration (P)",
         "marker": {
          "color": "#00cc96",
          "symbol": "circle"
         },
         "mode": "markers",
         "name": "Bead Penetration (P)",
         "orientation": "v",
         "showlegend": true,
         "type": "scatter",
         "x": [
          9,
          9,
          9,
          9,
          15,
          15,
          15,
          15,
          9,
          9,
          9,
          9,
          15,
          15,
          15,
          15,
          12,
          12,
          12,
          12,
          6,
          18,
          12,
          12,
          12,
          12,
          12,
          12,
          12,
          12,
          12
         ],
         "xaxis": "x",
         "y": [
          3.94,
          5.08,
          5.12,
          6.4,
          3.05,
          3.59,
          4.79,
          5.37,
          3.33,
          3.18,
          7.31,
          5.77,
          2.6,
          2.08,
          6.06,
          4.19,
          4.44,
          5.3,
          2.35,
          5.76,
          4.88,
          3.24,
          4.34,
          3.43,
          3.6,
          3.66,
          4.37,
          4.17,
          3.94,
          4.3,
          3.68
         ],
         "yaxis": "y"
        },
        {
         "hovertemplate": "<b>LOWESS trendline</b><br><br>variable=Bead Penetration (P)<br>S=%{x}<br>value=%{y} <b>(trend)</b><extra></extra>",
         "legendgroup": "Bead Penetration (P)",
         "marker": {
          "color": "#00cc96",
          "symbol": "circle"
         },
         "mode": "lines",
         "name": "Bead Penetration (P)",
         "showlegend": false,
         "type": "scatter",
         "x": [
          6,
          9,
          9,
          9,
          9,
          9,
          9,
          9,
          9,
          12,
          12,
          12,
          12,
          12,
          12,
          12,
          12,
          12,
          12,
          12,
          12,
          12,
          15,
          15,
          15,
          15,
          15,
          15,
          15,
          15,
          18
         ],
         "xaxis": "x",
         "y": [
          4.879999999999999,
          4.95362291546681,
          4.95362291546681,
          4.95362291546681,
          4.95362291546681,
          4.95362291546681,
          4.95362291546681,
          4.95362291546681,
          4.95362291546681,
          4.09805517961703,
          4.09805517961703,
          4.09805517961703,
          4.09805517961703,
          4.09805517961703,
          4.09805517961703,
          4.09805517961703,
          4.09805517961703,
          4.09805517961703,
          4.09805517961703,
          4.09805517961703,
          4.09805517961703,
          4.09805517961703,
          3.9077731309729957,
          3.9077731309729957,
          3.9077731309729957,
          3.9077731309729957,
          3.9077731309729957,
          3.9077731309729957,
          3.9077731309729957,
          3.9077731309729957,
          3.2399999999999936
         ],
         "yaxis": "y"
        }
       ],
       "layout": {
        "legend": {
         "title": {
          "text": "variable"
         },
         "tracegroupgap": 0
        },
        "margin": {
         "t": 60
        },
        "template": {
         "data": {
          "bar": [
           {
            "error_x": {
             "color": "#2a3f5f"
            },
            "error_y": {
             "color": "#2a3f5f"
            },
            "marker": {
             "line": {
              "color": "#E5ECF6",
              "width": 0.5
             },
             "pattern": {
              "fillmode": "overlay",
              "size": 10,
              "solidity": 0.2
             }
            },
            "type": "bar"
           }
          ],
          "barpolar": [
           {
            "marker": {
             "line": {
              "color": "#E5ECF6",
              "width": 0.5
             },
             "pattern": {
              "fillmode": "overlay",
              "size": 10,
              "solidity": 0.2
             }
            },
            "type": "barpolar"
           }
          ],
          "carpet": [
           {
            "aaxis": {
             "endlinecolor": "#2a3f5f",
             "gridcolor": "white",
             "linecolor": "white",
             "minorgridcolor": "white",
             "startlinecolor": "#2a3f5f"
            },
            "baxis": {
             "endlinecolor": "#2a3f5f",
             "gridcolor": "white",
             "linecolor": "white",
             "minorgridcolor": "white",
             "startlinecolor": "#2a3f5f"
            },
            "type": "carpet"
           }
          ],
          "choropleth": [
           {
            "colorbar": {
             "outlinewidth": 0,
             "ticks": ""
            },
            "type": "choropleth"
           }
          ],
          "contour": [
           {
            "colorbar": {
             "outlinewidth": 0,
             "ticks": ""
            },
            "colorscale": [
             [
              0,
              "#0d0887"
             ],
             [
              0.1111111111111111,
              "#46039f"
             ],
             [
              0.2222222222222222,
              "#7201a8"
             ],
             [
              0.3333333333333333,
              "#9c179e"
             ],
             [
              0.4444444444444444,
              "#bd3786"
             ],
             [
              0.5555555555555556,
              "#d8576b"
             ],
             [
              0.6666666666666666,
              "#ed7953"
             ],
             [
              0.7777777777777778,
              "#fb9f3a"
             ],
             [
              0.8888888888888888,
              "#fdca26"
             ],
             [
              1,
              "#f0f921"
             ]
            ],
            "type": "contour"
           }
          ],
          "contourcarpet": [
           {
            "colorbar": {
             "outlinewidth": 0,
             "ticks": ""
            },
            "type": "contourcarpet"
           }
          ],
          "heatmap": [
           {
            "colorbar": {
             "outlinewidth": 0,
             "ticks": ""
            },
            "colorscale": [
             [
              0,
              "#0d0887"
             ],
             [
              0.1111111111111111,
              "#46039f"
             ],
             [
              0.2222222222222222,
              "#7201a8"
             ],
             [
              0.3333333333333333,
              "#9c179e"
             ],
             [
              0.4444444444444444,
              "#bd3786"
             ],
             [
              0.5555555555555556,
              "#d8576b"
             ],
             [
              0.6666666666666666,
              "#ed7953"
             ],
             [
              0.7777777777777778,
              "#fb9f3a"
             ],
             [
              0.8888888888888888,
              "#fdca26"
             ],
             [
              1,
              "#f0f921"
             ]
            ],
            "type": "heatmap"
           }
          ],
          "heatmapgl": [
           {
            "colorbar": {
             "outlinewidth": 0,
             "ticks": ""
            },
            "colorscale": [
             [
              0,
              "#0d0887"
             ],
             [
              0.1111111111111111,
              "#46039f"
             ],
             [
              0.2222222222222222,
              "#7201a8"
             ],
             [
              0.3333333333333333,
              "#9c179e"
             ],
             [
              0.4444444444444444,
              "#bd3786"
             ],
             [
              0.5555555555555556,
              "#d8576b"
             ],
             [
              0.6666666666666666,
              "#ed7953"
             ],
             [
              0.7777777777777778,
              "#fb9f3a"
             ],
             [
              0.8888888888888888,
              "#fdca26"
             ],
             [
              1,
              "#f0f921"
             ]
            ],
            "type": "heatmapgl"
           }
          ],
          "histogram": [
           {
            "marker": {
             "pattern": {
              "fillmode": "overlay",
              "size": 10,
              "solidity": 0.2
             }
            },
            "type": "histogram"
           }
          ],
          "histogram2d": [
           {
            "colorbar": {
             "outlinewidth": 0,
             "ticks": ""
            },
            "colorscale": [
             [
              0,
              "#0d0887"
             ],
             [
              0.1111111111111111,
              "#46039f"
             ],
             [
              0.2222222222222222,
              "#7201a8"
             ],
             [
              0.3333333333333333,
              "#9c179e"
             ],
             [
              0.4444444444444444,
              "#bd3786"
             ],
             [
              0.5555555555555556,
              "#d8576b"
             ],
             [
              0.6666666666666666,
              "#ed7953"
             ],
             [
              0.7777777777777778,
              "#fb9f3a"
             ],
             [
              0.8888888888888888,
              "#fdca26"
             ],
             [
              1,
              "#f0f921"
             ]
            ],
            "type": "histogram2d"
           }
          ],
          "histogram2dcontour": [
           {
            "colorbar": {
             "outlinewidth": 0,
             "ticks": ""
            },
            "colorscale": [
             [
              0,
              "#0d0887"
             ],
             [
              0.1111111111111111,
              "#46039f"
             ],
             [
              0.2222222222222222,
              "#7201a8"
             ],
             [
              0.3333333333333333,
              "#9c179e"
             ],
             [
              0.4444444444444444,
              "#bd3786"
             ],
             [
              0.5555555555555556,
              "#d8576b"
             ],
             [
              0.6666666666666666,
              "#ed7953"
             ],
             [
              0.7777777777777778,
              "#fb9f3a"
             ],
             [
              0.8888888888888888,
              "#fdca26"
             ],
             [
              1,
              "#f0f921"
             ]
            ],
            "type": "histogram2dcontour"
           }
          ],
          "mesh3d": [
           {
            "colorbar": {
             "outlinewidth": 0,
             "ticks": ""
            },
            "type": "mesh3d"
           }
          ],
          "parcoords": [
           {
            "line": {
             "colorbar": {
              "outlinewidth": 0,
              "ticks": ""
             }
            },
            "type": "parcoords"
           }
          ],
          "pie": [
           {
            "automargin": true,
            "type": "pie"
           }
          ],
          "scatter": [
           {
            "fillpattern": {
             "fillmode": "overlay",
             "size": 10,
             "solidity": 0.2
            },
            "type": "scatter"
           }
          ],
          "scatter3d": [
           {
            "line": {
             "colorbar": {
              "outlinewidth": 0,
              "ticks": ""
             }
            },
            "marker": {
             "colorbar": {
              "outlinewidth": 0,
              "ticks": ""
             }
            },
            "type": "scatter3d"
           }
          ],
          "scattercarpet": [
           {
            "marker": {
             "colorbar": {
              "outlinewidth": 0,
              "ticks": ""
             }
            },
            "type": "scattercarpet"
           }
          ],
          "scattergeo": [
           {
            "marker": {
             "colorbar": {
              "outlinewidth": 0,
              "ticks": ""
             }
            },
            "type": "scattergeo"
           }
          ],
          "scattergl": [
           {
            "marker": {
             "colorbar": {
              "outlinewidth": 0,
              "ticks": ""
             }
            },
            "type": "scattergl"
           }
          ],
          "scattermapbox": [
           {
            "marker": {
             "colorbar": {
              "outlinewidth": 0,
              "ticks": ""
             }
            },
            "type": "scattermapbox"
           }
          ],
          "scatterpolar": [
           {
            "marker": {
             "colorbar": {
              "outlinewidth": 0,
              "ticks": ""
             }
            },
            "type": "scatterpolar"
           }
          ],
          "scatterpolargl": [
           {
            "marker": {
             "colorbar": {
              "outlinewidth": 0,
              "ticks": ""
             }
            },
            "type": "scatterpolargl"
           }
          ],
          "scatterternary": [
           {
            "marker": {
             "colorbar": {
              "outlinewidth": 0,
              "ticks": ""
             }
            },
            "type": "scatterternary"
           }
          ],
          "surface": [
           {
            "colorbar": {
             "outlinewidth": 0,
             "ticks": ""
            },
            "colorscale": [
             [
              0,
              "#0d0887"
             ],
             [
              0.1111111111111111,
              "#46039f"
             ],
             [
              0.2222222222222222,
              "#7201a8"
             ],
             [
              0.3333333333333333,
              "#9c179e"
             ],
             [
              0.4444444444444444,
              "#bd3786"
             ],
             [
              0.5555555555555556,
              "#d8576b"
             ],
             [
              0.6666666666666666,
              "#ed7953"
             ],
             [
              0.7777777777777778,
              "#fb9f3a"
             ],
             [
              0.8888888888888888,
              "#fdca26"
             ],
             [
              1,
              "#f0f921"
             ]
            ],
            "type": "surface"
           }
          ],
          "table": [
           {
            "cells": {
             "fill": {
              "color": "#EBF0F8"
             },
             "line": {
              "color": "white"
             }
            },
            "header": {
             "fill": {
              "color": "#C8D4E3"
             },
             "line": {
              "color": "white"
             }
            },
            "type": "table"
           }
          ]
         },
         "layout": {
          "annotationdefaults": {
           "arrowcolor": "#2a3f5f",
           "arrowhead": 0,
           "arrowwidth": 1
          },
          "autotypenumbers": "strict",
          "coloraxis": {
           "colorbar": {
            "outlinewidth": 0,
            "ticks": ""
           }
          },
          "colorscale": {
           "diverging": [
            [
             0,
             "#8e0152"
            ],
            [
             0.1,
             "#c51b7d"
            ],
            [
             0.2,
             "#de77ae"
            ],
            [
             0.3,
             "#f1b6da"
            ],
            [
             0.4,
             "#fde0ef"
            ],
            [
             0.5,
             "#f7f7f7"
            ],
            [
             0.6,
             "#e6f5d0"
            ],
            [
             0.7,
             "#b8e186"
            ],
            [
             0.8,
             "#7fbc41"
            ],
            [
             0.9,
             "#4d9221"
            ],
            [
             1,
             "#276419"
            ]
           ],
           "sequential": [
            [
             0,
             "#0d0887"
            ],
            [
             0.1111111111111111,
             "#46039f"
            ],
            [
             0.2222222222222222,
             "#7201a8"
            ],
            [
             0.3333333333333333,
             "#9c179e"
            ],
            [
             0.4444444444444444,
             "#bd3786"
            ],
            [
             0.5555555555555556,
             "#d8576b"
            ],
            [
             0.6666666666666666,
             "#ed7953"
            ],
            [
             0.7777777777777778,
             "#fb9f3a"
            ],
            [
             0.8888888888888888,
             "#fdca26"
            ],
            [
             1,
             "#f0f921"
            ]
           ],
           "sequentialminus": [
            [
             0,
             "#0d0887"
            ],
            [
             0.1111111111111111,
             "#46039f"
            ],
            [
             0.2222222222222222,
             "#7201a8"
            ],
            [
             0.3333333333333333,
             "#9c179e"
            ],
            [
             0.4444444444444444,
             "#bd3786"
            ],
            [
             0.5555555555555556,
             "#d8576b"
            ],
            [
             0.6666666666666666,
             "#ed7953"
            ],
            [
             0.7777777777777778,
             "#fb9f3a"
            ],
            [
             0.8888888888888888,
             "#fdca26"
            ],
            [
             1,
             "#f0f921"
            ]
           ]
          },
          "colorway": [
           "#636efa",
           "#EF553B",
           "#00cc96",
           "#ab63fa",
           "#FFA15A",
           "#19d3f3",
           "#FF6692",
           "#B6E880",
           "#FF97FF",
           "#FECB52"
          ],
          "font": {
           "color": "#2a3f5f"
          },
          "geo": {
           "bgcolor": "white",
           "lakecolor": "white",
           "landcolor": "#E5ECF6",
           "showlakes": true,
           "showland": true,
           "subunitcolor": "white"
          },
          "hoverlabel": {
           "align": "left"
          },
          "hovermode": "closest",
          "mapbox": {
           "style": "light"
          },
          "paper_bgcolor": "white",
          "plot_bgcolor": "#E5ECF6",
          "polar": {
           "angularaxis": {
            "gridcolor": "white",
            "linecolor": "white",
            "ticks": ""
           },
           "bgcolor": "#E5ECF6",
           "radialaxis": {
            "gridcolor": "white",
            "linecolor": "white",
            "ticks": ""
           }
          },
          "scene": {
           "xaxis": {
            "backgroundcolor": "#E5ECF6",
            "gridcolor": "white",
            "gridwidth": 2,
            "linecolor": "white",
            "showbackground": true,
            "ticks": "",
            "zerolinecolor": "white"
           },
           "yaxis": {
            "backgroundcolor": "#E5ECF6",
            "gridcolor": "white",
            "gridwidth": 2,
            "linecolor": "white",
            "showbackground": true,
            "ticks": "",
            "zerolinecolor": "white"
           },
           "zaxis": {
            "backgroundcolor": "#E5ECF6",
            "gridcolor": "white",
            "gridwidth": 2,
            "linecolor": "white",
            "showbackground": true,
            "ticks": "",
            "zerolinecolor": "white"
           }
          },
          "shapedefaults": {
           "line": {
            "color": "#2a3f5f"
           }
          },
          "ternary": {
           "aaxis": {
            "gridcolor": "white",
            "linecolor": "white",
            "ticks": ""
           },
           "baxis": {
            "gridcolor": "white",
            "linecolor": "white",
            "ticks": ""
           },
           "bgcolor": "#E5ECF6",
           "caxis": {
            "gridcolor": "white",
            "linecolor": "white",
            "ticks": ""
           }
          },
          "title": {
           "x": 0.05
          },
          "xaxis": {
           "automargin": true,
           "gridcolor": "white",
           "linecolor": "white",
           "ticks": "",
           "title": {
            "standoff": 15
           },
           "zerolinecolor": "white",
           "zerolinewidth": 2
          },
          "yaxis": {
           "automargin": true,
           "gridcolor": "white",
           "linecolor": "white",
           "ticks": "",
           "title": {
            "standoff": 15
           },
           "zerolinecolor": "white",
           "zerolinewidth": 2
          }
         }
        },
        "xaxis": {
         "anchor": "y",
         "domain": [
          0,
          1
         ],
         "title": {
          "text": "S"
         }
        },
        "yaxis": {
         "anchor": "x",
         "domain": [
          0,
          1
         ],
         "title": {
          "text": "value"
         }
        }
       }
      }
     },
     "metadata": {},
     "output_type": "display_data"
    }
   ],
   "source": [
    "fig = px.scatter(data, x=\"S\", y=[\"Bead height (H)\", \"Bead width (W)\", \"Bead Penetration (P)\"], trendline=\"lowess\")\n",
    "fig.show()"
   ]
  },
  {
   "cell_type": "code",
   "execution_count": 65,
   "metadata": {},
   "outputs": [
    {
     "data": {
      "application/vnd.plotly.v1+json": {
       "config": {
        "plotlyServerURL": "https://plot.ly"
       },
       "data": [
        {
         "hovertemplate": "variable=Bead height (H)<br>N=%{x}<br>value=%{y}<extra></extra>",
         "legendgroup": "Bead height (H)",
         "marker": {
          "color": "#636efa",
          "symbol": "circle"
         },
         "mode": "markers",
         "name": "Bead height (H)",
         "orientation": "v",
         "showlegend": true,
         "type": "scatter",
         "x": [
          23.5,
          23.5,
          23.5,
          23.5,
          23.5,
          23.5,
          23.5,
          23.5,
          30.5,
          30.5,
          30.5,
          30.5,
          30.5,
          30.5,
          30.5,
          30.5,
          27,
          27,
          27,
          27,
          27,
          27,
          20,
          34,
          27,
          27,
          27,
          27,
          27,
          27,
          27
         ],
         "xaxis": "x",
         "y": [
          2.38,
          2.54,
          3.07,
          2.79,
          2.03,
          1.98,
          1.89,
          1.99,
          1.81,
          1.66,
          3.23,
          2.72,
          2.09,
          2.08,
          3.66,
          3.05,
          2.72,
          2.13,
          1.96,
          3.2,
          2.31,
          2.1,
          1.96,
          2.07,
          2.29,
          2.14,
          1.79,
          2.2,
          1.93,
          1.75,
          1.94
         ],
         "yaxis": "y"
        },
        {
         "hovertemplate": "<b>LOWESS trendline</b><br><br>variable=Bead height (H)<br>N=%{x}<br>value=%{y} <b>(trend)</b><extra></extra>",
         "legendgroup": "Bead height (H)",
         "marker": {
          "color": "#636efa",
          "symbol": "circle"
         },
         "mode": "lines",
         "name": "Bead height (H)",
         "showlegend": false,
         "type": "scatter",
         "x": [
          20,
          23.5,
          23.5,
          23.5,
          23.5,
          23.5,
          23.5,
          23.5,
          23.5,
          27,
          27,
          27,
          27,
          27,
          27,
          27,
          27,
          27,
          27,
          27,
          27,
          27,
          30.5,
          30.5,
          30.5,
          30.5,
          30.5,
          30.5,
          30.5,
          30.5,
          34
         ],
         "xaxis": "x",
         "y": [
          1.9600000000000128,
          2.309440226671655,
          2.309440226671655,
          2.309440226671655,
          2.309440226671655,
          2.309440226671655,
          2.309440226671655,
          2.309440226671655,
          2.309440226671655,
          2.1457891955917674,
          2.1457891955917674,
          2.1457891955917674,
          2.1457891955917674,
          2.1457891955917674,
          2.1457891955917674,
          2.1457891955917674,
          2.1457891955917674,
          2.1457891955917674,
          2.1457891955917674,
          2.1457891955917674,
          2.1457891955917674,
          2.1457891955917674,
          2.4656678551175255,
          2.4656678551175255,
          2.4656678551175255,
          2.4656678551175255,
          2.4656678551175255,
          2.4656678551175255,
          2.4656678551175255,
          2.4656678551175255,
          2.0700000000000025
         ],
         "yaxis": "y"
        },
        {
         "hovertemplate": "variable=Bead width (W)<br>N=%{x}<br>value=%{y}<extra></extra>",
         "legendgroup": "Bead width (W)",
         "marker": {
          "color": "#EF553B",
          "symbol": "circle"
         },
         "mode": "markers",
         "name": "Bead width (W)",
         "orientation": "v",
         "showlegend": true,
         "type": "scatter",
         "x": [
          23.5,
          23.5,
          23.5,
          23.5,
          23.5,
          23.5,
          23.5,
          23.5,
          30.5,
          30.5,
          30.5,
          30.5,
          30.5,
          30.5,
          30.5,
          30.5,
          27,
          27,
          27,
          27,
          27,
          27,
          20,
          34,
          27,
          27,
          27,
          27,
          27,
          27,
          27
         ],
         "xaxis": "x",
         "y": [
          10.55,
          12.43,
          9.76,
          13.14,
          10.27,
          9.26,
          9.37,
          9.42,
          9.17,
          11.21,
          9.48,
          12.79,
          8.08,
          9.74,
          8.48,
          10.58,
          8.82,
          11.4,
          8.4,
          9.34,
          13.95,
          9.33,
          10.4,
          9.87,
          10.55,
          11.15,
          10.73,
          11.68,
          11.4,
          11.19,
          10.72
         ],
         "yaxis": "y"
        },
        {
         "hovertemplate": "<b>LOWESS trendline</b><br><br>variable=Bead width (W)<br>N=%{x}<br>value=%{y} <b>(trend)</b><extra></extra>",
         "legendgroup": "Bead width (W)",
         "marker": {
          "color": "#EF553B",
          "symbol": "circle"
         },
         "mode": "lines",
         "name": "Bead width (W)",
         "showlegend": false,
         "type": "scatter",
         "x": [
          20,
          23.5,
          23.5,
          23.5,
          23.5,
          23.5,
          23.5,
          23.5,
          23.5,
          27,
          27,
          27,
          27,
          27,
          27,
          27,
          27,
          27,
          27,
          27,
          27,
          27,
          30.5,
          30.5,
          30.5,
          30.5,
          30.5,
          30.5,
          30.5,
          30.5,
          34
         ],
         "xaxis": "x",
         "y": [
          10.399999999999928,
          10.249664620940997,
          10.249664620940997,
          10.249664620940997,
          10.249664620940997,
          10.249664620940997,
          10.249664620940997,
          10.249664620940997,
          10.249664620940997,
          10.578433966761434,
          10.578433966761434,
          10.578433966761434,
          10.578433966761434,
          10.578433966761434,
          10.578433966761434,
          10.578433966761434,
          10.578433966761434,
          10.578433966761434,
          10.578433966761434,
          10.578433966761434,
          10.578433966761434,
          10.578433966761434,
          9.735317596522838,
          9.735317596522838,
          9.735317596522838,
          9.735317596522838,
          9.735317596522838,
          9.735317596522838,
          9.735317596522838,
          9.735317596522838,
          9.869999999999914
         ],
         "yaxis": "y"
        },
        {
         "hovertemplate": "variable=Bead Penetration (P)<br>N=%{x}<br>value=%{y}<extra></extra>",
         "legendgroup": "Bead Penetration (P)",
         "marker": {
          "color": "#00cc96",
          "symbol": "circle"
         },
         "mode": "markers",
         "name": "Bead Penetration (P)",
         "orientation": "v",
         "showlegend": true,
         "type": "scatter",
         "x": [
          23.5,
          23.5,
          23.5,
          23.5,
          23.5,
          23.5,
          23.5,
          23.5,
          30.5,
          30.5,
          30.5,
          30.5,
          30.5,
          30.5,
          30.5,
          30.5,
          27,
          27,
          27,
          27,
          27,
          27,
          20,
          34,
          27,
          27,
          27,
          27,
          27,
          27,
          27
         ],
         "xaxis": "x",
         "y": [
          3.94,
          5.08,
          5.12,
          6.4,
          3.05,
          3.59,
          4.79,
          5.37,
          3.33,
          3.18,
          7.31,
          5.77,
          2.6,
          2.08,
          6.06,
          4.19,
          4.44,
          5.3,
          2.35,
          5.76,
          4.88,
          3.24,
          4.34,
          3.43,
          3.6,
          3.66,
          4.37,
          4.17,
          3.94,
          4.3,
          3.68
         ],
         "yaxis": "y"
        },
        {
         "hovertemplate": "<b>LOWESS trendline</b><br><br>variable=Bead Penetration (P)<br>N=%{x}<br>value=%{y} <b>(trend)</b><extra></extra>",
         "legendgroup": "Bead Penetration (P)",
         "marker": {
          "color": "#00cc96",
          "symbol": "circle"
         },
         "mode": "lines",
         "name": "Bead Penetration (P)",
         "showlegend": false,
         "type": "scatter",
         "x": [
          20,
          23.5,
          23.5,
          23.5,
          23.5,
          23.5,
          23.5,
          23.5,
          23.5,
          27,
          27,
          27,
          27,
          27,
          27,
          27,
          27,
          27,
          27,
          27,
          27,
          27,
          30.5,
          30.5,
          30.5,
          30.5,
          30.5,
          30.5,
          30.5,
          30.5,
          34
         ],
         "xaxis": "x",
         "y": [
          4.339999999999973,
          4.672354235817394,
          4.672354235817394,
          4.672354235817394,
          4.672354235817394,
          4.672354235817394,
          4.672354235817394,
          4.672354235817394,
          4.672354235817394,
          4.13181498482017,
          4.13181498482017,
          4.13181498482017,
          4.13181498482017,
          4.13181498482017,
          4.13181498482017,
          4.13181498482017,
          4.13181498482017,
          4.13181498482017,
          4.13181498482017,
          4.13181498482017,
          4.13181498482017,
          4.13181498482017,
          3.8694687916004074,
          3.8694687916004074,
          3.8694687916004074,
          3.8694687916004074,
          3.8694687916004074,
          3.8694687916004074,
          3.8694687916004074,
          3.8694687916004074,
          3.4300000000000073
         ],
         "yaxis": "y"
        }
       ],
       "layout": {
        "legend": {
         "title": {
          "text": "variable"
         },
         "tracegroupgap": 0
        },
        "margin": {
         "t": 60
        },
        "template": {
         "data": {
          "bar": [
           {
            "error_x": {
             "color": "#2a3f5f"
            },
            "error_y": {
             "color": "#2a3f5f"
            },
            "marker": {
             "line": {
              "color": "#E5ECF6",
              "width": 0.5
             },
             "pattern": {
              "fillmode": "overlay",
              "size": 10,
              "solidity": 0.2
             }
            },
            "type": "bar"
           }
          ],
          "barpolar": [
           {
            "marker": {
             "line": {
              "color": "#E5ECF6",
              "width": 0.5
             },
             "pattern": {
              "fillmode": "overlay",
              "size": 10,
              "solidity": 0.2
             }
            },
            "type": "barpolar"
           }
          ],
          "carpet": [
           {
            "aaxis": {
             "endlinecolor": "#2a3f5f",
             "gridcolor": "white",
             "linecolor": "white",
             "minorgridcolor": "white",
             "startlinecolor": "#2a3f5f"
            },
            "baxis": {
             "endlinecolor": "#2a3f5f",
             "gridcolor": "white",
             "linecolor": "white",
             "minorgridcolor": "white",
             "startlinecolor": "#2a3f5f"
            },
            "type": "carpet"
           }
          ],
          "choropleth": [
           {
            "colorbar": {
             "outlinewidth": 0,
             "ticks": ""
            },
            "type": "choropleth"
           }
          ],
          "contour": [
           {
            "colorbar": {
             "outlinewidth": 0,
             "ticks": ""
            },
            "colorscale": [
             [
              0,
              "#0d0887"
             ],
             [
              0.1111111111111111,
              "#46039f"
             ],
             [
              0.2222222222222222,
              "#7201a8"
             ],
             [
              0.3333333333333333,
              "#9c179e"
             ],
             [
              0.4444444444444444,
              "#bd3786"
             ],
             [
              0.5555555555555556,
              "#d8576b"
             ],
             [
              0.6666666666666666,
              "#ed7953"
             ],
             [
              0.7777777777777778,
              "#fb9f3a"
             ],
             [
              0.8888888888888888,
              "#fdca26"
             ],
             [
              1,
              "#f0f921"
             ]
            ],
            "type": "contour"
           }
          ],
          "contourcarpet": [
           {
            "colorbar": {
             "outlinewidth": 0,
             "ticks": ""
            },
            "type": "contourcarpet"
           }
          ],
          "heatmap": [
           {
            "colorbar": {
             "outlinewidth": 0,
             "ticks": ""
            },
            "colorscale": [
             [
              0,
              "#0d0887"
             ],
             [
              0.1111111111111111,
              "#46039f"
             ],
             [
              0.2222222222222222,
              "#7201a8"
             ],
             [
              0.3333333333333333,
              "#9c179e"
             ],
             [
              0.4444444444444444,
              "#bd3786"
             ],
             [
              0.5555555555555556,
              "#d8576b"
             ],
             [
              0.6666666666666666,
              "#ed7953"
             ],
             [
              0.7777777777777778,
              "#fb9f3a"
             ],
             [
              0.8888888888888888,
              "#fdca26"
             ],
             [
              1,
              "#f0f921"
             ]
            ],
            "type": "heatmap"
           }
          ],
          "heatmapgl": [
           {
            "colorbar": {
             "outlinewidth": 0,
             "ticks": ""
            },
            "colorscale": [
             [
              0,
              "#0d0887"
             ],
             [
              0.1111111111111111,
              "#46039f"
             ],
             [
              0.2222222222222222,
              "#7201a8"
             ],
             [
              0.3333333333333333,
              "#9c179e"
             ],
             [
              0.4444444444444444,
              "#bd3786"
             ],
             [
              0.5555555555555556,
              "#d8576b"
             ],
             [
              0.6666666666666666,
              "#ed7953"
             ],
             [
              0.7777777777777778,
              "#fb9f3a"
             ],
             [
              0.8888888888888888,
              "#fdca26"
             ],
             [
              1,
              "#f0f921"
             ]
            ],
            "type": "heatmapgl"
           }
          ],
          "histogram": [
           {
            "marker": {
             "pattern": {
              "fillmode": "overlay",
              "size": 10,
              "solidity": 0.2
             }
            },
            "type": "histogram"
           }
          ],
          "histogram2d": [
           {
            "colorbar": {
             "outlinewidth": 0,
             "ticks": ""
            },
            "colorscale": [
             [
              0,
              "#0d0887"
             ],
             [
              0.1111111111111111,
              "#46039f"
             ],
             [
              0.2222222222222222,
              "#7201a8"
             ],
             [
              0.3333333333333333,
              "#9c179e"
             ],
             [
              0.4444444444444444,
              "#bd3786"
             ],
             [
              0.5555555555555556,
              "#d8576b"
             ],
             [
              0.6666666666666666,
              "#ed7953"
             ],
             [
              0.7777777777777778,
              "#fb9f3a"
             ],
             [
              0.8888888888888888,
              "#fdca26"
             ],
             [
              1,
              "#f0f921"
             ]
            ],
            "type": "histogram2d"
           }
          ],
          "histogram2dcontour": [
           {
            "colorbar": {
             "outlinewidth": 0,
             "ticks": ""
            },
            "colorscale": [
             [
              0,
              "#0d0887"
             ],
             [
              0.1111111111111111,
              "#46039f"
             ],
             [
              0.2222222222222222,
              "#7201a8"
             ],
             [
              0.3333333333333333,
              "#9c179e"
             ],
             [
              0.4444444444444444,
              "#bd3786"
             ],
             [
              0.5555555555555556,
              "#d8576b"
             ],
             [
              0.6666666666666666,
              "#ed7953"
             ],
             [
              0.7777777777777778,
              "#fb9f3a"
             ],
             [
              0.8888888888888888,
              "#fdca26"
             ],
             [
              1,
              "#f0f921"
             ]
            ],
            "type": "histogram2dcontour"
           }
          ],
          "mesh3d": [
           {
            "colorbar": {
             "outlinewidth": 0,
             "ticks": ""
            },
            "type": "mesh3d"
           }
          ],
          "parcoords": [
           {
            "line": {
             "colorbar": {
              "outlinewidth": 0,
              "ticks": ""
             }
            },
            "type": "parcoords"
           }
          ],
          "pie": [
           {
            "automargin": true,
            "type": "pie"
           }
          ],
          "scatter": [
           {
            "fillpattern": {
             "fillmode": "overlay",
             "size": 10,
             "solidity": 0.2
            },
            "type": "scatter"
           }
          ],
          "scatter3d": [
           {
            "line": {
             "colorbar": {
              "outlinewidth": 0,
              "ticks": ""
             }
            },
            "marker": {
             "colorbar": {
              "outlinewidth": 0,
              "ticks": ""
             }
            },
            "type": "scatter3d"
           }
          ],
          "scattercarpet": [
           {
            "marker": {
             "colorbar": {
              "outlinewidth": 0,
              "ticks": ""
             }
            },
            "type": "scattercarpet"
           }
          ],
          "scattergeo": [
           {
            "marker": {
             "colorbar": {
              "outlinewidth": 0,
              "ticks": ""
             }
            },
            "type": "scattergeo"
           }
          ],
          "scattergl": [
           {
            "marker": {
             "colorbar": {
              "outlinewidth": 0,
              "ticks": ""
             }
            },
            "type": "scattergl"
           }
          ],
          "scattermapbox": [
           {
            "marker": {
             "colorbar": {
              "outlinewidth": 0,
              "ticks": ""
             }
            },
            "type": "scattermapbox"
           }
          ],
          "scatterpolar": [
           {
            "marker": {
             "colorbar": {
              "outlinewidth": 0,
              "ticks": ""
             }
            },
            "type": "scatterpolar"
           }
          ],
          "scatterpolargl": [
           {
            "marker": {
             "colorbar": {
              "outlinewidth": 0,
              "ticks": ""
             }
            },
            "type": "scatterpolargl"
           }
          ],
          "scatterternary": [
           {
            "marker": {
             "colorbar": {
              "outlinewidth": 0,
              "ticks": ""
             }
            },
            "type": "scatterternary"
           }
          ],
          "surface": [
           {
            "colorbar": {
             "outlinewidth": 0,
             "ticks": ""
            },
            "colorscale": [
             [
              0,
              "#0d0887"
             ],
             [
              0.1111111111111111,
              "#46039f"
             ],
             [
              0.2222222222222222,
              "#7201a8"
             ],
             [
              0.3333333333333333,
              "#9c179e"
             ],
             [
              0.4444444444444444,
              "#bd3786"
             ],
             [
              0.5555555555555556,
              "#d8576b"
             ],
             [
              0.6666666666666666,
              "#ed7953"
             ],
             [
              0.7777777777777778,
              "#fb9f3a"
             ],
             [
              0.8888888888888888,
              "#fdca26"
             ],
             [
              1,
              "#f0f921"
             ]
            ],
            "type": "surface"
           }
          ],
          "table": [
           {
            "cells": {
             "fill": {
              "color": "#EBF0F8"
             },
             "line": {
              "color": "white"
             }
            },
            "header": {
             "fill": {
              "color": "#C8D4E3"
             },
             "line": {
              "color": "white"
             }
            },
            "type": "table"
           }
          ]
         },
         "layout": {
          "annotationdefaults": {
           "arrowcolor": "#2a3f5f",
           "arrowhead": 0,
           "arrowwidth": 1
          },
          "autotypenumbers": "strict",
          "coloraxis": {
           "colorbar": {
            "outlinewidth": 0,
            "ticks": ""
           }
          },
          "colorscale": {
           "diverging": [
            [
             0,
             "#8e0152"
            ],
            [
             0.1,
             "#c51b7d"
            ],
            [
             0.2,
             "#de77ae"
            ],
            [
             0.3,
             "#f1b6da"
            ],
            [
             0.4,
             "#fde0ef"
            ],
            [
             0.5,
             "#f7f7f7"
            ],
            [
             0.6,
             "#e6f5d0"
            ],
            [
             0.7,
             "#b8e186"
            ],
            [
             0.8,
             "#7fbc41"
            ],
            [
             0.9,
             "#4d9221"
            ],
            [
             1,
             "#276419"
            ]
           ],
           "sequential": [
            [
             0,
             "#0d0887"
            ],
            [
             0.1111111111111111,
             "#46039f"
            ],
            [
             0.2222222222222222,
             "#7201a8"
            ],
            [
             0.3333333333333333,
             "#9c179e"
            ],
            [
             0.4444444444444444,
             "#bd3786"
            ],
            [
             0.5555555555555556,
             "#d8576b"
            ],
            [
             0.6666666666666666,
             "#ed7953"
            ],
            [
             0.7777777777777778,
             "#fb9f3a"
            ],
            [
             0.8888888888888888,
             "#fdca26"
            ],
            [
             1,
             "#f0f921"
            ]
           ],
           "sequentialminus": [
            [
             0,
             "#0d0887"
            ],
            [
             0.1111111111111111,
             "#46039f"
            ],
            [
             0.2222222222222222,
             "#7201a8"
            ],
            [
             0.3333333333333333,
             "#9c179e"
            ],
            [
             0.4444444444444444,
             "#bd3786"
            ],
            [
             0.5555555555555556,
             "#d8576b"
            ],
            [
             0.6666666666666666,
             "#ed7953"
            ],
            [
             0.7777777777777778,
             "#fb9f3a"
            ],
            [
             0.8888888888888888,
             "#fdca26"
            ],
            [
             1,
             "#f0f921"
            ]
           ]
          },
          "colorway": [
           "#636efa",
           "#EF553B",
           "#00cc96",
           "#ab63fa",
           "#FFA15A",
           "#19d3f3",
           "#FF6692",
           "#B6E880",
           "#FF97FF",
           "#FECB52"
          ],
          "font": {
           "color": "#2a3f5f"
          },
          "geo": {
           "bgcolor": "white",
           "lakecolor": "white",
           "landcolor": "#E5ECF6",
           "showlakes": true,
           "showland": true,
           "subunitcolor": "white"
          },
          "hoverlabel": {
           "align": "left"
          },
          "hovermode": "closest",
          "mapbox": {
           "style": "light"
          },
          "paper_bgcolor": "white",
          "plot_bgcolor": "#E5ECF6",
          "polar": {
           "angularaxis": {
            "gridcolor": "white",
            "linecolor": "white",
            "ticks": ""
           },
           "bgcolor": "#E5ECF6",
           "radialaxis": {
            "gridcolor": "white",
            "linecolor": "white",
            "ticks": ""
           }
          },
          "scene": {
           "xaxis": {
            "backgroundcolor": "#E5ECF6",
            "gridcolor": "white",
            "gridwidth": 2,
            "linecolor": "white",
            "showbackground": true,
            "ticks": "",
            "zerolinecolor": "white"
           },
           "yaxis": {
            "backgroundcolor": "#E5ECF6",
            "gridcolor": "white",
            "gridwidth": 2,
            "linecolor": "white",
            "showbackground": true,
            "ticks": "",
            "zerolinecolor": "white"
           },
           "zaxis": {
            "backgroundcolor": "#E5ECF6",
            "gridcolor": "white",
            "gridwidth": 2,
            "linecolor": "white",
            "showbackground": true,
            "ticks": "",
            "zerolinecolor": "white"
           }
          },
          "shapedefaults": {
           "line": {
            "color": "#2a3f5f"
           }
          },
          "ternary": {
           "aaxis": {
            "gridcolor": "white",
            "linecolor": "white",
            "ticks": ""
           },
           "baxis": {
            "gridcolor": "white",
            "linecolor": "white",
            "ticks": ""
           },
           "bgcolor": "#E5ECF6",
           "caxis": {
            "gridcolor": "white",
            "linecolor": "white",
            "ticks": ""
           }
          },
          "title": {
           "x": 0.05
          },
          "xaxis": {
           "automargin": true,
           "gridcolor": "white",
           "linecolor": "white",
           "ticks": "",
           "title": {
            "standoff": 15
           },
           "zerolinecolor": "white",
           "zerolinewidth": 2
          },
          "yaxis": {
           "automargin": true,
           "gridcolor": "white",
           "linecolor": "white",
           "ticks": "",
           "title": {
            "standoff": 15
           },
           "zerolinecolor": "white",
           "zerolinewidth": 2
          }
         }
        },
        "xaxis": {
         "anchor": "y",
         "domain": [
          0,
          1
         ],
         "title": {
          "text": "N"
         }
        },
        "yaxis": {
         "anchor": "x",
         "domain": [
          0,
          1
         ],
         "title": {
          "text": "value"
         }
        }
       }
      }
     },
     "metadata": {},
     "output_type": "display_data"
    }
   ],
   "source": [
    "fig = px.scatter(data, x=\"N\", y=[\"Bead height (H)\", \"Bead width (W)\", \"Bead Penetration (P)\"], trendline=\"lowess\")\n",
    "fig.show()"
   ]
  },
  {
   "cell_type": "code",
   "execution_count": 66,
   "metadata": {},
   "outputs": [],
   "source": [
    "@np.vectorize\n",
    "def f1(A, N):\n",
    "    return regressor.predict([[0, A, 0, N]])[0][0]\n",
    "\n",
    "@np.vectorize\n",
    "def f2(S, N):\n",
    "    return regressor.predict([[0, 0, S, N]])[0][0]\n",
    "\n",
    "@np.vectorize\n",
    "def f3(V, A):\n",
    "    return regressor.predict([[V, A, 0, 0]])[0][1]\n",
    "\n",
    "@np.vectorize\n",
    "def f4(V, S):\n",
    "    return regressor.predict([[V, 0, S, 0]])[0][1]"
   ]
  },
  {
   "cell_type": "code",
   "execution_count": 67,
   "metadata": {},
   "outputs": [],
   "source": [
    "import plotly.graph_objects as go"
   ]
  },
  {
   "cell_type": "code",
   "execution_count": 68,
   "metadata": {},
   "outputs": [
    {
     "data": {
      "application/vnd.plotly.v1+json": {
       "config": {
        "plotlyServerURL": "https://plot.ly"
       },
       "data": [
        {
         "type": "surface",
         "x": [
          250,
          325,
          325,
          325,
          325,
          325,
          325,
          325,
          325,
          400,
          400,
          400,
          400,
          400,
          400,
          400,
          400,
          400,
          400,
          400,
          400,
          400,
          475,
          475,
          475,
          475,
          475,
          475,
          475,
          475,
          550
         ],
         "y": [
          20,
          23.5,
          23.5,
          23.5,
          23.5,
          23.5,
          23.5,
          23.5,
          23.5,
          27,
          27,
          27,
          27,
          27,
          27,
          27,
          27,
          27,
          27,
          27,
          27,
          27,
          30.5,
          30.5,
          30.5,
          30.5,
          30.5,
          30.5,
          30.5,
          30.5,
          34
         ],
         "z": [
          [
           2.8126604557037354,
           2.8126604557037354,
           2.8126604557037354,
           2.8126604557037354,
           2.8126604557037354,
           2.8126604557037354,
           2.8126604557037354,
           2.8126604557037354,
           2.8126604557037354,
           2.8142776489257812,
           2.8142776489257812,
           2.8142776489257812,
           2.8142776489257812,
           2.8142776489257812,
           2.8142776489257812,
           2.8142776489257812,
           2.8142776489257812,
           2.8142776489257812,
           2.8142776489257812,
           2.8142776489257812,
           2.8142776489257812,
           2.8142776489257812,
           3.0929956436157227,
           3.0929956436157227,
           3.0929956436157227,
           3.0929956436157227,
           3.0929956436157227,
           3.0929956436157227,
           3.0929956436157227,
           3.0929956436157227,
           3.485074520111084
          ],
          [
           2.8126604557037354,
           2.8126604557037354,
           2.8126604557037354,
           2.8126604557037354,
           2.8126604557037354,
           2.8126604557037354,
           2.8126604557037354,
           2.8126604557037354,
           2.8126604557037354,
           2.8142776489257812,
           2.8142776489257812,
           2.8142776489257812,
           2.8142776489257812,
           2.8142776489257812,
           2.8142776489257812,
           2.8142776489257812,
           2.8142776489257812,
           2.8142776489257812,
           2.8142776489257812,
           2.8142776489257812,
           2.8142776489257812,
           2.8142776489257812,
           3.0929956436157227,
           3.0929956436157227,
           3.0929956436157227,
           3.0929956436157227,
           3.0929956436157227,
           3.0929956436157227,
           3.0929956436157227,
           3.0929956436157227,
           3.485074520111084
          ],
          [
           2.8126604557037354,
           2.8126604557037354,
           2.8126604557037354,
           2.8126604557037354,
           2.8126604557037354,
           2.8126604557037354,
           2.8126604557037354,
           2.8126604557037354,
           2.8126604557037354,
           2.8142776489257812,
           2.8142776489257812,
           2.8142776489257812,
           2.8142776489257812,
           2.8142776489257812,
           2.8142776489257812,
           2.8142776489257812,
           2.8142776489257812,
           2.8142776489257812,
           2.8142776489257812,
           2.8142776489257812,
           2.8142776489257812,
           2.8142776489257812,
           3.0929956436157227,
           3.0929956436157227,
           3.0929956436157227,
           3.0929956436157227,
           3.0929956436157227,
           3.0929956436157227,
           3.0929956436157227,
           3.0929956436157227,
           3.485074520111084
          ],
          [
           2.8126604557037354,
           2.8126604557037354,
           2.8126604557037354,
           2.8126604557037354,
           2.8126604557037354,
           2.8126604557037354,
           2.8126604557037354,
           2.8126604557037354,
           2.8126604557037354,
           2.8142776489257812,
           2.8142776489257812,
           2.8142776489257812,
           2.8142776489257812,
           2.8142776489257812,
           2.8142776489257812,
           2.8142776489257812,
           2.8142776489257812,
           2.8142776489257812,
           2.8142776489257812,
           2.8142776489257812,
           2.8142776489257812,
           2.8142776489257812,
           3.0929956436157227,
           3.0929956436157227,
           3.0929956436157227,
           3.0929956436157227,
           3.0929956436157227,
           3.0929956436157227,
           3.0929956436157227,
           3.0929956436157227,
           3.485074520111084
          ],
          [
           2.8126604557037354,
           2.8126604557037354,
           2.8126604557037354,
           2.8126604557037354,
           2.8126604557037354,
           2.8126604557037354,
           2.8126604557037354,
           2.8126604557037354,
           2.8126604557037354,
           2.8142776489257812,
           2.8142776489257812,
           2.8142776489257812,
           2.8142776489257812,
           2.8142776489257812,
           2.8142776489257812,
           2.8142776489257812,
           2.8142776489257812,
           2.8142776489257812,
           2.8142776489257812,
           2.8142776489257812,
           2.8142776489257812,
           2.8142776489257812,
           3.0929956436157227,
           3.0929956436157227,
           3.0929956436157227,
           3.0929956436157227,
           3.0929956436157227,
           3.0929956436157227,
           3.0929956436157227,
           3.0929956436157227,
           3.485074520111084
          ],
          [
           2.8126604557037354,
           2.8126604557037354,
           2.8126604557037354,
           2.8126604557037354,
           2.8126604557037354,
           2.8126604557037354,
           2.8126604557037354,
           2.8126604557037354,
           2.8126604557037354,
           2.8142776489257812,
           2.8142776489257812,
           2.8142776489257812,
           2.8142776489257812,
           2.8142776489257812,
           2.8142776489257812,
           2.8142776489257812,
           2.8142776489257812,
           2.8142776489257812,
           2.8142776489257812,
           2.8142776489257812,
           2.8142776489257812,
           2.8142776489257812,
           3.0929956436157227,
           3.0929956436157227,
           3.0929956436157227,
           3.0929956436157227,
           3.0929956436157227,
           3.0929956436157227,
           3.0929956436157227,
           3.0929956436157227,
           3.485074520111084
          ],
          [
           2.8126604557037354,
           2.8126604557037354,
           2.8126604557037354,
           2.8126604557037354,
           2.8126604557037354,
           2.8126604557037354,
           2.8126604557037354,
           2.8126604557037354,
           2.8126604557037354,
           2.8142776489257812,
           2.8142776489257812,
           2.8142776489257812,
           2.8142776489257812,
           2.8142776489257812,
           2.8142776489257812,
           2.8142776489257812,
           2.8142776489257812,
           2.8142776489257812,
           2.8142776489257812,
           2.8142776489257812,
           2.8142776489257812,
           2.8142776489257812,
           3.0929956436157227,
           3.0929956436157227,
           3.0929956436157227,
           3.0929956436157227,
           3.0929956436157227,
           3.0929956436157227,
           3.0929956436157227,
           3.0929956436157227,
           3.485074520111084
          ],
          [
           2.8126604557037354,
           2.8126604557037354,
           2.8126604557037354,
           2.8126604557037354,
           2.8126604557037354,
           2.8126604557037354,
           2.8126604557037354,
           2.8126604557037354,
           2.8126604557037354,
           2.8142776489257812,
           2.8142776489257812,
           2.8142776489257812,
           2.8142776489257812,
           2.8142776489257812,
           2.8142776489257812,
           2.8142776489257812,
           2.8142776489257812,
           2.8142776489257812,
           2.8142776489257812,
           2.8142776489257812,
           2.8142776489257812,
           2.8142776489257812,
           3.0929956436157227,
           3.0929956436157227,
           3.0929956436157227,
           3.0929956436157227,
           3.0929956436157227,
           3.0929956436157227,
           3.0929956436157227,
           3.0929956436157227,
           3.485074520111084
          ],
          [
           2.8126604557037354,
           2.8126604557037354,
           2.8126604557037354,
           2.8126604557037354,
           2.8126604557037354,
           2.8126604557037354,
           2.8126604557037354,
           2.8126604557037354,
           2.8126604557037354,
           2.8142776489257812,
           2.8142776489257812,
           2.8142776489257812,
           2.8142776489257812,
           2.8142776489257812,
           2.8142776489257812,
           2.8142776489257812,
           2.8142776489257812,
           2.8142776489257812,
           2.8142776489257812,
           2.8142776489257812,
           2.8142776489257812,
           2.8142776489257812,
           3.0929956436157227,
           3.0929956436157227,
           3.0929956436157227,
           3.0929956436157227,
           3.0929956436157227,
           3.0929956436157227,
           3.0929956436157227,
           3.0929956436157227,
           3.485074520111084
          ],
          [
           2.657611131668091,
           2.657611131668091,
           2.657611131668091,
           2.657611131668091,
           2.657611131668091,
           2.657611131668091,
           2.657611131668091,
           2.657611131668091,
           2.657611131668091,
           2.803075075149536,
           2.803075075149536,
           2.803075075149536,
           2.803075075149536,
           2.803075075149536,
           2.803075075149536,
           2.803075075149536,
           2.803075075149536,
           2.803075075149536,
           2.803075075149536,
           2.803075075149536,
           2.803075075149536,
           2.803075075149536,
           3.251279592514038,
           3.251279592514038,
           3.251279592514038,
           3.251279592514038,
           3.251279592514038,
           3.251279592514038,
           3.251279592514038,
           3.251279592514038,
           3.647723913192749
          ],
          [
           2.657611131668091,
           2.657611131668091,
           2.657611131668091,
           2.657611131668091,
           2.657611131668091,
           2.657611131668091,
           2.657611131668091,
           2.657611131668091,
           2.657611131668091,
           2.803075075149536,
           2.803075075149536,
           2.803075075149536,
           2.803075075149536,
           2.803075075149536,
           2.803075075149536,
           2.803075075149536,
           2.803075075149536,
           2.803075075149536,
           2.803075075149536,
           2.803075075149536,
           2.803075075149536,
           2.803075075149536,
           3.251279592514038,
           3.251279592514038,
           3.251279592514038,
           3.251279592514038,
           3.251279592514038,
           3.251279592514038,
           3.251279592514038,
           3.251279592514038,
           3.647723913192749
          ],
          [
           2.657611131668091,
           2.657611131668091,
           2.657611131668091,
           2.657611131668091,
           2.657611131668091,
           2.657611131668091,
           2.657611131668091,
           2.657611131668091,
           2.657611131668091,
           2.803075075149536,
           2.803075075149536,
           2.803075075149536,
           2.803075075149536,
           2.803075075149536,
           2.803075075149536,
           2.803075075149536,
           2.803075075149536,
           2.803075075149536,
           2.803075075149536,
           2.803075075149536,
           2.803075075149536,
           2.803075075149536,
           3.251279592514038,
           3.251279592514038,
           3.251279592514038,
           3.251279592514038,
           3.251279592514038,
           3.251279592514038,
           3.251279592514038,
           3.251279592514038,
           3.647723913192749
          ],
          [
           2.657611131668091,
           2.657611131668091,
           2.657611131668091,
           2.657611131668091,
           2.657611131668091,
           2.657611131668091,
           2.657611131668091,
           2.657611131668091,
           2.657611131668091,
           2.803075075149536,
           2.803075075149536,
           2.803075075149536,
           2.803075075149536,
           2.803075075149536,
           2.803075075149536,
           2.803075075149536,
           2.803075075149536,
           2.803075075149536,
           2.803075075149536,
           2.803075075149536,
           2.803075075149536,
           2.803075075149536,
           3.251279592514038,
           3.251279592514038,
           3.251279592514038,
           3.251279592514038,
           3.251279592514038,
           3.251279592514038,
           3.251279592514038,
           3.251279592514038,
           3.647723913192749
          ],
          [
           2.657611131668091,
           2.657611131668091,
           2.657611131668091,
           2.657611131668091,
           2.657611131668091,
           2.657611131668091,
           2.657611131668091,
           2.657611131668091,
           2.657611131668091,
           2.803075075149536,
           2.803075075149536,
           2.803075075149536,
           2.803075075149536,
           2.803075075149536,
           2.803075075149536,
           2.803075075149536,
           2.803075075149536,
           2.803075075149536,
           2.803075075149536,
           2.803075075149536,
           2.803075075149536,
           2.803075075149536,
           3.251279592514038,
           3.251279592514038,
           3.251279592514038,
           3.251279592514038,
           3.251279592514038,
           3.251279592514038,
           3.251279592514038,
           3.251279592514038,
           3.647723913192749
          ],
          [
           2.657611131668091,
           2.657611131668091,
           2.657611131668091,
           2.657611131668091,
           2.657611131668091,
           2.657611131668091,
           2.657611131668091,
           2.657611131668091,
           2.657611131668091,
           2.803075075149536,
           2.803075075149536,
           2.803075075149536,
           2.803075075149536,
           2.803075075149536,
           2.803075075149536,
           2.803075075149536,
           2.803075075149536,
           2.803075075149536,
           2.803075075149536,
           2.803075075149536,
           2.803075075149536,
           2.803075075149536,
           3.251279592514038,
           3.251279592514038,
           3.251279592514038,
           3.251279592514038,
           3.251279592514038,
           3.251279592514038,
           3.251279592514038,
           3.251279592514038,
           3.647723913192749
          ],
          [
           2.657611131668091,
           2.657611131668091,
           2.657611131668091,
           2.657611131668091,
           2.657611131668091,
           2.657611131668091,
           2.657611131668091,
           2.657611131668091,
           2.657611131668091,
           2.803075075149536,
           2.803075075149536,
           2.803075075149536,
           2.803075075149536,
           2.803075075149536,
           2.803075075149536,
           2.803075075149536,
           2.803075075149536,
           2.803075075149536,
           2.803075075149536,
           2.803075075149536,
           2.803075075149536,
           2.803075075149536,
           3.251279592514038,
           3.251279592514038,
           3.251279592514038,
           3.251279592514038,
           3.251279592514038,
           3.251279592514038,
           3.251279592514038,
           3.251279592514038,
           3.647723913192749
          ],
          [
           2.657611131668091,
           2.657611131668091,
           2.657611131668091,
           2.657611131668091,
           2.657611131668091,
           2.657611131668091,
           2.657611131668091,
           2.657611131668091,
           2.657611131668091,
           2.803075075149536,
           2.803075075149536,
           2.803075075149536,
           2.803075075149536,
           2.803075075149536,
           2.803075075149536,
           2.803075075149536,
           2.803075075149536,
           2.803075075149536,
           2.803075075149536,
           2.803075075149536,
           2.803075075149536,
           2.803075075149536,
           3.251279592514038,
           3.251279592514038,
           3.251279592514038,
           3.251279592514038,
           3.251279592514038,
           3.251279592514038,
           3.251279592514038,
           3.251279592514038,
           3.647723913192749
          ],
          [
           2.657611131668091,
           2.657611131668091,
           2.657611131668091,
           2.657611131668091,
           2.657611131668091,
           2.657611131668091,
           2.657611131668091,
           2.657611131668091,
           2.657611131668091,
           2.803075075149536,
           2.803075075149536,
           2.803075075149536,
           2.803075075149536,
           2.803075075149536,
           2.803075075149536,
           2.803075075149536,
           2.803075075149536,
           2.803075075149536,
           2.803075075149536,
           2.803075075149536,
           2.803075075149536,
           2.803075075149536,
           3.251279592514038,
           3.251279592514038,
           3.251279592514038,
           3.251279592514038,
           3.251279592514038,
           3.251279592514038,
           3.251279592514038,
           3.251279592514038,
           3.647723913192749
          ],
          [
           2.657611131668091,
           2.657611131668091,
           2.657611131668091,
           2.657611131668091,
           2.657611131668091,
           2.657611131668091,
           2.657611131668091,
           2.657611131668091,
           2.657611131668091,
           2.803075075149536,
           2.803075075149536,
           2.803075075149536,
           2.803075075149536,
           2.803075075149536,
           2.803075075149536,
           2.803075075149536,
           2.803075075149536,
           2.803075075149536,
           2.803075075149536,
           2.803075075149536,
           2.803075075149536,
           2.803075075149536,
           3.251279592514038,
           3.251279592514038,
           3.251279592514038,
           3.251279592514038,
           3.251279592514038,
           3.251279592514038,
           3.251279592514038,
           3.251279592514038,
           3.647723913192749
          ],
          [
           2.657611131668091,
           2.657611131668091,
           2.657611131668091,
           2.657611131668091,
           2.657611131668091,
           2.657611131668091,
           2.657611131668091,
           2.657611131668091,
           2.657611131668091,
           2.803075075149536,
           2.803075075149536,
           2.803075075149536,
           2.803075075149536,
           2.803075075149536,
           2.803075075149536,
           2.803075075149536,
           2.803075075149536,
           2.803075075149536,
           2.803075075149536,
           2.803075075149536,
           2.803075075149536,
           2.803075075149536,
           3.251279592514038,
           3.251279592514038,
           3.251279592514038,
           3.251279592514038,
           3.251279592514038,
           3.251279592514038,
           3.251279592514038,
           3.251279592514038,
           3.647723913192749
          ],
          [
           2.657611131668091,
           2.657611131668091,
           2.657611131668091,
           2.657611131668091,
           2.657611131668091,
           2.657611131668091,
           2.657611131668091,
           2.657611131668091,
           2.657611131668091,
           2.803075075149536,
           2.803075075149536,
           2.803075075149536,
           2.803075075149536,
           2.803075075149536,
           2.803075075149536,
           2.803075075149536,
           2.803075075149536,
           2.803075075149536,
           2.803075075149536,
           2.803075075149536,
           2.803075075149536,
           2.803075075149536,
           3.251279592514038,
           3.251279592514038,
           3.251279592514038,
           3.251279592514038,
           3.251279592514038,
           3.251279592514038,
           3.251279592514038,
           3.251279592514038,
           3.647723913192749
          ],
          [
           2.657611131668091,
           2.657611131668091,
           2.657611131668091,
           2.657611131668091,
           2.657611131668091,
           2.657611131668091,
           2.657611131668091,
           2.657611131668091,
           2.657611131668091,
           2.803075075149536,
           2.803075075149536,
           2.803075075149536,
           2.803075075149536,
           2.803075075149536,
           2.803075075149536,
           2.803075075149536,
           2.803075075149536,
           2.803075075149536,
           2.803075075149536,
           2.803075075149536,
           2.803075075149536,
           2.803075075149536,
           3.251279592514038,
           3.251279592514038,
           3.251279592514038,
           3.251279592514038,
           3.251279592514038,
           3.251279592514038,
           3.251279592514038,
           3.251279592514038,
           3.647723913192749
          ],
          [
           2.4390766620635986,
           2.4390766620635986,
           2.4390766620635986,
           2.4390766620635986,
           2.4390766620635986,
           2.4390766620635986,
           2.4390766620635986,
           2.4390766620635986,
           2.4390766620635986,
           2.703667163848877,
           2.703667163848877,
           2.703667163848877,
           2.703667163848877,
           2.703667163848877,
           2.703667163848877,
           2.703667163848877,
           2.703667163848877,
           2.703667163848877,
           2.703667163848877,
           2.703667163848877,
           2.703667163848877,
           2.703667163848877,
           3.0982227325439453,
           3.0982227325439453,
           3.0982227325439453,
           3.0982227325439453,
           3.0982227325439453,
           3.0982227325439453,
           3.0982227325439453,
           3.0982227325439453,
           3.494666814804077
          ],
          [
           2.4390766620635986,
           2.4390766620635986,
           2.4390766620635986,
           2.4390766620635986,
           2.4390766620635986,
           2.4390766620635986,
           2.4390766620635986,
           2.4390766620635986,
           2.4390766620635986,
           2.703667163848877,
           2.703667163848877,
           2.703667163848877,
           2.703667163848877,
           2.703667163848877,
           2.703667163848877,
           2.703667163848877,
           2.703667163848877,
           2.703667163848877,
           2.703667163848877,
           2.703667163848877,
           2.703667163848877,
           2.703667163848877,
           3.0982227325439453,
           3.0982227325439453,
           3.0982227325439453,
           3.0982227325439453,
           3.0982227325439453,
           3.0982227325439453,
           3.0982227325439453,
           3.0982227325439453,
           3.494666814804077
          ],
          [
           2.4390766620635986,
           2.4390766620635986,
           2.4390766620635986,
           2.4390766620635986,
           2.4390766620635986,
           2.4390766620635986,
           2.4390766620635986,
           2.4390766620635986,
           2.4390766620635986,
           2.703667163848877,
           2.703667163848877,
           2.703667163848877,
           2.703667163848877,
           2.703667163848877,
           2.703667163848877,
           2.703667163848877,
           2.703667163848877,
           2.703667163848877,
           2.703667163848877,
           2.703667163848877,
           2.703667163848877,
           2.703667163848877,
           3.0982227325439453,
           3.0982227325439453,
           3.0982227325439453,
           3.0982227325439453,
           3.0982227325439453,
           3.0982227325439453,
           3.0982227325439453,
           3.0982227325439453,
           3.494666814804077
          ],
          [
           2.4390766620635986,
           2.4390766620635986,
           2.4390766620635986,
           2.4390766620635986,
           2.4390766620635986,
           2.4390766620635986,
           2.4390766620635986,
           2.4390766620635986,
           2.4390766620635986,
           2.703667163848877,
           2.703667163848877,
           2.703667163848877,
           2.703667163848877,
           2.703667163848877,
           2.703667163848877,
           2.703667163848877,
           2.703667163848877,
           2.703667163848877,
           2.703667163848877,
           2.703667163848877,
           2.703667163848877,
           2.703667163848877,
           3.0982227325439453,
           3.0982227325439453,
           3.0982227325439453,
           3.0982227325439453,
           3.0982227325439453,
           3.0982227325439453,
           3.0982227325439453,
           3.0982227325439453,
           3.494666814804077
          ],
          [
           2.4390766620635986,
           2.4390766620635986,
           2.4390766620635986,
           2.4390766620635986,
           2.4390766620635986,
           2.4390766620635986,
           2.4390766620635986,
           2.4390766620635986,
           2.4390766620635986,
           2.703667163848877,
           2.703667163848877,
           2.703667163848877,
           2.703667163848877,
           2.703667163848877,
           2.703667163848877,
           2.703667163848877,
           2.703667163848877,
           2.703667163848877,
           2.703667163848877,
           2.703667163848877,
           2.703667163848877,
           2.703667163848877,
           3.0982227325439453,
           3.0982227325439453,
           3.0982227325439453,
           3.0982227325439453,
           3.0982227325439453,
           3.0982227325439453,
           3.0982227325439453,
           3.0982227325439453,
           3.494666814804077
          ],
          [
           2.4390766620635986,
           2.4390766620635986,
           2.4390766620635986,
           2.4390766620635986,
           2.4390766620635986,
           2.4390766620635986,
           2.4390766620635986,
           2.4390766620635986,
           2.4390766620635986,
           2.703667163848877,
           2.703667163848877,
           2.703667163848877,
           2.703667163848877,
           2.703667163848877,
           2.703667163848877,
           2.703667163848877,
           2.703667163848877,
           2.703667163848877,
           2.703667163848877,
           2.703667163848877,
           2.703667163848877,
           2.703667163848877,
           3.0982227325439453,
           3.0982227325439453,
           3.0982227325439453,
           3.0982227325439453,
           3.0982227325439453,
           3.0982227325439453,
           3.0982227325439453,
           3.0982227325439453,
           3.494666814804077
          ],
          [
           2.4390766620635986,
           2.4390766620635986,
           2.4390766620635986,
           2.4390766620635986,
           2.4390766620635986,
           2.4390766620635986,
           2.4390766620635986,
           2.4390766620635986,
           2.4390766620635986,
           2.703667163848877,
           2.703667163848877,
           2.703667163848877,
           2.703667163848877,
           2.703667163848877,
           2.703667163848877,
           2.703667163848877,
           2.703667163848877,
           2.703667163848877,
           2.703667163848877,
           2.703667163848877,
           2.703667163848877,
           2.703667163848877,
           3.0982227325439453,
           3.0982227325439453,
           3.0982227325439453,
           3.0982227325439453,
           3.0982227325439453,
           3.0982227325439453,
           3.0982227325439453,
           3.0982227325439453,
           3.494666814804077
          ],
          [
           2.4390766620635986,
           2.4390766620635986,
           2.4390766620635986,
           2.4390766620635986,
           2.4390766620635986,
           2.4390766620635986,
           2.4390766620635986,
           2.4390766620635986,
           2.4390766620635986,
           2.703667163848877,
           2.703667163848877,
           2.703667163848877,
           2.703667163848877,
           2.703667163848877,
           2.703667163848877,
           2.703667163848877,
           2.703667163848877,
           2.703667163848877,
           2.703667163848877,
           2.703667163848877,
           2.703667163848877,
           2.703667163848877,
           3.0982227325439453,
           3.0982227325439453,
           3.0982227325439453,
           3.0982227325439453,
           3.0982227325439453,
           3.0982227325439453,
           3.0982227325439453,
           3.0982227325439453,
           3.494666814804077
          ],
          [
           2.4390766620635986,
           2.4390766620635986,
           2.4390766620635986,
           2.4390766620635986,
           2.4390766620635986,
           2.4390766620635986,
           2.4390766620635986,
           2.4390766620635986,
           2.4390766620635986,
           2.703667163848877,
           2.703667163848877,
           2.703667163848877,
           2.703667163848877,
           2.703667163848877,
           2.703667163848877,
           2.703667163848877,
           2.703667163848877,
           2.703667163848877,
           2.703667163848877,
           2.703667163848877,
           2.703667163848877,
           2.703667163848877,
           3.0982227325439453,
           3.0982227325439453,
           3.0982227325439453,
           3.0982227325439453,
           3.0982227325439453,
           3.0982227325439453,
           3.0982227325439453,
           3.0982227325439453,
           3.494666814804077
          ]
         ]
        }
       ],
       "layout": {
        "scene": {
         "xaxis": {
          "title": {
           "text": "A"
          }
         },
         "yaxis": {
          "title": {
           "text": "N"
          }
         },
         "zaxis": {
          "title": {
           "text": "H"
          }
         }
        },
        "template": {
         "data": {
          "bar": [
           {
            "error_x": {
             "color": "#2a3f5f"
            },
            "error_y": {
             "color": "#2a3f5f"
            },
            "marker": {
             "line": {
              "color": "#E5ECF6",
              "width": 0.5
             },
             "pattern": {
              "fillmode": "overlay",
              "size": 10,
              "solidity": 0.2
             }
            },
            "type": "bar"
           }
          ],
          "barpolar": [
           {
            "marker": {
             "line": {
              "color": "#E5ECF6",
              "width": 0.5
             },
             "pattern": {
              "fillmode": "overlay",
              "size": 10,
              "solidity": 0.2
             }
            },
            "type": "barpolar"
           }
          ],
          "carpet": [
           {
            "aaxis": {
             "endlinecolor": "#2a3f5f",
             "gridcolor": "white",
             "linecolor": "white",
             "minorgridcolor": "white",
             "startlinecolor": "#2a3f5f"
            },
            "baxis": {
             "endlinecolor": "#2a3f5f",
             "gridcolor": "white",
             "linecolor": "white",
             "minorgridcolor": "white",
             "startlinecolor": "#2a3f5f"
            },
            "type": "carpet"
           }
          ],
          "choropleth": [
           {
            "colorbar": {
             "outlinewidth": 0,
             "ticks": ""
            },
            "type": "choropleth"
           }
          ],
          "contour": [
           {
            "colorbar": {
             "outlinewidth": 0,
             "ticks": ""
            },
            "colorscale": [
             [
              0,
              "#0d0887"
             ],
             [
              0.1111111111111111,
              "#46039f"
             ],
             [
              0.2222222222222222,
              "#7201a8"
             ],
             [
              0.3333333333333333,
              "#9c179e"
             ],
             [
              0.4444444444444444,
              "#bd3786"
             ],
             [
              0.5555555555555556,
              "#d8576b"
             ],
             [
              0.6666666666666666,
              "#ed7953"
             ],
             [
              0.7777777777777778,
              "#fb9f3a"
             ],
             [
              0.8888888888888888,
              "#fdca26"
             ],
             [
              1,
              "#f0f921"
             ]
            ],
            "type": "contour"
           }
          ],
          "contourcarpet": [
           {
            "colorbar": {
             "outlinewidth": 0,
             "ticks": ""
            },
            "type": "contourcarpet"
           }
          ],
          "heatmap": [
           {
            "colorbar": {
             "outlinewidth": 0,
             "ticks": ""
            },
            "colorscale": [
             [
              0,
              "#0d0887"
             ],
             [
              0.1111111111111111,
              "#46039f"
             ],
             [
              0.2222222222222222,
              "#7201a8"
             ],
             [
              0.3333333333333333,
              "#9c179e"
             ],
             [
              0.4444444444444444,
              "#bd3786"
             ],
             [
              0.5555555555555556,
              "#d8576b"
             ],
             [
              0.6666666666666666,
              "#ed7953"
             ],
             [
              0.7777777777777778,
              "#fb9f3a"
             ],
             [
              0.8888888888888888,
              "#fdca26"
             ],
             [
              1,
              "#f0f921"
             ]
            ],
            "type": "heatmap"
           }
          ],
          "heatmapgl": [
           {
            "colorbar": {
             "outlinewidth": 0,
             "ticks": ""
            },
            "colorscale": [
             [
              0,
              "#0d0887"
             ],
             [
              0.1111111111111111,
              "#46039f"
             ],
             [
              0.2222222222222222,
              "#7201a8"
             ],
             [
              0.3333333333333333,
              "#9c179e"
             ],
             [
              0.4444444444444444,
              "#bd3786"
             ],
             [
              0.5555555555555556,
              "#d8576b"
             ],
             [
              0.6666666666666666,
              "#ed7953"
             ],
             [
              0.7777777777777778,
              "#fb9f3a"
             ],
             [
              0.8888888888888888,
              "#fdca26"
             ],
             [
              1,
              "#f0f921"
             ]
            ],
            "type": "heatmapgl"
           }
          ],
          "histogram": [
           {
            "marker": {
             "pattern": {
              "fillmode": "overlay",
              "size": 10,
              "solidity": 0.2
             }
            },
            "type": "histogram"
           }
          ],
          "histogram2d": [
           {
            "colorbar": {
             "outlinewidth": 0,
             "ticks": ""
            },
            "colorscale": [
             [
              0,
              "#0d0887"
             ],
             [
              0.1111111111111111,
              "#46039f"
             ],
             [
              0.2222222222222222,
              "#7201a8"
             ],
             [
              0.3333333333333333,
              "#9c179e"
             ],
             [
              0.4444444444444444,
              "#bd3786"
             ],
             [
              0.5555555555555556,
              "#d8576b"
             ],
             [
              0.6666666666666666,
              "#ed7953"
             ],
             [
              0.7777777777777778,
              "#fb9f3a"
             ],
             [
              0.8888888888888888,
              "#fdca26"
             ],
             [
              1,
              "#f0f921"
             ]
            ],
            "type": "histogram2d"
           }
          ],
          "histogram2dcontour": [
           {
            "colorbar": {
             "outlinewidth": 0,
             "ticks": ""
            },
            "colorscale": [
             [
              0,
              "#0d0887"
             ],
             [
              0.1111111111111111,
              "#46039f"
             ],
             [
              0.2222222222222222,
              "#7201a8"
             ],
             [
              0.3333333333333333,
              "#9c179e"
             ],
             [
              0.4444444444444444,
              "#bd3786"
             ],
             [
              0.5555555555555556,
              "#d8576b"
             ],
             [
              0.6666666666666666,
              "#ed7953"
             ],
             [
              0.7777777777777778,
              "#fb9f3a"
             ],
             [
              0.8888888888888888,
              "#fdca26"
             ],
             [
              1,
              "#f0f921"
             ]
            ],
            "type": "histogram2dcontour"
           }
          ],
          "mesh3d": [
           {
            "colorbar": {
             "outlinewidth": 0,
             "ticks": ""
            },
            "type": "mesh3d"
           }
          ],
          "parcoords": [
           {
            "line": {
             "colorbar": {
              "outlinewidth": 0,
              "ticks": ""
             }
            },
            "type": "parcoords"
           }
          ],
          "pie": [
           {
            "automargin": true,
            "type": "pie"
           }
          ],
          "scatter": [
           {
            "fillpattern": {
             "fillmode": "overlay",
             "size": 10,
             "solidity": 0.2
            },
            "type": "scatter"
           }
          ],
          "scatter3d": [
           {
            "line": {
             "colorbar": {
              "outlinewidth": 0,
              "ticks": ""
             }
            },
            "marker": {
             "colorbar": {
              "outlinewidth": 0,
              "ticks": ""
             }
            },
            "type": "scatter3d"
           }
          ],
          "scattercarpet": [
           {
            "marker": {
             "colorbar": {
              "outlinewidth": 0,
              "ticks": ""
             }
            },
            "type": "scattercarpet"
           }
          ],
          "scattergeo": [
           {
            "marker": {
             "colorbar": {
              "outlinewidth": 0,
              "ticks": ""
             }
            },
            "type": "scattergeo"
           }
          ],
          "scattergl": [
           {
            "marker": {
             "colorbar": {
              "outlinewidth": 0,
              "ticks": ""
             }
            },
            "type": "scattergl"
           }
          ],
          "scattermapbox": [
           {
            "marker": {
             "colorbar": {
              "outlinewidth": 0,
              "ticks": ""
             }
            },
            "type": "scattermapbox"
           }
          ],
          "scatterpolar": [
           {
            "marker": {
             "colorbar": {
              "outlinewidth": 0,
              "ticks": ""
             }
            },
            "type": "scatterpolar"
           }
          ],
          "scatterpolargl": [
           {
            "marker": {
             "colorbar": {
              "outlinewidth": 0,
              "ticks": ""
             }
            },
            "type": "scatterpolargl"
           }
          ],
          "scatterternary": [
           {
            "marker": {
             "colorbar": {
              "outlinewidth": 0,
              "ticks": ""
             }
            },
            "type": "scatterternary"
           }
          ],
          "surface": [
           {
            "colorbar": {
             "outlinewidth": 0,
             "ticks": ""
            },
            "colorscale": [
             [
              0,
              "#0d0887"
             ],
             [
              0.1111111111111111,
              "#46039f"
             ],
             [
              0.2222222222222222,
              "#7201a8"
             ],
             [
              0.3333333333333333,
              "#9c179e"
             ],
             [
              0.4444444444444444,
              "#bd3786"
             ],
             [
              0.5555555555555556,
              "#d8576b"
             ],
             [
              0.6666666666666666,
              "#ed7953"
             ],
             [
              0.7777777777777778,
              "#fb9f3a"
             ],
             [
              0.8888888888888888,
              "#fdca26"
             ],
             [
              1,
              "#f0f921"
             ]
            ],
            "type": "surface"
           }
          ],
          "table": [
           {
            "cells": {
             "fill": {
              "color": "#EBF0F8"
             },
             "line": {
              "color": "white"
             }
            },
            "header": {
             "fill": {
              "color": "#C8D4E3"
             },
             "line": {
              "color": "white"
             }
            },
            "type": "table"
           }
          ]
         },
         "layout": {
          "annotationdefaults": {
           "arrowcolor": "#2a3f5f",
           "arrowhead": 0,
           "arrowwidth": 1
          },
          "autotypenumbers": "strict",
          "coloraxis": {
           "colorbar": {
            "outlinewidth": 0,
            "ticks": ""
           }
          },
          "colorscale": {
           "diverging": [
            [
             0,
             "#8e0152"
            ],
            [
             0.1,
             "#c51b7d"
            ],
            [
             0.2,
             "#de77ae"
            ],
            [
             0.3,
             "#f1b6da"
            ],
            [
             0.4,
             "#fde0ef"
            ],
            [
             0.5,
             "#f7f7f7"
            ],
            [
             0.6,
             "#e6f5d0"
            ],
            [
             0.7,
             "#b8e186"
            ],
            [
             0.8,
             "#7fbc41"
            ],
            [
             0.9,
             "#4d9221"
            ],
            [
             1,
             "#276419"
            ]
           ],
           "sequential": [
            [
             0,
             "#0d0887"
            ],
            [
             0.1111111111111111,
             "#46039f"
            ],
            [
             0.2222222222222222,
             "#7201a8"
            ],
            [
             0.3333333333333333,
             "#9c179e"
            ],
            [
             0.4444444444444444,
             "#bd3786"
            ],
            [
             0.5555555555555556,
             "#d8576b"
            ],
            [
             0.6666666666666666,
             "#ed7953"
            ],
            [
             0.7777777777777778,
             "#fb9f3a"
            ],
            [
             0.8888888888888888,
             "#fdca26"
            ],
            [
             1,
             "#f0f921"
            ]
           ],
           "sequentialminus": [
            [
             0,
             "#0d0887"
            ],
            [
             0.1111111111111111,
             "#46039f"
            ],
            [
             0.2222222222222222,
             "#7201a8"
            ],
            [
             0.3333333333333333,
             "#9c179e"
            ],
            [
             0.4444444444444444,
             "#bd3786"
            ],
            [
             0.5555555555555556,
             "#d8576b"
            ],
            [
             0.6666666666666666,
             "#ed7953"
            ],
            [
             0.7777777777777778,
             "#fb9f3a"
            ],
            [
             0.8888888888888888,
             "#fdca26"
            ],
            [
             1,
             "#f0f921"
            ]
           ]
          },
          "colorway": [
           "#636efa",
           "#EF553B",
           "#00cc96",
           "#ab63fa",
           "#FFA15A",
           "#19d3f3",
           "#FF6692",
           "#B6E880",
           "#FF97FF",
           "#FECB52"
          ],
          "font": {
           "color": "#2a3f5f"
          },
          "geo": {
           "bgcolor": "white",
           "lakecolor": "white",
           "landcolor": "#E5ECF6",
           "showlakes": true,
           "showland": true,
           "subunitcolor": "white"
          },
          "hoverlabel": {
           "align": "left"
          },
          "hovermode": "closest",
          "mapbox": {
           "style": "light"
          },
          "paper_bgcolor": "white",
          "plot_bgcolor": "#E5ECF6",
          "polar": {
           "angularaxis": {
            "gridcolor": "white",
            "linecolor": "white",
            "ticks": ""
           },
           "bgcolor": "#E5ECF6",
           "radialaxis": {
            "gridcolor": "white",
            "linecolor": "white",
            "ticks": ""
           }
          },
          "scene": {
           "xaxis": {
            "backgroundcolor": "#E5ECF6",
            "gridcolor": "white",
            "gridwidth": 2,
            "linecolor": "white",
            "showbackground": true,
            "ticks": "",
            "zerolinecolor": "white"
           },
           "yaxis": {
            "backgroundcolor": "#E5ECF6",
            "gridcolor": "white",
            "gridwidth": 2,
            "linecolor": "white",
            "showbackground": true,
            "ticks": "",
            "zerolinecolor": "white"
           },
           "zaxis": {
            "backgroundcolor": "#E5ECF6",
            "gridcolor": "white",
            "gridwidth": 2,
            "linecolor": "white",
            "showbackground": true,
            "ticks": "",
            "zerolinecolor": "white"
           }
          },
          "shapedefaults": {
           "line": {
            "color": "#2a3f5f"
           }
          },
          "ternary": {
           "aaxis": {
            "gridcolor": "white",
            "linecolor": "white",
            "ticks": ""
           },
           "baxis": {
            "gridcolor": "white",
            "linecolor": "white",
            "ticks": ""
           },
           "bgcolor": "#E5ECF6",
           "caxis": {
            "gridcolor": "white",
            "linecolor": "white",
            "ticks": ""
           }
          },
          "title": {
           "x": 0.05
          },
          "xaxis": {
           "automargin": true,
           "gridcolor": "white",
           "linecolor": "white",
           "ticks": "",
           "title": {
            "standoff": 15
           },
           "zerolinecolor": "white",
           "zerolinewidth": 2
          },
          "yaxis": {
           "automargin": true,
           "gridcolor": "white",
           "linecolor": "white",
           "ticks": "",
           "title": {
            "standoff": 15
           },
           "zerolinecolor": "white",
           "zerolinewidth": 2
          }
         }
        }
       }
      }
     },
     "metadata": {},
     "output_type": "display_data"
    }
   ],
   "source": [
    "x = data['A'].sort_values()\n",
    "y = data['N'].sort_values()\n",
    "xx, yy = np.meshgrid(x, y)\n",
    "zz = f1(xx, yy)\n",
    "\n",
    "fig = go.Figure(data =\n",
    "    go.Surface(\n",
    "        z=zz,\n",
    "        x=x,\n",
    "        y=y\n",
    "    ))\n",
    "fig.update_layout(scene = dict(\n",
    "                    xaxis_title='A',\n",
    "                    yaxis_title='N',\n",
    "                    zaxis_title='H'))\n",
    "fig.show()"
   ]
  },
  {
   "cell_type": "code",
   "execution_count": 69,
   "metadata": {},
   "outputs": [
    {
     "data": {
      "application/vnd.plotly.v1+json": {
       "config": {
        "plotlyServerURL": "https://plot.ly"
       },
       "data": [
        {
         "type": "surface",
         "x": [
          6,
          9,
          9,
          9,
          9,
          9,
          9,
          9,
          9,
          12,
          12,
          12,
          12,
          12,
          12,
          12,
          12,
          12,
          12,
          12,
          12,
          12,
          15,
          15,
          15,
          15,
          15,
          15,
          15,
          15,
          18
         ],
         "y": [
          20,
          23.5,
          23.5,
          23.5,
          23.5,
          23.5,
          23.5,
          23.5,
          23.5,
          27,
          27,
          27,
          27,
          27,
          27,
          27,
          27,
          27,
          27,
          27,
          27,
          27,
          30.5,
          30.5,
          30.5,
          30.5,
          30.5,
          30.5,
          30.5,
          30.5,
          34
         ],
         "z": [
          [
           2.8126604557037354,
           2.8123908042907715,
           2.8123908042907715,
           2.8123908042907715,
           2.8123908042907715,
           2.8123908042907715,
           2.8123908042907715,
           2.8123908042907715,
           2.8123908042907715,
           2.510054588317871,
           2.510054588317871,
           2.510054588317871,
           2.510054588317871,
           2.510054588317871,
           2.510054588317871,
           2.510054588317871,
           2.510054588317871,
           2.510054588317871,
           2.510054588317871,
           2.510054588317871,
           2.510054588317871,
           2.510054588317871,
           2.5083565711975098,
           2.5083565711975098,
           2.5083565711975098,
           2.5083565711975098,
           2.5083565711975098,
           2.5083565711975098,
           2.5083565711975098,
           2.5083565711975098,
           2.5083565711975098
          ],
          [
           2.8126604557037354,
           2.8123908042907715,
           2.8123908042907715,
           2.8123908042907715,
           2.8123908042907715,
           2.8123908042907715,
           2.8123908042907715,
           2.8123908042907715,
           2.8123908042907715,
           2.510054588317871,
           2.510054588317871,
           2.510054588317871,
           2.510054588317871,
           2.510054588317871,
           2.510054588317871,
           2.510054588317871,
           2.510054588317871,
           2.510054588317871,
           2.510054588317871,
           2.510054588317871,
           2.510054588317871,
           2.510054588317871,
           2.5083565711975098,
           2.5083565711975098,
           2.5083565711975098,
           2.5083565711975098,
           2.5083565711975098,
           2.5083565711975098,
           2.5083565711975098,
           2.5083565711975098,
           2.5083565711975098
          ],
          [
           2.8126604557037354,
           2.8123908042907715,
           2.8123908042907715,
           2.8123908042907715,
           2.8123908042907715,
           2.8123908042907715,
           2.8123908042907715,
           2.8123908042907715,
           2.8123908042907715,
           2.510054588317871,
           2.510054588317871,
           2.510054588317871,
           2.510054588317871,
           2.510054588317871,
           2.510054588317871,
           2.510054588317871,
           2.510054588317871,
           2.510054588317871,
           2.510054588317871,
           2.510054588317871,
           2.510054588317871,
           2.510054588317871,
           2.5083565711975098,
           2.5083565711975098,
           2.5083565711975098,
           2.5083565711975098,
           2.5083565711975098,
           2.5083565711975098,
           2.5083565711975098,
           2.5083565711975098,
           2.5083565711975098
          ],
          [
           2.8126604557037354,
           2.8123908042907715,
           2.8123908042907715,
           2.8123908042907715,
           2.8123908042907715,
           2.8123908042907715,
           2.8123908042907715,
           2.8123908042907715,
           2.8123908042907715,
           2.510054588317871,
           2.510054588317871,
           2.510054588317871,
           2.510054588317871,
           2.510054588317871,
           2.510054588317871,
           2.510054588317871,
           2.510054588317871,
           2.510054588317871,
           2.510054588317871,
           2.510054588317871,
           2.510054588317871,
           2.510054588317871,
           2.5083565711975098,
           2.5083565711975098,
           2.5083565711975098,
           2.5083565711975098,
           2.5083565711975098,
           2.5083565711975098,
           2.5083565711975098,
           2.5083565711975098,
           2.5083565711975098
          ],
          [
           2.8126604557037354,
           2.8123908042907715,
           2.8123908042907715,
           2.8123908042907715,
           2.8123908042907715,
           2.8123908042907715,
           2.8123908042907715,
           2.8123908042907715,
           2.8123908042907715,
           2.510054588317871,
           2.510054588317871,
           2.510054588317871,
           2.510054588317871,
           2.510054588317871,
           2.510054588317871,
           2.510054588317871,
           2.510054588317871,
           2.510054588317871,
           2.510054588317871,
           2.510054588317871,
           2.510054588317871,
           2.510054588317871,
           2.5083565711975098,
           2.5083565711975098,
           2.5083565711975098,
           2.5083565711975098,
           2.5083565711975098,
           2.5083565711975098,
           2.5083565711975098,
           2.5083565711975098,
           2.5083565711975098
          ],
          [
           2.8126604557037354,
           2.8123908042907715,
           2.8123908042907715,
           2.8123908042907715,
           2.8123908042907715,
           2.8123908042907715,
           2.8123908042907715,
           2.8123908042907715,
           2.8123908042907715,
           2.510054588317871,
           2.510054588317871,
           2.510054588317871,
           2.510054588317871,
           2.510054588317871,
           2.510054588317871,
           2.510054588317871,
           2.510054588317871,
           2.510054588317871,
           2.510054588317871,
           2.510054588317871,
           2.510054588317871,
           2.510054588317871,
           2.5083565711975098,
           2.5083565711975098,
           2.5083565711975098,
           2.5083565711975098,
           2.5083565711975098,
           2.5083565711975098,
           2.5083565711975098,
           2.5083565711975098,
           2.5083565711975098
          ],
          [
           2.8126604557037354,
           2.8123908042907715,
           2.8123908042907715,
           2.8123908042907715,
           2.8123908042907715,
           2.8123908042907715,
           2.8123908042907715,
           2.8123908042907715,
           2.8123908042907715,
           2.510054588317871,
           2.510054588317871,
           2.510054588317871,
           2.510054588317871,
           2.510054588317871,
           2.510054588317871,
           2.510054588317871,
           2.510054588317871,
           2.510054588317871,
           2.510054588317871,
           2.510054588317871,
           2.510054588317871,
           2.510054588317871,
           2.5083565711975098,
           2.5083565711975098,
           2.5083565711975098,
           2.5083565711975098,
           2.5083565711975098,
           2.5083565711975098,
           2.5083565711975098,
           2.5083565711975098,
           2.5083565711975098
          ],
          [
           2.8126604557037354,
           2.8123908042907715,
           2.8123908042907715,
           2.8123908042907715,
           2.8123908042907715,
           2.8123908042907715,
           2.8123908042907715,
           2.8123908042907715,
           2.8123908042907715,
           2.510054588317871,
           2.510054588317871,
           2.510054588317871,
           2.510054588317871,
           2.510054588317871,
           2.510054588317871,
           2.510054588317871,
           2.510054588317871,
           2.510054588317871,
           2.510054588317871,
           2.510054588317871,
           2.510054588317871,
           2.510054588317871,
           2.5083565711975098,
           2.5083565711975098,
           2.5083565711975098,
           2.5083565711975098,
           2.5083565711975098,
           2.5083565711975098,
           2.5083565711975098,
           2.5083565711975098,
           2.5083565711975098
          ],
          [
           2.8126604557037354,
           2.8123908042907715,
           2.8123908042907715,
           2.8123908042907715,
           2.8123908042907715,
           2.8123908042907715,
           2.8123908042907715,
           2.8123908042907715,
           2.8123908042907715,
           2.510054588317871,
           2.510054588317871,
           2.510054588317871,
           2.510054588317871,
           2.510054588317871,
           2.510054588317871,
           2.510054588317871,
           2.510054588317871,
           2.510054588317871,
           2.510054588317871,
           2.510054588317871,
           2.510054588317871,
           2.510054588317871,
           2.5083565711975098,
           2.5083565711975098,
           2.5083565711975098,
           2.5083565711975098,
           2.5083565711975098,
           2.5083565711975098,
           2.5083565711975098,
           2.5083565711975098,
           2.5083565711975098
          ],
          [
           2.657611131668091,
           2.657341480255127,
           2.657341480255127,
           2.657341480255127,
           2.657341480255127,
           2.657341480255127,
           2.657341480255127,
           2.657341480255127,
           2.657341480255127,
           2.4776782989501953,
           2.4776782989501953,
           2.4776782989501953,
           2.4776782989501953,
           2.4776782989501953,
           2.4776782989501953,
           2.4776782989501953,
           2.4776782989501953,
           2.4776782989501953,
           2.4776782989501953,
           2.4776782989501953,
           2.4776782989501953,
           2.4776782989501953,
           2.475980281829834,
           2.475980281829834,
           2.475980281829834,
           2.475980281829834,
           2.475980281829834,
           2.475980281829834,
           2.475980281829834,
           2.475980281829834,
           2.475980281829834
          ],
          [
           2.657611131668091,
           2.657341480255127,
           2.657341480255127,
           2.657341480255127,
           2.657341480255127,
           2.657341480255127,
           2.657341480255127,
           2.657341480255127,
           2.657341480255127,
           2.4776782989501953,
           2.4776782989501953,
           2.4776782989501953,
           2.4776782989501953,
           2.4776782989501953,
           2.4776782989501953,
           2.4776782989501953,
           2.4776782989501953,
           2.4776782989501953,
           2.4776782989501953,
           2.4776782989501953,
           2.4776782989501953,
           2.4776782989501953,
           2.475980281829834,
           2.475980281829834,
           2.475980281829834,
           2.475980281829834,
           2.475980281829834,
           2.475980281829834,
           2.475980281829834,
           2.475980281829834,
           2.475980281829834
          ],
          [
           2.657611131668091,
           2.657341480255127,
           2.657341480255127,
           2.657341480255127,
           2.657341480255127,
           2.657341480255127,
           2.657341480255127,
           2.657341480255127,
           2.657341480255127,
           2.4776782989501953,
           2.4776782989501953,
           2.4776782989501953,
           2.4776782989501953,
           2.4776782989501953,
           2.4776782989501953,
           2.4776782989501953,
           2.4776782989501953,
           2.4776782989501953,
           2.4776782989501953,
           2.4776782989501953,
           2.4776782989501953,
           2.4776782989501953,
           2.475980281829834,
           2.475980281829834,
           2.475980281829834,
           2.475980281829834,
           2.475980281829834,
           2.475980281829834,
           2.475980281829834,
           2.475980281829834,
           2.475980281829834
          ],
          [
           2.657611131668091,
           2.657341480255127,
           2.657341480255127,
           2.657341480255127,
           2.657341480255127,
           2.657341480255127,
           2.657341480255127,
           2.657341480255127,
           2.657341480255127,
           2.4776782989501953,
           2.4776782989501953,
           2.4776782989501953,
           2.4776782989501953,
           2.4776782989501953,
           2.4776782989501953,
           2.4776782989501953,
           2.4776782989501953,
           2.4776782989501953,
           2.4776782989501953,
           2.4776782989501953,
           2.4776782989501953,
           2.4776782989501953,
           2.475980281829834,
           2.475980281829834,
           2.475980281829834,
           2.475980281829834,
           2.475980281829834,
           2.475980281829834,
           2.475980281829834,
           2.475980281829834,
           2.475980281829834
          ],
          [
           2.657611131668091,
           2.657341480255127,
           2.657341480255127,
           2.657341480255127,
           2.657341480255127,
           2.657341480255127,
           2.657341480255127,
           2.657341480255127,
           2.657341480255127,
           2.4776782989501953,
           2.4776782989501953,
           2.4776782989501953,
           2.4776782989501953,
           2.4776782989501953,
           2.4776782989501953,
           2.4776782989501953,
           2.4776782989501953,
           2.4776782989501953,
           2.4776782989501953,
           2.4776782989501953,
           2.4776782989501953,
           2.4776782989501953,
           2.475980281829834,
           2.475980281829834,
           2.475980281829834,
           2.475980281829834,
           2.475980281829834,
           2.475980281829834,
           2.475980281829834,
           2.475980281829834,
           2.475980281829834
          ],
          [
           2.657611131668091,
           2.657341480255127,
           2.657341480255127,
           2.657341480255127,
           2.657341480255127,
           2.657341480255127,
           2.657341480255127,
           2.657341480255127,
           2.657341480255127,
           2.4776782989501953,
           2.4776782989501953,
           2.4776782989501953,
           2.4776782989501953,
           2.4776782989501953,
           2.4776782989501953,
           2.4776782989501953,
           2.4776782989501953,
           2.4776782989501953,
           2.4776782989501953,
           2.4776782989501953,
           2.4776782989501953,
           2.4776782989501953,
           2.475980281829834,
           2.475980281829834,
           2.475980281829834,
           2.475980281829834,
           2.475980281829834,
           2.475980281829834,
           2.475980281829834,
           2.475980281829834,
           2.475980281829834
          ],
          [
           2.657611131668091,
           2.657341480255127,
           2.657341480255127,
           2.657341480255127,
           2.657341480255127,
           2.657341480255127,
           2.657341480255127,
           2.657341480255127,
           2.657341480255127,
           2.4776782989501953,
           2.4776782989501953,
           2.4776782989501953,
           2.4776782989501953,
           2.4776782989501953,
           2.4776782989501953,
           2.4776782989501953,
           2.4776782989501953,
           2.4776782989501953,
           2.4776782989501953,
           2.4776782989501953,
           2.4776782989501953,
           2.4776782989501953,
           2.475980281829834,
           2.475980281829834,
           2.475980281829834,
           2.475980281829834,
           2.475980281829834,
           2.475980281829834,
           2.475980281829834,
           2.475980281829834,
           2.475980281829834
          ],
          [
           2.657611131668091,
           2.657341480255127,
           2.657341480255127,
           2.657341480255127,
           2.657341480255127,
           2.657341480255127,
           2.657341480255127,
           2.657341480255127,
           2.657341480255127,
           2.4776782989501953,
           2.4776782989501953,
           2.4776782989501953,
           2.4776782989501953,
           2.4776782989501953,
           2.4776782989501953,
           2.4776782989501953,
           2.4776782989501953,
           2.4776782989501953,
           2.4776782989501953,
           2.4776782989501953,
           2.4776782989501953,
           2.4776782989501953,
           2.475980281829834,
           2.475980281829834,
           2.475980281829834,
           2.475980281829834,
           2.475980281829834,
           2.475980281829834,
           2.475980281829834,
           2.475980281829834,
           2.475980281829834
          ],
          [
           2.657611131668091,
           2.657341480255127,
           2.657341480255127,
           2.657341480255127,
           2.657341480255127,
           2.657341480255127,
           2.657341480255127,
           2.657341480255127,
           2.657341480255127,
           2.4776782989501953,
           2.4776782989501953,
           2.4776782989501953,
           2.4776782989501953,
           2.4776782989501953,
           2.4776782989501953,
           2.4776782989501953,
           2.4776782989501953,
           2.4776782989501953,
           2.4776782989501953,
           2.4776782989501953,
           2.4776782989501953,
           2.4776782989501953,
           2.475980281829834,
           2.475980281829834,
           2.475980281829834,
           2.475980281829834,
           2.475980281829834,
           2.475980281829834,
           2.475980281829834,
           2.475980281829834,
           2.475980281829834
          ],
          [
           2.657611131668091,
           2.657341480255127,
           2.657341480255127,
           2.657341480255127,
           2.657341480255127,
           2.657341480255127,
           2.657341480255127,
           2.657341480255127,
           2.657341480255127,
           2.4776782989501953,
           2.4776782989501953,
           2.4776782989501953,
           2.4776782989501953,
           2.4776782989501953,
           2.4776782989501953,
           2.4776782989501953,
           2.4776782989501953,
           2.4776782989501953,
           2.4776782989501953,
           2.4776782989501953,
           2.4776782989501953,
           2.4776782989501953,
           2.475980281829834,
           2.475980281829834,
           2.475980281829834,
           2.475980281829834,
           2.475980281829834,
           2.475980281829834,
           2.475980281829834,
           2.475980281829834,
           2.475980281829834
          ],
          [
           2.657611131668091,
           2.657341480255127,
           2.657341480255127,
           2.657341480255127,
           2.657341480255127,
           2.657341480255127,
           2.657341480255127,
           2.657341480255127,
           2.657341480255127,
           2.4776782989501953,
           2.4776782989501953,
           2.4776782989501953,
           2.4776782989501953,
           2.4776782989501953,
           2.4776782989501953,
           2.4776782989501953,
           2.4776782989501953,
           2.4776782989501953,
           2.4776782989501953,
           2.4776782989501953,
           2.4776782989501953,
           2.4776782989501953,
           2.475980281829834,
           2.475980281829834,
           2.475980281829834,
           2.475980281829834,
           2.475980281829834,
           2.475980281829834,
           2.475980281829834,
           2.475980281829834,
           2.475980281829834
          ],
          [
           2.657611131668091,
           2.657341480255127,
           2.657341480255127,
           2.657341480255127,
           2.657341480255127,
           2.657341480255127,
           2.657341480255127,
           2.657341480255127,
           2.657341480255127,
           2.4776782989501953,
           2.4776782989501953,
           2.4776782989501953,
           2.4776782989501953,
           2.4776782989501953,
           2.4776782989501953,
           2.4776782989501953,
           2.4776782989501953,
           2.4776782989501953,
           2.4776782989501953,
           2.4776782989501953,
           2.4776782989501953,
           2.4776782989501953,
           2.475980281829834,
           2.475980281829834,
           2.475980281829834,
           2.475980281829834,
           2.475980281829834,
           2.475980281829834,
           2.475980281829834,
           2.475980281829834,
           2.475980281829834
          ],
          [
           2.657611131668091,
           2.657341480255127,
           2.657341480255127,
           2.657341480255127,
           2.657341480255127,
           2.657341480255127,
           2.657341480255127,
           2.657341480255127,
           2.657341480255127,
           2.4776782989501953,
           2.4776782989501953,
           2.4776782989501953,
           2.4776782989501953,
           2.4776782989501953,
           2.4776782989501953,
           2.4776782989501953,
           2.4776782989501953,
           2.4776782989501953,
           2.4776782989501953,
           2.4776782989501953,
           2.4776782989501953,
           2.4776782989501953,
           2.475980281829834,
           2.475980281829834,
           2.475980281829834,
           2.475980281829834,
           2.475980281829834,
           2.475980281829834,
           2.475980281829834,
           2.475980281829834,
           2.475980281829834
          ],
          [
           2.4390766620635986,
           2.4388070106506348,
           2.4388070106506348,
           2.4388070106506348,
           2.4388070106506348,
           2.4388070106506348,
           2.4388070106506348,
           2.4388070106506348,
           2.4388070106506348,
           2.4388070106506348,
           2.4388070106506348,
           2.4388070106506348,
           2.4388070106506348,
           2.4388070106506348,
           2.4388070106506348,
           2.4388070106506348,
           2.4388070106506348,
           2.4388070106506348,
           2.4388070106506348,
           2.4388070106506348,
           2.4388070106506348,
           2.4388070106506348,
           2.4388070106506348,
           2.4388070106506348,
           2.4388070106506348,
           2.4388070106506348,
           2.4388070106506348,
           2.4388070106506348,
           2.4388070106506348,
           2.4388070106506348,
           2.4388070106506348
          ],
          [
           2.4390766620635986,
           2.4388070106506348,
           2.4388070106506348,
           2.4388070106506348,
           2.4388070106506348,
           2.4388070106506348,
           2.4388070106506348,
           2.4388070106506348,
           2.4388070106506348,
           2.4388070106506348,
           2.4388070106506348,
           2.4388070106506348,
           2.4388070106506348,
           2.4388070106506348,
           2.4388070106506348,
           2.4388070106506348,
           2.4388070106506348,
           2.4388070106506348,
           2.4388070106506348,
           2.4388070106506348,
           2.4388070106506348,
           2.4388070106506348,
           2.4388070106506348,
           2.4388070106506348,
           2.4388070106506348,
           2.4388070106506348,
           2.4388070106506348,
           2.4388070106506348,
           2.4388070106506348,
           2.4388070106506348,
           2.4388070106506348
          ],
          [
           2.4390766620635986,
           2.4388070106506348,
           2.4388070106506348,
           2.4388070106506348,
           2.4388070106506348,
           2.4388070106506348,
           2.4388070106506348,
           2.4388070106506348,
           2.4388070106506348,
           2.4388070106506348,
           2.4388070106506348,
           2.4388070106506348,
           2.4388070106506348,
           2.4388070106506348,
           2.4388070106506348,
           2.4388070106506348,
           2.4388070106506348,
           2.4388070106506348,
           2.4388070106506348,
           2.4388070106506348,
           2.4388070106506348,
           2.4388070106506348,
           2.4388070106506348,
           2.4388070106506348,
           2.4388070106506348,
           2.4388070106506348,
           2.4388070106506348,
           2.4388070106506348,
           2.4388070106506348,
           2.4388070106506348,
           2.4388070106506348
          ],
          [
           2.4390766620635986,
           2.4388070106506348,
           2.4388070106506348,
           2.4388070106506348,
           2.4388070106506348,
           2.4388070106506348,
           2.4388070106506348,
           2.4388070106506348,
           2.4388070106506348,
           2.4388070106506348,
           2.4388070106506348,
           2.4388070106506348,
           2.4388070106506348,
           2.4388070106506348,
           2.4388070106506348,
           2.4388070106506348,
           2.4388070106506348,
           2.4388070106506348,
           2.4388070106506348,
           2.4388070106506348,
           2.4388070106506348,
           2.4388070106506348,
           2.4388070106506348,
           2.4388070106506348,
           2.4388070106506348,
           2.4388070106506348,
           2.4388070106506348,
           2.4388070106506348,
           2.4388070106506348,
           2.4388070106506348,
           2.4388070106506348
          ],
          [
           2.4390766620635986,
           2.4388070106506348,
           2.4388070106506348,
           2.4388070106506348,
           2.4388070106506348,
           2.4388070106506348,
           2.4388070106506348,
           2.4388070106506348,
           2.4388070106506348,
           2.4388070106506348,
           2.4388070106506348,
           2.4388070106506348,
           2.4388070106506348,
           2.4388070106506348,
           2.4388070106506348,
           2.4388070106506348,
           2.4388070106506348,
           2.4388070106506348,
           2.4388070106506348,
           2.4388070106506348,
           2.4388070106506348,
           2.4388070106506348,
           2.4388070106506348,
           2.4388070106506348,
           2.4388070106506348,
           2.4388070106506348,
           2.4388070106506348,
           2.4388070106506348,
           2.4388070106506348,
           2.4388070106506348,
           2.4388070106506348
          ],
          [
           2.4390766620635986,
           2.4388070106506348,
           2.4388070106506348,
           2.4388070106506348,
           2.4388070106506348,
           2.4388070106506348,
           2.4388070106506348,
           2.4388070106506348,
           2.4388070106506348,
           2.4388070106506348,
           2.4388070106506348,
           2.4388070106506348,
           2.4388070106506348,
           2.4388070106506348,
           2.4388070106506348,
           2.4388070106506348,
           2.4388070106506348,
           2.4388070106506348,
           2.4388070106506348,
           2.4388070106506348,
           2.4388070106506348,
           2.4388070106506348,
           2.4388070106506348,
           2.4388070106506348,
           2.4388070106506348,
           2.4388070106506348,
           2.4388070106506348,
           2.4388070106506348,
           2.4388070106506348,
           2.4388070106506348,
           2.4388070106506348
          ],
          [
           2.4390766620635986,
           2.4388070106506348,
           2.4388070106506348,
           2.4388070106506348,
           2.4388070106506348,
           2.4388070106506348,
           2.4388070106506348,
           2.4388070106506348,
           2.4388070106506348,
           2.4388070106506348,
           2.4388070106506348,
           2.4388070106506348,
           2.4388070106506348,
           2.4388070106506348,
           2.4388070106506348,
           2.4388070106506348,
           2.4388070106506348,
           2.4388070106506348,
           2.4388070106506348,
           2.4388070106506348,
           2.4388070106506348,
           2.4388070106506348,
           2.4388070106506348,
           2.4388070106506348,
           2.4388070106506348,
           2.4388070106506348,
           2.4388070106506348,
           2.4388070106506348,
           2.4388070106506348,
           2.4388070106506348,
           2.4388070106506348
          ],
          [
           2.4390766620635986,
           2.4388070106506348,
           2.4388070106506348,
           2.4388070106506348,
           2.4388070106506348,
           2.4388070106506348,
           2.4388070106506348,
           2.4388070106506348,
           2.4388070106506348,
           2.4388070106506348,
           2.4388070106506348,
           2.4388070106506348,
           2.4388070106506348,
           2.4388070106506348,
           2.4388070106506348,
           2.4388070106506348,
           2.4388070106506348,
           2.4388070106506348,
           2.4388070106506348,
           2.4388070106506348,
           2.4388070106506348,
           2.4388070106506348,
           2.4388070106506348,
           2.4388070106506348,
           2.4388070106506348,
           2.4388070106506348,
           2.4388070106506348,
           2.4388070106506348,
           2.4388070106506348,
           2.4388070106506348,
           2.4388070106506348
          ],
          [
           2.4390766620635986,
           2.4388070106506348,
           2.4388070106506348,
           2.4388070106506348,
           2.4388070106506348,
           2.4388070106506348,
           2.4388070106506348,
           2.4388070106506348,
           2.4388070106506348,
           2.4388070106506348,
           2.4388070106506348,
           2.4388070106506348,
           2.4388070106506348,
           2.4388070106506348,
           2.4388070106506348,
           2.4388070106506348,
           2.4388070106506348,
           2.4388070106506348,
           2.4388070106506348,
           2.4388070106506348,
           2.4388070106506348,
           2.4388070106506348,
           2.4388070106506348,
           2.4388070106506348,
           2.4388070106506348,
           2.4388070106506348,
           2.4388070106506348,
           2.4388070106506348,
           2.4388070106506348,
           2.4388070106506348,
           2.4388070106506348
          ]
         ]
        }
       ],
       "layout": {
        "scene": {
         "xaxis": {
          "title": {
           "text": "S"
          }
         },
         "yaxis": {
          "title": {
           "text": "N"
          }
         },
         "zaxis": {
          "title": {
           "text": "H"
          }
         }
        },
        "template": {
         "data": {
          "bar": [
           {
            "error_x": {
             "color": "#2a3f5f"
            },
            "error_y": {
             "color": "#2a3f5f"
            },
            "marker": {
             "line": {
              "color": "#E5ECF6",
              "width": 0.5
             },
             "pattern": {
              "fillmode": "overlay",
              "size": 10,
              "solidity": 0.2
             }
            },
            "type": "bar"
           }
          ],
          "barpolar": [
           {
            "marker": {
             "line": {
              "color": "#E5ECF6",
              "width": 0.5
             },
             "pattern": {
              "fillmode": "overlay",
              "size": 10,
              "solidity": 0.2
             }
            },
            "type": "barpolar"
           }
          ],
          "carpet": [
           {
            "aaxis": {
             "endlinecolor": "#2a3f5f",
             "gridcolor": "white",
             "linecolor": "white",
             "minorgridcolor": "white",
             "startlinecolor": "#2a3f5f"
            },
            "baxis": {
             "endlinecolor": "#2a3f5f",
             "gridcolor": "white",
             "linecolor": "white",
             "minorgridcolor": "white",
             "startlinecolor": "#2a3f5f"
            },
            "type": "carpet"
           }
          ],
          "choropleth": [
           {
            "colorbar": {
             "outlinewidth": 0,
             "ticks": ""
            },
            "type": "choropleth"
           }
          ],
          "contour": [
           {
            "colorbar": {
             "outlinewidth": 0,
             "ticks": ""
            },
            "colorscale": [
             [
              0,
              "#0d0887"
             ],
             [
              0.1111111111111111,
              "#46039f"
             ],
             [
              0.2222222222222222,
              "#7201a8"
             ],
             [
              0.3333333333333333,
              "#9c179e"
             ],
             [
              0.4444444444444444,
              "#bd3786"
             ],
             [
              0.5555555555555556,
              "#d8576b"
             ],
             [
              0.6666666666666666,
              "#ed7953"
             ],
             [
              0.7777777777777778,
              "#fb9f3a"
             ],
             [
              0.8888888888888888,
              "#fdca26"
             ],
             [
              1,
              "#f0f921"
             ]
            ],
            "type": "contour"
           }
          ],
          "contourcarpet": [
           {
            "colorbar": {
             "outlinewidth": 0,
             "ticks": ""
            },
            "type": "contourcarpet"
           }
          ],
          "heatmap": [
           {
            "colorbar": {
             "outlinewidth": 0,
             "ticks": ""
            },
            "colorscale": [
             [
              0,
              "#0d0887"
             ],
             [
              0.1111111111111111,
              "#46039f"
             ],
             [
              0.2222222222222222,
              "#7201a8"
             ],
             [
              0.3333333333333333,
              "#9c179e"
             ],
             [
              0.4444444444444444,
              "#bd3786"
             ],
             [
              0.5555555555555556,
              "#d8576b"
             ],
             [
              0.6666666666666666,
              "#ed7953"
             ],
             [
              0.7777777777777778,
              "#fb9f3a"
             ],
             [
              0.8888888888888888,
              "#fdca26"
             ],
             [
              1,
              "#f0f921"
             ]
            ],
            "type": "heatmap"
           }
          ],
          "heatmapgl": [
           {
            "colorbar": {
             "outlinewidth": 0,
             "ticks": ""
            },
            "colorscale": [
             [
              0,
              "#0d0887"
             ],
             [
              0.1111111111111111,
              "#46039f"
             ],
             [
              0.2222222222222222,
              "#7201a8"
             ],
             [
              0.3333333333333333,
              "#9c179e"
             ],
             [
              0.4444444444444444,
              "#bd3786"
             ],
             [
              0.5555555555555556,
              "#d8576b"
             ],
             [
              0.6666666666666666,
              "#ed7953"
             ],
             [
              0.7777777777777778,
              "#fb9f3a"
             ],
             [
              0.8888888888888888,
              "#fdca26"
             ],
             [
              1,
              "#f0f921"
             ]
            ],
            "type": "heatmapgl"
           }
          ],
          "histogram": [
           {
            "marker": {
             "pattern": {
              "fillmode": "overlay",
              "size": 10,
              "solidity": 0.2
             }
            },
            "type": "histogram"
           }
          ],
          "histogram2d": [
           {
            "colorbar": {
             "outlinewidth": 0,
             "ticks": ""
            },
            "colorscale": [
             [
              0,
              "#0d0887"
             ],
             [
              0.1111111111111111,
              "#46039f"
             ],
             [
              0.2222222222222222,
              "#7201a8"
             ],
             [
              0.3333333333333333,
              "#9c179e"
             ],
             [
              0.4444444444444444,
              "#bd3786"
             ],
             [
              0.5555555555555556,
              "#d8576b"
             ],
             [
              0.6666666666666666,
              "#ed7953"
             ],
             [
              0.7777777777777778,
              "#fb9f3a"
             ],
             [
              0.8888888888888888,
              "#fdca26"
             ],
             [
              1,
              "#f0f921"
             ]
            ],
            "type": "histogram2d"
           }
          ],
          "histogram2dcontour": [
           {
            "colorbar": {
             "outlinewidth": 0,
             "ticks": ""
            },
            "colorscale": [
             [
              0,
              "#0d0887"
             ],
             [
              0.1111111111111111,
              "#46039f"
             ],
             [
              0.2222222222222222,
              "#7201a8"
             ],
             [
              0.3333333333333333,
              "#9c179e"
             ],
             [
              0.4444444444444444,
              "#bd3786"
             ],
             [
              0.5555555555555556,
              "#d8576b"
             ],
             [
              0.6666666666666666,
              "#ed7953"
             ],
             [
              0.7777777777777778,
              "#fb9f3a"
             ],
             [
              0.8888888888888888,
              "#fdca26"
             ],
             [
              1,
              "#f0f921"
             ]
            ],
            "type": "histogram2dcontour"
           }
          ],
          "mesh3d": [
           {
            "colorbar": {
             "outlinewidth": 0,
             "ticks": ""
            },
            "type": "mesh3d"
           }
          ],
          "parcoords": [
           {
            "line": {
             "colorbar": {
              "outlinewidth": 0,
              "ticks": ""
             }
            },
            "type": "parcoords"
           }
          ],
          "pie": [
           {
            "automargin": true,
            "type": "pie"
           }
          ],
          "scatter": [
           {
            "fillpattern": {
             "fillmode": "overlay",
             "size": 10,
             "solidity": 0.2
            },
            "type": "scatter"
           }
          ],
          "scatter3d": [
           {
            "line": {
             "colorbar": {
              "outlinewidth": 0,
              "ticks": ""
             }
            },
            "marker": {
             "colorbar": {
              "outlinewidth": 0,
              "ticks": ""
             }
            },
            "type": "scatter3d"
           }
          ],
          "scattercarpet": [
           {
            "marker": {
             "colorbar": {
              "outlinewidth": 0,
              "ticks": ""
             }
            },
            "type": "scattercarpet"
           }
          ],
          "scattergeo": [
           {
            "marker": {
             "colorbar": {
              "outlinewidth": 0,
              "ticks": ""
             }
            },
            "type": "scattergeo"
           }
          ],
          "scattergl": [
           {
            "marker": {
             "colorbar": {
              "outlinewidth": 0,
              "ticks": ""
             }
            },
            "type": "scattergl"
           }
          ],
          "scattermapbox": [
           {
            "marker": {
             "colorbar": {
              "outlinewidth": 0,
              "ticks": ""
             }
            },
            "type": "scattermapbox"
           }
          ],
          "scatterpolar": [
           {
            "marker": {
             "colorbar": {
              "outlinewidth": 0,
              "ticks": ""
             }
            },
            "type": "scatterpolar"
           }
          ],
          "scatterpolargl": [
           {
            "marker": {
             "colorbar": {
              "outlinewidth": 0,
              "ticks": ""
             }
            },
            "type": "scatterpolargl"
           }
          ],
          "scatterternary": [
           {
            "marker": {
             "colorbar": {
              "outlinewidth": 0,
              "ticks": ""
             }
            },
            "type": "scatterternary"
           }
          ],
          "surface": [
           {
            "colorbar": {
             "outlinewidth": 0,
             "ticks": ""
            },
            "colorscale": [
             [
              0,
              "#0d0887"
             ],
             [
              0.1111111111111111,
              "#46039f"
             ],
             [
              0.2222222222222222,
              "#7201a8"
             ],
             [
              0.3333333333333333,
              "#9c179e"
             ],
             [
              0.4444444444444444,
              "#bd3786"
             ],
             [
              0.5555555555555556,
              "#d8576b"
             ],
             [
              0.6666666666666666,
              "#ed7953"
             ],
             [
              0.7777777777777778,
              "#fb9f3a"
             ],
             [
              0.8888888888888888,
              "#fdca26"
             ],
             [
              1,
              "#f0f921"
             ]
            ],
            "type": "surface"
           }
          ],
          "table": [
           {
            "cells": {
             "fill": {
              "color": "#EBF0F8"
             },
             "line": {
              "color": "white"
             }
            },
            "header": {
             "fill": {
              "color": "#C8D4E3"
             },
             "line": {
              "color": "white"
             }
            },
            "type": "table"
           }
          ]
         },
         "layout": {
          "annotationdefaults": {
           "arrowcolor": "#2a3f5f",
           "arrowhead": 0,
           "arrowwidth": 1
          },
          "autotypenumbers": "strict",
          "coloraxis": {
           "colorbar": {
            "outlinewidth": 0,
            "ticks": ""
           }
          },
          "colorscale": {
           "diverging": [
            [
             0,
             "#8e0152"
            ],
            [
             0.1,
             "#c51b7d"
            ],
            [
             0.2,
             "#de77ae"
            ],
            [
             0.3,
             "#f1b6da"
            ],
            [
             0.4,
             "#fde0ef"
            ],
            [
             0.5,
             "#f7f7f7"
            ],
            [
             0.6,
             "#e6f5d0"
            ],
            [
             0.7,
             "#b8e186"
            ],
            [
             0.8,
             "#7fbc41"
            ],
            [
             0.9,
             "#4d9221"
            ],
            [
             1,
             "#276419"
            ]
           ],
           "sequential": [
            [
             0,
             "#0d0887"
            ],
            [
             0.1111111111111111,
             "#46039f"
            ],
            [
             0.2222222222222222,
             "#7201a8"
            ],
            [
             0.3333333333333333,
             "#9c179e"
            ],
            [
             0.4444444444444444,
             "#bd3786"
            ],
            [
             0.5555555555555556,
             "#d8576b"
            ],
            [
             0.6666666666666666,
             "#ed7953"
            ],
            [
             0.7777777777777778,
             "#fb9f3a"
            ],
            [
             0.8888888888888888,
             "#fdca26"
            ],
            [
             1,
             "#f0f921"
            ]
           ],
           "sequentialminus": [
            [
             0,
             "#0d0887"
            ],
            [
             0.1111111111111111,
             "#46039f"
            ],
            [
             0.2222222222222222,
             "#7201a8"
            ],
            [
             0.3333333333333333,
             "#9c179e"
            ],
            [
             0.4444444444444444,
             "#bd3786"
            ],
            [
             0.5555555555555556,
             "#d8576b"
            ],
            [
             0.6666666666666666,
             "#ed7953"
            ],
            [
             0.7777777777777778,
             "#fb9f3a"
            ],
            [
             0.8888888888888888,
             "#fdca26"
            ],
            [
             1,
             "#f0f921"
            ]
           ]
          },
          "colorway": [
           "#636efa",
           "#EF553B",
           "#00cc96",
           "#ab63fa",
           "#FFA15A",
           "#19d3f3",
           "#FF6692",
           "#B6E880",
           "#FF97FF",
           "#FECB52"
          ],
          "font": {
           "color": "#2a3f5f"
          },
          "geo": {
           "bgcolor": "white",
           "lakecolor": "white",
           "landcolor": "#E5ECF6",
           "showlakes": true,
           "showland": true,
           "subunitcolor": "white"
          },
          "hoverlabel": {
           "align": "left"
          },
          "hovermode": "closest",
          "mapbox": {
           "style": "light"
          },
          "paper_bgcolor": "white",
          "plot_bgcolor": "#E5ECF6",
          "polar": {
           "angularaxis": {
            "gridcolor": "white",
            "linecolor": "white",
            "ticks": ""
           },
           "bgcolor": "#E5ECF6",
           "radialaxis": {
            "gridcolor": "white",
            "linecolor": "white",
            "ticks": ""
           }
          },
          "scene": {
           "xaxis": {
            "backgroundcolor": "#E5ECF6",
            "gridcolor": "white",
            "gridwidth": 2,
            "linecolor": "white",
            "showbackground": true,
            "ticks": "",
            "zerolinecolor": "white"
           },
           "yaxis": {
            "backgroundcolor": "#E5ECF6",
            "gridcolor": "white",
            "gridwidth": 2,
            "linecolor": "white",
            "showbackground": true,
            "ticks": "",
            "zerolinecolor": "white"
           },
           "zaxis": {
            "backgroundcolor": "#E5ECF6",
            "gridcolor": "white",
            "gridwidth": 2,
            "linecolor": "white",
            "showbackground": true,
            "ticks": "",
            "zerolinecolor": "white"
           }
          },
          "shapedefaults": {
           "line": {
            "color": "#2a3f5f"
           }
          },
          "ternary": {
           "aaxis": {
            "gridcolor": "white",
            "linecolor": "white",
            "ticks": ""
           },
           "baxis": {
            "gridcolor": "white",
            "linecolor": "white",
            "ticks": ""
           },
           "bgcolor": "#E5ECF6",
           "caxis": {
            "gridcolor": "white",
            "linecolor": "white",
            "ticks": ""
           }
          },
          "title": {
           "x": 0.05
          },
          "xaxis": {
           "automargin": true,
           "gridcolor": "white",
           "linecolor": "white",
           "ticks": "",
           "title": {
            "standoff": 15
           },
           "zerolinecolor": "white",
           "zerolinewidth": 2
          },
          "yaxis": {
           "automargin": true,
           "gridcolor": "white",
           "linecolor": "white",
           "ticks": "",
           "title": {
            "standoff": 15
           },
           "zerolinecolor": "white",
           "zerolinewidth": 2
          }
         }
        }
       }
      }
     },
     "metadata": {},
     "output_type": "display_data"
    }
   ],
   "source": [
    "x = data['S'].sort_values()\n",
    "y = data['N'].sort_values()\n",
    "xx, yy = np.meshgrid(x, y)\n",
    "zz = f2(xx, yy)\n",
    "\n",
    "fig = go.Figure(data =\n",
    "    go.Surface(\n",
    "        z=zz,\n",
    "        x=x,\n",
    "        y=y\n",
    "    ))\n",
    "fig.update_layout(scene = dict(\n",
    "                    xaxis_title='S',\n",
    "                    yaxis_title='N',\n",
    "                    zaxis_title='H'))\n",
    "fig.show()"
   ]
  },
  {
   "cell_type": "code",
   "execution_count": 70,
   "metadata": {},
   "outputs": [
    {
     "data": {
      "application/vnd.plotly.v1+json": {
       "config": {
        "plotlyServerURL": "https://plot.ly"
       },
       "data": [
        {
         "type": "surface",
         "x": [
          22,
          22.5,
          22.5,
          22.5,
          22.5,
          22.5,
          22.5,
          22.5,
          22.5,
          29,
          29,
          29,
          29,
          29,
          29,
          29,
          29,
          29,
          29,
          29,
          29,
          29,
          32.5,
          32.5,
          32.5,
          32.5,
          32.5,
          32.5,
          32.5,
          32.5,
          36
         ],
         "y": [
          250,
          325,
          325,
          325,
          325,
          325,
          325,
          325,
          325,
          400,
          400,
          400,
          400,
          400,
          400,
          400,
          400,
          400,
          400,
          400,
          400,
          400,
          475,
          475,
          475,
          475,
          475,
          475,
          475,
          475,
          550
         ],
         "z": [
          [
           11.121318817138672,
           11.123716354370117,
           11.123716354370117,
           11.123716354370117,
           11.123716354370117,
           11.123716354370117,
           11.123716354370117,
           11.123716354370117,
           11.123716354370117,
           12.3175630569458,
           12.3175630569458,
           12.3175630569458,
           12.3175630569458,
           12.3175630569458,
           12.3175630569458,
           12.3175630569458,
           12.3175630569458,
           12.3175630569458,
           12.3175630569458,
           12.3175630569458,
           12.3175630569458,
           12.3175630569458,
           12.3175630569458,
           12.3175630569458,
           12.3175630569458,
           12.3175630569458,
           12.3175630569458,
           12.3175630569458,
           12.3175630569458,
           12.3175630569458,
           12.3175630569458
          ],
          [
           11.557300567626953,
           12.272990226745605,
           12.272990226745605,
           12.272990226745605,
           12.272990226745605,
           12.272990226745605,
           12.272990226745605,
           12.272990226745605,
           12.272990226745605,
           13.947717666625977,
           13.947717666625977,
           13.947717666625977,
           13.947717666625977,
           13.947717666625977,
           13.947717666625977,
           13.947717666625977,
           13.947717666625977,
           13.947717666625977,
           13.947717666625977,
           13.947717666625977,
           13.947717666625977,
           13.947717666625977,
           13.947717666625977,
           13.947717666625977,
           13.947717666625977,
           13.947717666625977,
           13.947717666625977,
           13.947717666625977,
           13.947717666625977,
           13.947717666625977,
           13.947717666625977
          ],
          [
           11.557300567626953,
           12.272990226745605,
           12.272990226745605,
           12.272990226745605,
           12.272990226745605,
           12.272990226745605,
           12.272990226745605,
           12.272990226745605,
           12.272990226745605,
           13.947717666625977,
           13.947717666625977,
           13.947717666625977,
           13.947717666625977,
           13.947717666625977,
           13.947717666625977,
           13.947717666625977,
           13.947717666625977,
           13.947717666625977,
           13.947717666625977,
           13.947717666625977,
           13.947717666625977,
           13.947717666625977,
           13.947717666625977,
           13.947717666625977,
           13.947717666625977,
           13.947717666625977,
           13.947717666625977,
           13.947717666625977,
           13.947717666625977,
           13.947717666625977,
           13.947717666625977
          ],
          [
           11.557300567626953,
           12.272990226745605,
           12.272990226745605,
           12.272990226745605,
           12.272990226745605,
           12.272990226745605,
           12.272990226745605,
           12.272990226745605,
           12.272990226745605,
           13.947717666625977,
           13.947717666625977,
           13.947717666625977,
           13.947717666625977,
           13.947717666625977,
           13.947717666625977,
           13.947717666625977,
           13.947717666625977,
           13.947717666625977,
           13.947717666625977,
           13.947717666625977,
           13.947717666625977,
           13.947717666625977,
           13.947717666625977,
           13.947717666625977,
           13.947717666625977,
           13.947717666625977,
           13.947717666625977,
           13.947717666625977,
           13.947717666625977,
           13.947717666625977,
           13.947717666625977
          ],
          [
           11.557300567626953,
           12.272990226745605,
           12.272990226745605,
           12.272990226745605,
           12.272990226745605,
           12.272990226745605,
           12.272990226745605,
           12.272990226745605,
           12.272990226745605,
           13.947717666625977,
           13.947717666625977,
           13.947717666625977,
           13.947717666625977,
           13.947717666625977,
           13.947717666625977,
           13.947717666625977,
           13.947717666625977,
           13.947717666625977,
           13.947717666625977,
           13.947717666625977,
           13.947717666625977,
           13.947717666625977,
           13.947717666625977,
           13.947717666625977,
           13.947717666625977,
           13.947717666625977,
           13.947717666625977,
           13.947717666625977,
           13.947717666625977,
           13.947717666625977,
           13.947717666625977
          ],
          [
           11.557300567626953,
           12.272990226745605,
           12.272990226745605,
           12.272990226745605,
           12.272990226745605,
           12.272990226745605,
           12.272990226745605,
           12.272990226745605,
           12.272990226745605,
           13.947717666625977,
           13.947717666625977,
           13.947717666625977,
           13.947717666625977,
           13.947717666625977,
           13.947717666625977,
           13.947717666625977,
           13.947717666625977,
           13.947717666625977,
           13.947717666625977,
           13.947717666625977,
           13.947717666625977,
           13.947717666625977,
           13.947717666625977,
           13.947717666625977,
           13.947717666625977,
           13.947717666625977,
           13.947717666625977,
           13.947717666625977,
           13.947717666625977,
           13.947717666625977,
           13.947717666625977
          ],
          [
           11.557300567626953,
           12.272990226745605,
           12.272990226745605,
           12.272990226745605,
           12.272990226745605,
           12.272990226745605,
           12.272990226745605,
           12.272990226745605,
           12.272990226745605,
           13.947717666625977,
           13.947717666625977,
           13.947717666625977,
           13.947717666625977,
           13.947717666625977,
           13.947717666625977,
           13.947717666625977,
           13.947717666625977,
           13.947717666625977,
           13.947717666625977,
           13.947717666625977,
           13.947717666625977,
           13.947717666625977,
           13.947717666625977,
           13.947717666625977,
           13.947717666625977,
           13.947717666625977,
           13.947717666625977,
           13.947717666625977,
           13.947717666625977,
           13.947717666625977,
           13.947717666625977
          ],
          [
           11.557300567626953,
           12.272990226745605,
           12.272990226745605,
           12.272990226745605,
           12.272990226745605,
           12.272990226745605,
           12.272990226745605,
           12.272990226745605,
           12.272990226745605,
           13.947717666625977,
           13.947717666625977,
           13.947717666625977,
           13.947717666625977,
           13.947717666625977,
           13.947717666625977,
           13.947717666625977,
           13.947717666625977,
           13.947717666625977,
           13.947717666625977,
           13.947717666625977,
           13.947717666625977,
           13.947717666625977,
           13.947717666625977,
           13.947717666625977,
           13.947717666625977,
           13.947717666625977,
           13.947717666625977,
           13.947717666625977,
           13.947717666625977,
           13.947717666625977,
           13.947717666625977
          ],
          [
           11.557300567626953,
           12.272990226745605,
           12.272990226745605,
           12.272990226745605,
           12.272990226745605,
           12.272990226745605,
           12.272990226745605,
           12.272990226745605,
           12.272990226745605,
           13.947717666625977,
           13.947717666625977,
           13.947717666625977,
           13.947717666625977,
           13.947717666625977,
           13.947717666625977,
           13.947717666625977,
           13.947717666625977,
           13.947717666625977,
           13.947717666625977,
           13.947717666625977,
           13.947717666625977,
           13.947717666625977,
           13.947717666625977,
           13.947717666625977,
           13.947717666625977,
           13.947717666625977,
           13.947717666625977,
           13.947717666625977,
           13.947717666625977,
           13.947717666625977,
           13.947717666625977
          ],
          [
           11.55666732788086,
           12.272356986999512,
           12.272356986999512,
           12.272356986999512,
           12.272356986999512,
           12.272356986999512,
           12.272356986999512,
           12.272356986999512,
           12.272356986999512,
           13.948695182800293,
           13.948695182800293,
           13.948695182800293,
           13.948695182800293,
           13.948695182800293,
           13.948695182800293,
           13.948695182800293,
           13.948695182800293,
           13.948695182800293,
           13.948695182800293,
           13.948695182800293,
           13.948695182800293,
           13.948695182800293,
           13.948695182800293,
           13.948695182800293,
           13.948695182800293,
           13.948695182800293,
           13.948695182800293,
           13.948695182800293,
           13.948695182800293,
           13.948695182800293,
           13.948695182800293
          ],
          [
           11.55666732788086,
           12.272356986999512,
           12.272356986999512,
           12.272356986999512,
           12.272356986999512,
           12.272356986999512,
           12.272356986999512,
           12.272356986999512,
           12.272356986999512,
           13.948695182800293,
           13.948695182800293,
           13.948695182800293,
           13.948695182800293,
           13.948695182800293,
           13.948695182800293,
           13.948695182800293,
           13.948695182800293,
           13.948695182800293,
           13.948695182800293,
           13.948695182800293,
           13.948695182800293,
           13.948695182800293,
           13.948695182800293,
           13.948695182800293,
           13.948695182800293,
           13.948695182800293,
           13.948695182800293,
           13.948695182800293,
           13.948695182800293,
           13.948695182800293,
           13.948695182800293
          ],
          [
           11.55666732788086,
           12.272356986999512,
           12.272356986999512,
           12.272356986999512,
           12.272356986999512,
           12.272356986999512,
           12.272356986999512,
           12.272356986999512,
           12.272356986999512,
           13.948695182800293,
           13.948695182800293,
           13.948695182800293,
           13.948695182800293,
           13.948695182800293,
           13.948695182800293,
           13.948695182800293,
           13.948695182800293,
           13.948695182800293,
           13.948695182800293,
           13.948695182800293,
           13.948695182800293,
           13.948695182800293,
           13.948695182800293,
           13.948695182800293,
           13.948695182800293,
           13.948695182800293,
           13.948695182800293,
           13.948695182800293,
           13.948695182800293,
           13.948695182800293,
           13.948695182800293
          ],
          [
           11.55666732788086,
           12.272356986999512,
           12.272356986999512,
           12.272356986999512,
           12.272356986999512,
           12.272356986999512,
           12.272356986999512,
           12.272356986999512,
           12.272356986999512,
           13.948695182800293,
           13.948695182800293,
           13.948695182800293,
           13.948695182800293,
           13.948695182800293,
           13.948695182800293,
           13.948695182800293,
           13.948695182800293,
           13.948695182800293,
           13.948695182800293,
           13.948695182800293,
           13.948695182800293,
           13.948695182800293,
           13.948695182800293,
           13.948695182800293,
           13.948695182800293,
           13.948695182800293,
           13.948695182800293,
           13.948695182800293,
           13.948695182800293,
           13.948695182800293,
           13.948695182800293
          ],
          [
           11.55666732788086,
           12.272356986999512,
           12.272356986999512,
           12.272356986999512,
           12.272356986999512,
           12.272356986999512,
           12.272356986999512,
           12.272356986999512,
           12.272356986999512,
           13.948695182800293,
           13.948695182800293,
           13.948695182800293,
           13.948695182800293,
           13.948695182800293,
           13.948695182800293,
           13.948695182800293,
           13.948695182800293,
           13.948695182800293,
           13.948695182800293,
           13.948695182800293,
           13.948695182800293,
           13.948695182800293,
           13.948695182800293,
           13.948695182800293,
           13.948695182800293,
           13.948695182800293,
           13.948695182800293,
           13.948695182800293,
           13.948695182800293,
           13.948695182800293,
           13.948695182800293
          ],
          [
           11.55666732788086,
           12.272356986999512,
           12.272356986999512,
           12.272356986999512,
           12.272356986999512,
           12.272356986999512,
           12.272356986999512,
           12.272356986999512,
           12.272356986999512,
           13.948695182800293,
           13.948695182800293,
           13.948695182800293,
           13.948695182800293,
           13.948695182800293,
           13.948695182800293,
           13.948695182800293,
           13.948695182800293,
           13.948695182800293,
           13.948695182800293,
           13.948695182800293,
           13.948695182800293,
           13.948695182800293,
           13.948695182800293,
           13.948695182800293,
           13.948695182800293,
           13.948695182800293,
           13.948695182800293,
           13.948695182800293,
           13.948695182800293,
           13.948695182800293,
           13.948695182800293
          ],
          [
           11.55666732788086,
           12.272356986999512,
           12.272356986999512,
           12.272356986999512,
           12.272356986999512,
           12.272356986999512,
           12.272356986999512,
           12.272356986999512,
           12.272356986999512,
           13.948695182800293,
           13.948695182800293,
           13.948695182800293,
           13.948695182800293,
           13.948695182800293,
           13.948695182800293,
           13.948695182800293,
           13.948695182800293,
           13.948695182800293,
           13.948695182800293,
           13.948695182800293,
           13.948695182800293,
           13.948695182800293,
           13.948695182800293,
           13.948695182800293,
           13.948695182800293,
           13.948695182800293,
           13.948695182800293,
           13.948695182800293,
           13.948695182800293,
           13.948695182800293,
           13.948695182800293
          ],
          [
           11.55666732788086,
           12.272356986999512,
           12.272356986999512,
           12.272356986999512,
           12.272356986999512,
           12.272356986999512,
           12.272356986999512,
           12.272356986999512,
           12.272356986999512,
           13.948695182800293,
           13.948695182800293,
           13.948695182800293,
           13.948695182800293,
           13.948695182800293,
           13.948695182800293,
           13.948695182800293,
           13.948695182800293,
           13.948695182800293,
           13.948695182800293,
           13.948695182800293,
           13.948695182800293,
           13.948695182800293,
           13.948695182800293,
           13.948695182800293,
           13.948695182800293,
           13.948695182800293,
           13.948695182800293,
           13.948695182800293,
           13.948695182800293,
           13.948695182800293,
           13.948695182800293
          ],
          [
           11.55666732788086,
           12.272356986999512,
           12.272356986999512,
           12.272356986999512,
           12.272356986999512,
           12.272356986999512,
           12.272356986999512,
           12.272356986999512,
           12.272356986999512,
           13.948695182800293,
           13.948695182800293,
           13.948695182800293,
           13.948695182800293,
           13.948695182800293,
           13.948695182800293,
           13.948695182800293,
           13.948695182800293,
           13.948695182800293,
           13.948695182800293,
           13.948695182800293,
           13.948695182800293,
           13.948695182800293,
           13.948695182800293,
           13.948695182800293,
           13.948695182800293,
           13.948695182800293,
           13.948695182800293,
           13.948695182800293,
           13.948695182800293,
           13.948695182800293,
           13.948695182800293
          ],
          [
           11.55666732788086,
           12.272356986999512,
           12.272356986999512,
           12.272356986999512,
           12.272356986999512,
           12.272356986999512,
           12.272356986999512,
           12.272356986999512,
           12.272356986999512,
           13.948695182800293,
           13.948695182800293,
           13.948695182800293,
           13.948695182800293,
           13.948695182800293,
           13.948695182800293,
           13.948695182800293,
           13.948695182800293,
           13.948695182800293,
           13.948695182800293,
           13.948695182800293,
           13.948695182800293,
           13.948695182800293,
           13.948695182800293,
           13.948695182800293,
           13.948695182800293,
           13.948695182800293,
           13.948695182800293,
           13.948695182800293,
           13.948695182800293,
           13.948695182800293,
           13.948695182800293
          ],
          [
           11.55666732788086,
           12.272356986999512,
           12.272356986999512,
           12.272356986999512,
           12.272356986999512,
           12.272356986999512,
           12.272356986999512,
           12.272356986999512,
           12.272356986999512,
           13.948695182800293,
           13.948695182800293,
           13.948695182800293,
           13.948695182800293,
           13.948695182800293,
           13.948695182800293,
           13.948695182800293,
           13.948695182800293,
           13.948695182800293,
           13.948695182800293,
           13.948695182800293,
           13.948695182800293,
           13.948695182800293,
           13.948695182800293,
           13.948695182800293,
           13.948695182800293,
           13.948695182800293,
           13.948695182800293,
           13.948695182800293,
           13.948695182800293,
           13.948695182800293,
           13.948695182800293
          ],
          [
           11.55666732788086,
           12.272356986999512,
           12.272356986999512,
           12.272356986999512,
           12.272356986999512,
           12.272356986999512,
           12.272356986999512,
           12.272356986999512,
           12.272356986999512,
           13.948695182800293,
           13.948695182800293,
           13.948695182800293,
           13.948695182800293,
           13.948695182800293,
           13.948695182800293,
           13.948695182800293,
           13.948695182800293,
           13.948695182800293,
           13.948695182800293,
           13.948695182800293,
           13.948695182800293,
           13.948695182800293,
           13.948695182800293,
           13.948695182800293,
           13.948695182800293,
           13.948695182800293,
           13.948695182800293,
           13.948695182800293,
           13.948695182800293,
           13.948695182800293,
           13.948695182800293
          ],
          [
           11.55666732788086,
           12.272356986999512,
           12.272356986999512,
           12.272356986999512,
           12.272356986999512,
           12.272356986999512,
           12.272356986999512,
           12.272356986999512,
           12.272356986999512,
           13.948695182800293,
           13.948695182800293,
           13.948695182800293,
           13.948695182800293,
           13.948695182800293,
           13.948695182800293,
           13.948695182800293,
           13.948695182800293,
           13.948695182800293,
           13.948695182800293,
           13.948695182800293,
           13.948695182800293,
           13.948695182800293,
           13.948695182800293,
           13.948695182800293,
           13.948695182800293,
           13.948695182800293,
           13.948695182800293,
           13.948695182800293,
           13.948695182800293,
           13.948695182800293,
           13.948695182800293
          ],
          [
           11.556177139282227,
           12.271866798400879,
           12.271866798400879,
           12.271866798400879,
           12.271866798400879,
           12.271866798400879,
           12.271866798400879,
           12.271866798400879,
           12.271866798400879,
           13.94820499420166,
           13.94820499420166,
           13.94820499420166,
           13.94820499420166,
           13.94820499420166,
           13.94820499420166,
           13.94820499420166,
           13.94820499420166,
           13.94820499420166,
           13.94820499420166,
           13.94820499420166,
           13.94820499420166,
           13.94820499420166,
           13.94820499420166,
           13.94820499420166,
           13.94820499420166,
           13.94820499420166,
           13.94820499420166,
           13.94820499420166,
           13.94820499420166,
           13.94820499420166,
           13.94820499420166
          ],
          [
           11.556177139282227,
           12.271866798400879,
           12.271866798400879,
           12.271866798400879,
           12.271866798400879,
           12.271866798400879,
           12.271866798400879,
           12.271866798400879,
           12.271866798400879,
           13.94820499420166,
           13.94820499420166,
           13.94820499420166,
           13.94820499420166,
           13.94820499420166,
           13.94820499420166,
           13.94820499420166,
           13.94820499420166,
           13.94820499420166,
           13.94820499420166,
           13.94820499420166,
           13.94820499420166,
           13.94820499420166,
           13.94820499420166,
           13.94820499420166,
           13.94820499420166,
           13.94820499420166,
           13.94820499420166,
           13.94820499420166,
           13.94820499420166,
           13.94820499420166,
           13.94820499420166
          ],
          [
           11.556177139282227,
           12.271866798400879,
           12.271866798400879,
           12.271866798400879,
           12.271866798400879,
           12.271866798400879,
           12.271866798400879,
           12.271866798400879,
           12.271866798400879,
           13.94820499420166,
           13.94820499420166,
           13.94820499420166,
           13.94820499420166,
           13.94820499420166,
           13.94820499420166,
           13.94820499420166,
           13.94820499420166,
           13.94820499420166,
           13.94820499420166,
           13.94820499420166,
           13.94820499420166,
           13.94820499420166,
           13.94820499420166,
           13.94820499420166,
           13.94820499420166,
           13.94820499420166,
           13.94820499420166,
           13.94820499420166,
           13.94820499420166,
           13.94820499420166,
           13.94820499420166
          ],
          [
           11.556177139282227,
           12.271866798400879,
           12.271866798400879,
           12.271866798400879,
           12.271866798400879,
           12.271866798400879,
           12.271866798400879,
           12.271866798400879,
           12.271866798400879,
           13.94820499420166,
           13.94820499420166,
           13.94820499420166,
           13.94820499420166,
           13.94820499420166,
           13.94820499420166,
           13.94820499420166,
           13.94820499420166,
           13.94820499420166,
           13.94820499420166,
           13.94820499420166,
           13.94820499420166,
           13.94820499420166,
           13.94820499420166,
           13.94820499420166,
           13.94820499420166,
           13.94820499420166,
           13.94820499420166,
           13.94820499420166,
           13.94820499420166,
           13.94820499420166,
           13.94820499420166
          ],
          [
           11.556177139282227,
           12.271866798400879,
           12.271866798400879,
           12.271866798400879,
           12.271866798400879,
           12.271866798400879,
           12.271866798400879,
           12.271866798400879,
           12.271866798400879,
           13.94820499420166,
           13.94820499420166,
           13.94820499420166,
           13.94820499420166,
           13.94820499420166,
           13.94820499420166,
           13.94820499420166,
           13.94820499420166,
           13.94820499420166,
           13.94820499420166,
           13.94820499420166,
           13.94820499420166,
           13.94820499420166,
           13.94820499420166,
           13.94820499420166,
           13.94820499420166,
           13.94820499420166,
           13.94820499420166,
           13.94820499420166,
           13.94820499420166,
           13.94820499420166,
           13.94820499420166
          ],
          [
           11.556177139282227,
           12.271866798400879,
           12.271866798400879,
           12.271866798400879,
           12.271866798400879,
           12.271866798400879,
           12.271866798400879,
           12.271866798400879,
           12.271866798400879,
           13.94820499420166,
           13.94820499420166,
           13.94820499420166,
           13.94820499420166,
           13.94820499420166,
           13.94820499420166,
           13.94820499420166,
           13.94820499420166,
           13.94820499420166,
           13.94820499420166,
           13.94820499420166,
           13.94820499420166,
           13.94820499420166,
           13.94820499420166,
           13.94820499420166,
           13.94820499420166,
           13.94820499420166,
           13.94820499420166,
           13.94820499420166,
           13.94820499420166,
           13.94820499420166,
           13.94820499420166
          ],
          [
           11.556177139282227,
           12.271866798400879,
           12.271866798400879,
           12.271866798400879,
           12.271866798400879,
           12.271866798400879,
           12.271866798400879,
           12.271866798400879,
           12.271866798400879,
           13.94820499420166,
           13.94820499420166,
           13.94820499420166,
           13.94820499420166,
           13.94820499420166,
           13.94820499420166,
           13.94820499420166,
           13.94820499420166,
           13.94820499420166,
           13.94820499420166,
           13.94820499420166,
           13.94820499420166,
           13.94820499420166,
           13.94820499420166,
           13.94820499420166,
           13.94820499420166,
           13.94820499420166,
           13.94820499420166,
           13.94820499420166,
           13.94820499420166,
           13.94820499420166,
           13.94820499420166
          ],
          [
           11.556177139282227,
           12.271866798400879,
           12.271866798400879,
           12.271866798400879,
           12.271866798400879,
           12.271866798400879,
           12.271866798400879,
           12.271866798400879,
           12.271866798400879,
           13.94820499420166,
           13.94820499420166,
           13.94820499420166,
           13.94820499420166,
           13.94820499420166,
           13.94820499420166,
           13.94820499420166,
           13.94820499420166,
           13.94820499420166,
           13.94820499420166,
           13.94820499420166,
           13.94820499420166,
           13.94820499420166,
           13.94820499420166,
           13.94820499420166,
           13.94820499420166,
           13.94820499420166,
           13.94820499420166,
           13.94820499420166,
           13.94820499420166,
           13.94820499420166,
           13.94820499420166
          ],
          [
           11.556177139282227,
           11.562045097351074,
           11.562045097351074,
           11.562045097351074,
           11.562045097351074,
           11.562045097351074,
           11.562045097351074,
           11.562045097351074,
           11.562045097351074,
           13.238383293151855,
           13.238383293151855,
           13.238383293151855,
           13.238383293151855,
           13.238383293151855,
           13.238383293151855,
           13.238383293151855,
           13.238383293151855,
           13.238383293151855,
           13.238383293151855,
           13.238383293151855,
           13.238383293151855,
           13.238383293151855,
           13.238383293151855,
           13.238383293151855,
           13.238383293151855,
           13.238383293151855,
           13.238383293151855,
           13.238383293151855,
           13.238383293151855,
           13.238383293151855,
           13.238383293151855
          ]
         ]
        }
       ],
       "layout": {
        "scene": {
         "xaxis": {
          "title": {
           "text": "V"
          }
         },
         "yaxis": {
          "title": {
           "text": "A"
          }
         },
         "zaxis": {
          "title": {
           "text": "W"
          }
         }
        },
        "template": {
         "data": {
          "bar": [
           {
            "error_x": {
             "color": "#2a3f5f"
            },
            "error_y": {
             "color": "#2a3f5f"
            },
            "marker": {
             "line": {
              "color": "#E5ECF6",
              "width": 0.5
             },
             "pattern": {
              "fillmode": "overlay",
              "size": 10,
              "solidity": 0.2
             }
            },
            "type": "bar"
           }
          ],
          "barpolar": [
           {
            "marker": {
             "line": {
              "color": "#E5ECF6",
              "width": 0.5
             },
             "pattern": {
              "fillmode": "overlay",
              "size": 10,
              "solidity": 0.2
             }
            },
            "type": "barpolar"
           }
          ],
          "carpet": [
           {
            "aaxis": {
             "endlinecolor": "#2a3f5f",
             "gridcolor": "white",
             "linecolor": "white",
             "minorgridcolor": "white",
             "startlinecolor": "#2a3f5f"
            },
            "baxis": {
             "endlinecolor": "#2a3f5f",
             "gridcolor": "white",
             "linecolor": "white",
             "minorgridcolor": "white",
             "startlinecolor": "#2a3f5f"
            },
            "type": "carpet"
           }
          ],
          "choropleth": [
           {
            "colorbar": {
             "outlinewidth": 0,
             "ticks": ""
            },
            "type": "choropleth"
           }
          ],
          "contour": [
           {
            "colorbar": {
             "outlinewidth": 0,
             "ticks": ""
            },
            "colorscale": [
             [
              0,
              "#0d0887"
             ],
             [
              0.1111111111111111,
              "#46039f"
             ],
             [
              0.2222222222222222,
              "#7201a8"
             ],
             [
              0.3333333333333333,
              "#9c179e"
             ],
             [
              0.4444444444444444,
              "#bd3786"
             ],
             [
              0.5555555555555556,
              "#d8576b"
             ],
             [
              0.6666666666666666,
              "#ed7953"
             ],
             [
              0.7777777777777778,
              "#fb9f3a"
             ],
             [
              0.8888888888888888,
              "#fdca26"
             ],
             [
              1,
              "#f0f921"
             ]
            ],
            "type": "contour"
           }
          ],
          "contourcarpet": [
           {
            "colorbar": {
             "outlinewidth": 0,
             "ticks": ""
            },
            "type": "contourcarpet"
           }
          ],
          "heatmap": [
           {
            "colorbar": {
             "outlinewidth": 0,
             "ticks": ""
            },
            "colorscale": [
             [
              0,
              "#0d0887"
             ],
             [
              0.1111111111111111,
              "#46039f"
             ],
             [
              0.2222222222222222,
              "#7201a8"
             ],
             [
              0.3333333333333333,
              "#9c179e"
             ],
             [
              0.4444444444444444,
              "#bd3786"
             ],
             [
              0.5555555555555556,
              "#d8576b"
             ],
             [
              0.6666666666666666,
              "#ed7953"
             ],
             [
              0.7777777777777778,
              "#fb9f3a"
             ],
             [
              0.8888888888888888,
              "#fdca26"
             ],
             [
              1,
              "#f0f921"
             ]
            ],
            "type": "heatmap"
           }
          ],
          "heatmapgl": [
           {
            "colorbar": {
             "outlinewidth": 0,
             "ticks": ""
            },
            "colorscale": [
             [
              0,
              "#0d0887"
             ],
             [
              0.1111111111111111,
              "#46039f"
             ],
             [
              0.2222222222222222,
              "#7201a8"
             ],
             [
              0.3333333333333333,
              "#9c179e"
             ],
             [
              0.4444444444444444,
              "#bd3786"
             ],
             [
              0.5555555555555556,
              "#d8576b"
             ],
             [
              0.6666666666666666,
              "#ed7953"
             ],
             [
              0.7777777777777778,
              "#fb9f3a"
             ],
             [
              0.8888888888888888,
              "#fdca26"
             ],
             [
              1,
              "#f0f921"
             ]
            ],
            "type": "heatmapgl"
           }
          ],
          "histogram": [
           {
            "marker": {
             "pattern": {
              "fillmode": "overlay",
              "size": 10,
              "solidity": 0.2
             }
            },
            "type": "histogram"
           }
          ],
          "histogram2d": [
           {
            "colorbar": {
             "outlinewidth": 0,
             "ticks": ""
            },
            "colorscale": [
             [
              0,
              "#0d0887"
             ],
             [
              0.1111111111111111,
              "#46039f"
             ],
             [
              0.2222222222222222,
              "#7201a8"
             ],
             [
              0.3333333333333333,
              "#9c179e"
             ],
             [
              0.4444444444444444,
              "#bd3786"
             ],
             [
              0.5555555555555556,
              "#d8576b"
             ],
             [
              0.6666666666666666,
              "#ed7953"
             ],
             [
              0.7777777777777778,
              "#fb9f3a"
             ],
             [
              0.8888888888888888,
              "#fdca26"
             ],
             [
              1,
              "#f0f921"
             ]
            ],
            "type": "histogram2d"
           }
          ],
          "histogram2dcontour": [
           {
            "colorbar": {
             "outlinewidth": 0,
             "ticks": ""
            },
            "colorscale": [
             [
              0,
              "#0d0887"
             ],
             [
              0.1111111111111111,
              "#46039f"
             ],
             [
              0.2222222222222222,
              "#7201a8"
             ],
             [
              0.3333333333333333,
              "#9c179e"
             ],
             [
              0.4444444444444444,
              "#bd3786"
             ],
             [
              0.5555555555555556,
              "#d8576b"
             ],
             [
              0.6666666666666666,
              "#ed7953"
             ],
             [
              0.7777777777777778,
              "#fb9f3a"
             ],
             [
              0.8888888888888888,
              "#fdca26"
             ],
             [
              1,
              "#f0f921"
             ]
            ],
            "type": "histogram2dcontour"
           }
          ],
          "mesh3d": [
           {
            "colorbar": {
             "outlinewidth": 0,
             "ticks": ""
            },
            "type": "mesh3d"
           }
          ],
          "parcoords": [
           {
            "line": {
             "colorbar": {
              "outlinewidth": 0,
              "ticks": ""
             }
            },
            "type": "parcoords"
           }
          ],
          "pie": [
           {
            "automargin": true,
            "type": "pie"
           }
          ],
          "scatter": [
           {
            "fillpattern": {
             "fillmode": "overlay",
             "size": 10,
             "solidity": 0.2
            },
            "type": "scatter"
           }
          ],
          "scatter3d": [
           {
            "line": {
             "colorbar": {
              "outlinewidth": 0,
              "ticks": ""
             }
            },
            "marker": {
             "colorbar": {
              "outlinewidth": 0,
              "ticks": ""
             }
            },
            "type": "scatter3d"
           }
          ],
          "scattercarpet": [
           {
            "marker": {
             "colorbar": {
              "outlinewidth": 0,
              "ticks": ""
             }
            },
            "type": "scattercarpet"
           }
          ],
          "scattergeo": [
           {
            "marker": {
             "colorbar": {
              "outlinewidth": 0,
              "ticks": ""
             }
            },
            "type": "scattergeo"
           }
          ],
          "scattergl": [
           {
            "marker": {
             "colorbar": {
              "outlinewidth": 0,
              "ticks": ""
             }
            },
            "type": "scattergl"
           }
          ],
          "scattermapbox": [
           {
            "marker": {
             "colorbar": {
              "outlinewidth": 0,
              "ticks": ""
             }
            },
            "type": "scattermapbox"
           }
          ],
          "scatterpolar": [
           {
            "marker": {
             "colorbar": {
              "outlinewidth": 0,
              "ticks": ""
             }
            },
            "type": "scatterpolar"
           }
          ],
          "scatterpolargl": [
           {
            "marker": {
             "colorbar": {
              "outlinewidth": 0,
              "ticks": ""
             }
            },
            "type": "scatterpolargl"
           }
          ],
          "scatterternary": [
           {
            "marker": {
             "colorbar": {
              "outlinewidth": 0,
              "ticks": ""
             }
            },
            "type": "scatterternary"
           }
          ],
          "surface": [
           {
            "colorbar": {
             "outlinewidth": 0,
             "ticks": ""
            },
            "colorscale": [
             [
              0,
              "#0d0887"
             ],
             [
              0.1111111111111111,
              "#46039f"
             ],
             [
              0.2222222222222222,
              "#7201a8"
             ],
             [
              0.3333333333333333,
              "#9c179e"
             ],
             [
              0.4444444444444444,
              "#bd3786"
             ],
             [
              0.5555555555555556,
              "#d8576b"
             ],
             [
              0.6666666666666666,
              "#ed7953"
             ],
             [
              0.7777777777777778,
              "#fb9f3a"
             ],
             [
              0.8888888888888888,
              "#fdca26"
             ],
             [
              1,
              "#f0f921"
             ]
            ],
            "type": "surface"
           }
          ],
          "table": [
           {
            "cells": {
             "fill": {
              "color": "#EBF0F8"
             },
             "line": {
              "color": "white"
             }
            },
            "header": {
             "fill": {
              "color": "#C8D4E3"
             },
             "line": {
              "color": "white"
             }
            },
            "type": "table"
           }
          ]
         },
         "layout": {
          "annotationdefaults": {
           "arrowcolor": "#2a3f5f",
           "arrowhead": 0,
           "arrowwidth": 1
          },
          "autotypenumbers": "strict",
          "coloraxis": {
           "colorbar": {
            "outlinewidth": 0,
            "ticks": ""
           }
          },
          "colorscale": {
           "diverging": [
            [
             0,
             "#8e0152"
            ],
            [
             0.1,
             "#c51b7d"
            ],
            [
             0.2,
             "#de77ae"
            ],
            [
             0.3,
             "#f1b6da"
            ],
            [
             0.4,
             "#fde0ef"
            ],
            [
             0.5,
             "#f7f7f7"
            ],
            [
             0.6,
             "#e6f5d0"
            ],
            [
             0.7,
             "#b8e186"
            ],
            [
             0.8,
             "#7fbc41"
            ],
            [
             0.9,
             "#4d9221"
            ],
            [
             1,
             "#276419"
            ]
           ],
           "sequential": [
            [
             0,
             "#0d0887"
            ],
            [
             0.1111111111111111,
             "#46039f"
            ],
            [
             0.2222222222222222,
             "#7201a8"
            ],
            [
             0.3333333333333333,
             "#9c179e"
            ],
            [
             0.4444444444444444,
             "#bd3786"
            ],
            [
             0.5555555555555556,
             "#d8576b"
            ],
            [
             0.6666666666666666,
             "#ed7953"
            ],
            [
             0.7777777777777778,
             "#fb9f3a"
            ],
            [
             0.8888888888888888,
             "#fdca26"
            ],
            [
             1,
             "#f0f921"
            ]
           ],
           "sequentialminus": [
            [
             0,
             "#0d0887"
            ],
            [
             0.1111111111111111,
             "#46039f"
            ],
            [
             0.2222222222222222,
             "#7201a8"
            ],
            [
             0.3333333333333333,
             "#9c179e"
            ],
            [
             0.4444444444444444,
             "#bd3786"
            ],
            [
             0.5555555555555556,
             "#d8576b"
            ],
            [
             0.6666666666666666,
             "#ed7953"
            ],
            [
             0.7777777777777778,
             "#fb9f3a"
            ],
            [
             0.8888888888888888,
             "#fdca26"
            ],
            [
             1,
             "#f0f921"
            ]
           ]
          },
          "colorway": [
           "#636efa",
           "#EF553B",
           "#00cc96",
           "#ab63fa",
           "#FFA15A",
           "#19d3f3",
           "#FF6692",
           "#B6E880",
           "#FF97FF",
           "#FECB52"
          ],
          "font": {
           "color": "#2a3f5f"
          },
          "geo": {
           "bgcolor": "white",
           "lakecolor": "white",
           "landcolor": "#E5ECF6",
           "showlakes": true,
           "showland": true,
           "subunitcolor": "white"
          },
          "hoverlabel": {
           "align": "left"
          },
          "hovermode": "closest",
          "mapbox": {
           "style": "light"
          },
          "paper_bgcolor": "white",
          "plot_bgcolor": "#E5ECF6",
          "polar": {
           "angularaxis": {
            "gridcolor": "white",
            "linecolor": "white",
            "ticks": ""
           },
           "bgcolor": "#E5ECF6",
           "radialaxis": {
            "gridcolor": "white",
            "linecolor": "white",
            "ticks": ""
           }
          },
          "scene": {
           "xaxis": {
            "backgroundcolor": "#E5ECF6",
            "gridcolor": "white",
            "gridwidth": 2,
            "linecolor": "white",
            "showbackground": true,
            "ticks": "",
            "zerolinecolor": "white"
           },
           "yaxis": {
            "backgroundcolor": "#E5ECF6",
            "gridcolor": "white",
            "gridwidth": 2,
            "linecolor": "white",
            "showbackground": true,
            "ticks": "",
            "zerolinecolor": "white"
           },
           "zaxis": {
            "backgroundcolor": "#E5ECF6",
            "gridcolor": "white",
            "gridwidth": 2,
            "linecolor": "white",
            "showbackground": true,
            "ticks": "",
            "zerolinecolor": "white"
           }
          },
          "shapedefaults": {
           "line": {
            "color": "#2a3f5f"
           }
          },
          "ternary": {
           "aaxis": {
            "gridcolor": "white",
            "linecolor": "white",
            "ticks": ""
           },
           "baxis": {
            "gridcolor": "white",
            "linecolor": "white",
            "ticks": ""
           },
           "bgcolor": "#E5ECF6",
           "caxis": {
            "gridcolor": "white",
            "linecolor": "white",
            "ticks": ""
           }
          },
          "title": {
           "x": 0.05
          },
          "xaxis": {
           "automargin": true,
           "gridcolor": "white",
           "linecolor": "white",
           "ticks": "",
           "title": {
            "standoff": 15
           },
           "zerolinecolor": "white",
           "zerolinewidth": 2
          },
          "yaxis": {
           "automargin": true,
           "gridcolor": "white",
           "linecolor": "white",
           "ticks": "",
           "title": {
            "standoff": 15
           },
           "zerolinecolor": "white",
           "zerolinewidth": 2
          }
         }
        }
       }
      }
     },
     "metadata": {},
     "output_type": "display_data"
    }
   ],
   "source": [
    "x = data['V'].sort_values()\n",
    "y = data['A'].sort_values()\n",
    "xx, yy = np.meshgrid(x, y)\n",
    "zz = f3(xx, yy)\n",
    "\n",
    "fig = go.Figure(data =\n",
    "    go.Surface(\n",
    "        z=zz,\n",
    "        x=x,\n",
    "        y=y\n",
    "    ))\n",
    "fig.update_layout(scene = dict(\n",
    "                    xaxis_title='V',\n",
    "                    yaxis_title='A',\n",
    "                    zaxis_title='W'))\n",
    "fig.show()"
   ]
  },
  {
   "cell_type": "code",
   "execution_count": 71,
   "metadata": {},
   "outputs": [
    {
     "data": {
      "application/vnd.plotly.v1+json": {
       "config": {
        "plotlyServerURL": "https://plot.ly"
       },
       "data": [
        {
         "type": "surface",
         "x": [
          22,
          22.5,
          22.5,
          22.5,
          22.5,
          22.5,
          22.5,
          22.5,
          22.5,
          29,
          29,
          29,
          29,
          29,
          29,
          29,
          29,
          29,
          29,
          29,
          29,
          29,
          32.5,
          32.5,
          32.5,
          32.5,
          32.5,
          32.5,
          32.5,
          32.5,
          36
         ],
         "y": [
          6,
          9,
          9,
          9,
          9,
          9,
          9,
          9,
          9,
          12,
          12,
          12,
          12,
          12,
          12,
          12,
          12,
          12,
          12,
          12,
          12,
          12,
          15,
          15,
          15,
          15,
          15,
          15,
          15,
          15,
          18
         ],
         "z": [
          [
           11.121318817138672,
           11.123716354370117,
           11.123716354370117,
           11.123716354370117,
           11.123716354370117,
           11.123716354370117,
           11.123716354370117,
           11.123716354370117,
           11.123716354370117,
           12.3175630569458,
           12.3175630569458,
           12.3175630569458,
           12.3175630569458,
           12.3175630569458,
           12.3175630569458,
           12.3175630569458,
           12.3175630569458,
           12.3175630569458,
           12.3175630569458,
           12.3175630569458,
           12.3175630569458,
           12.3175630569458,
           12.3175630569458,
           12.3175630569458,
           12.3175630569458,
           12.3175630569458,
           12.3175630569458,
           12.3175630569458,
           12.3175630569458,
           12.3175630569458,
           12.3175630569458
          ],
          [
           9.2638521194458,
           9.266249656677246,
           9.266249656677246,
           9.266249656677246,
           9.266249656677246,
           9.266249656677246,
           9.266249656677246,
           9.266249656677246,
           9.266249656677246,
           10.019387245178223,
           10.019387245178223,
           10.019387245178223,
           10.019387245178223,
           10.019387245178223,
           10.019387245178223,
           10.019387245178223,
           10.019387245178223,
           10.019387245178223,
           10.019387245178223,
           10.019387245178223,
           10.019387245178223,
           10.019387245178223,
           10.473735809326172,
           10.473735809326172,
           10.473735809326172,
           10.473735809326172,
           10.473735809326172,
           10.473735809326172,
           10.473735809326172,
           10.473735809326172,
           10.473735809326172
          ],
          [
           9.2638521194458,
           9.266249656677246,
           9.266249656677246,
           9.266249656677246,
           9.266249656677246,
           9.266249656677246,
           9.266249656677246,
           9.266249656677246,
           9.266249656677246,
           10.019387245178223,
           10.019387245178223,
           10.019387245178223,
           10.019387245178223,
           10.019387245178223,
           10.019387245178223,
           10.019387245178223,
           10.019387245178223,
           10.019387245178223,
           10.019387245178223,
           10.019387245178223,
           10.019387245178223,
           10.019387245178223,
           10.473735809326172,
           10.473735809326172,
           10.473735809326172,
           10.473735809326172,
           10.473735809326172,
           10.473735809326172,
           10.473735809326172,
           10.473735809326172,
           10.473735809326172
          ],
          [
           9.2638521194458,
           9.266249656677246,
           9.266249656677246,
           9.266249656677246,
           9.266249656677246,
           9.266249656677246,
           9.266249656677246,
           9.266249656677246,
           9.266249656677246,
           10.019387245178223,
           10.019387245178223,
           10.019387245178223,
           10.019387245178223,
           10.019387245178223,
           10.019387245178223,
           10.019387245178223,
           10.019387245178223,
           10.019387245178223,
           10.019387245178223,
           10.019387245178223,
           10.019387245178223,
           10.019387245178223,
           10.473735809326172,
           10.473735809326172,
           10.473735809326172,
           10.473735809326172,
           10.473735809326172,
           10.473735809326172,
           10.473735809326172,
           10.473735809326172,
           10.473735809326172
          ],
          [
           9.2638521194458,
           9.266249656677246,
           9.266249656677246,
           9.266249656677246,
           9.266249656677246,
           9.266249656677246,
           9.266249656677246,
           9.266249656677246,
           9.266249656677246,
           10.019387245178223,
           10.019387245178223,
           10.019387245178223,
           10.019387245178223,
           10.019387245178223,
           10.019387245178223,
           10.019387245178223,
           10.019387245178223,
           10.019387245178223,
           10.019387245178223,
           10.019387245178223,
           10.019387245178223,
           10.019387245178223,
           10.473735809326172,
           10.473735809326172,
           10.473735809326172,
           10.473735809326172,
           10.473735809326172,
           10.473735809326172,
           10.473735809326172,
           10.473735809326172,
           10.473735809326172
          ],
          [
           9.2638521194458,
           9.266249656677246,
           9.266249656677246,
           9.266249656677246,
           9.266249656677246,
           9.266249656677246,
           9.266249656677246,
           9.266249656677246,
           9.266249656677246,
           10.019387245178223,
           10.019387245178223,
           10.019387245178223,
           10.019387245178223,
           10.019387245178223,
           10.019387245178223,
           10.019387245178223,
           10.019387245178223,
           10.019387245178223,
           10.019387245178223,
           10.019387245178223,
           10.019387245178223,
           10.019387245178223,
           10.473735809326172,
           10.473735809326172,
           10.473735809326172,
           10.473735809326172,
           10.473735809326172,
           10.473735809326172,
           10.473735809326172,
           10.473735809326172,
           10.473735809326172
          ],
          [
           9.2638521194458,
           9.266249656677246,
           9.266249656677246,
           9.266249656677246,
           9.266249656677246,
           9.266249656677246,
           9.266249656677246,
           9.266249656677246,
           9.266249656677246,
           10.019387245178223,
           10.019387245178223,
           10.019387245178223,
           10.019387245178223,
           10.019387245178223,
           10.019387245178223,
           10.019387245178223,
           10.019387245178223,
           10.019387245178223,
           10.019387245178223,
           10.019387245178223,
           10.019387245178223,
           10.019387245178223,
           10.473735809326172,
           10.473735809326172,
           10.473735809326172,
           10.473735809326172,
           10.473735809326172,
           10.473735809326172,
           10.473735809326172,
           10.473735809326172,
           10.473735809326172
          ],
          [
           9.2638521194458,
           9.266249656677246,
           9.266249656677246,
           9.266249656677246,
           9.266249656677246,
           9.266249656677246,
           9.266249656677246,
           9.266249656677246,
           9.266249656677246,
           10.019387245178223,
           10.019387245178223,
           10.019387245178223,
           10.019387245178223,
           10.019387245178223,
           10.019387245178223,
           10.019387245178223,
           10.019387245178223,
           10.019387245178223,
           10.019387245178223,
           10.019387245178223,
           10.019387245178223,
           10.019387245178223,
           10.473735809326172,
           10.473735809326172,
           10.473735809326172,
           10.473735809326172,
           10.473735809326172,
           10.473735809326172,
           10.473735809326172,
           10.473735809326172,
           10.473735809326172
          ],
          [
           9.2638521194458,
           9.266249656677246,
           9.266249656677246,
           9.266249656677246,
           9.266249656677246,
           9.266249656677246,
           9.266249656677246,
           9.266249656677246,
           9.266249656677246,
           10.019387245178223,
           10.019387245178223,
           10.019387245178223,
           10.019387245178223,
           10.019387245178223,
           10.019387245178223,
           10.019387245178223,
           10.019387245178223,
           10.019387245178223,
           10.019387245178223,
           10.019387245178223,
           10.019387245178223,
           10.019387245178223,
           10.473735809326172,
           10.473735809326172,
           10.473735809326172,
           10.473735809326172,
           10.473735809326172,
           10.473735809326172,
           10.473735809326172,
           10.473735809326172,
           10.473735809326172
          ],
          [
           8.972224235534668,
           8.974621772766113,
           8.974621772766113,
           8.974621772766113,
           8.974621772766113,
           8.974621772766113,
           8.974621772766113,
           8.974621772766113,
           8.974621772766113,
           8.281479835510254,
           8.281479835510254,
           8.281479835510254,
           8.281479835510254,
           8.281479835510254,
           8.281479835510254,
           8.281479835510254,
           8.281479835510254,
           8.281479835510254,
           8.281479835510254,
           8.281479835510254,
           8.281479835510254,
           8.281479835510254,
           8.242650032043457,
           8.242650032043457,
           8.242650032043457,
           8.242650032043457,
           8.242650032043457,
           8.242650032043457,
           8.242650032043457,
           8.242650032043457,
           8.242650032043457
          ],
          [
           8.972224235534668,
           8.974621772766113,
           8.974621772766113,
           8.974621772766113,
           8.974621772766113,
           8.974621772766113,
           8.974621772766113,
           8.974621772766113,
           8.974621772766113,
           8.281479835510254,
           8.281479835510254,
           8.281479835510254,
           8.281479835510254,
           8.281479835510254,
           8.281479835510254,
           8.281479835510254,
           8.281479835510254,
           8.281479835510254,
           8.281479835510254,
           8.281479835510254,
           8.281479835510254,
           8.281479835510254,
           8.242650032043457,
           8.242650032043457,
           8.242650032043457,
           8.242650032043457,
           8.242650032043457,
           8.242650032043457,
           8.242650032043457,
           8.242650032043457,
           8.242650032043457
          ],
          [
           8.972224235534668,
           8.974621772766113,
           8.974621772766113,
           8.974621772766113,
           8.974621772766113,
           8.974621772766113,
           8.974621772766113,
           8.974621772766113,
           8.974621772766113,
           8.281479835510254,
           8.281479835510254,
           8.281479835510254,
           8.281479835510254,
           8.281479835510254,
           8.281479835510254,
           8.281479835510254,
           8.281479835510254,
           8.281479835510254,
           8.281479835510254,
           8.281479835510254,
           8.281479835510254,
           8.281479835510254,
           8.242650032043457,
           8.242650032043457,
           8.242650032043457,
           8.242650032043457,
           8.242650032043457,
           8.242650032043457,
           8.242650032043457,
           8.242650032043457,
           8.242650032043457
          ],
          [
           8.972224235534668,
           8.974621772766113,
           8.974621772766113,
           8.974621772766113,
           8.974621772766113,
           8.974621772766113,
           8.974621772766113,
           8.974621772766113,
           8.974621772766113,
           8.281479835510254,
           8.281479835510254,
           8.281479835510254,
           8.281479835510254,
           8.281479835510254,
           8.281479835510254,
           8.281479835510254,
           8.281479835510254,
           8.281479835510254,
           8.281479835510254,
           8.281479835510254,
           8.281479835510254,
           8.281479835510254,
           8.242650032043457,
           8.242650032043457,
           8.242650032043457,
           8.242650032043457,
           8.242650032043457,
           8.242650032043457,
           8.242650032043457,
           8.242650032043457,
           8.242650032043457
          ],
          [
           8.972224235534668,
           8.974621772766113,
           8.974621772766113,
           8.974621772766113,
           8.974621772766113,
           8.974621772766113,
           8.974621772766113,
           8.974621772766113,
           8.974621772766113,
           8.281479835510254,
           8.281479835510254,
           8.281479835510254,
           8.281479835510254,
           8.281479835510254,
           8.281479835510254,
           8.281479835510254,
           8.281479835510254,
           8.281479835510254,
           8.281479835510254,
           8.281479835510254,
           8.281479835510254,
           8.281479835510254,
           8.242650032043457,
           8.242650032043457,
           8.242650032043457,
           8.242650032043457,
           8.242650032043457,
           8.242650032043457,
           8.242650032043457,
           8.242650032043457,
           8.242650032043457
          ],
          [
           8.972224235534668,
           8.974621772766113,
           8.974621772766113,
           8.974621772766113,
           8.974621772766113,
           8.974621772766113,
           8.974621772766113,
           8.974621772766113,
           8.974621772766113,
           8.281479835510254,
           8.281479835510254,
           8.281479835510254,
           8.281479835510254,
           8.281479835510254,
           8.281479835510254,
           8.281479835510254,
           8.281479835510254,
           8.281479835510254,
           8.281479835510254,
           8.281479835510254,
           8.281479835510254,
           8.281479835510254,
           8.242650032043457,
           8.242650032043457,
           8.242650032043457,
           8.242650032043457,
           8.242650032043457,
           8.242650032043457,
           8.242650032043457,
           8.242650032043457,
           8.242650032043457
          ],
          [
           8.972224235534668,
           8.974621772766113,
           8.974621772766113,
           8.974621772766113,
           8.974621772766113,
           8.974621772766113,
           8.974621772766113,
           8.974621772766113,
           8.974621772766113,
           8.281479835510254,
           8.281479835510254,
           8.281479835510254,
           8.281479835510254,
           8.281479835510254,
           8.281479835510254,
           8.281479835510254,
           8.281479835510254,
           8.281479835510254,
           8.281479835510254,
           8.281479835510254,
           8.281479835510254,
           8.281479835510254,
           8.242650032043457,
           8.242650032043457,
           8.242650032043457,
           8.242650032043457,
           8.242650032043457,
           8.242650032043457,
           8.242650032043457,
           8.242650032043457,
           8.242650032043457
          ],
          [
           8.972224235534668,
           8.974621772766113,
           8.974621772766113,
           8.974621772766113,
           8.974621772766113,
           8.974621772766113,
           8.974621772766113,
           8.974621772766113,
           8.974621772766113,
           8.281479835510254,
           8.281479835510254,
           8.281479835510254,
           8.281479835510254,
           8.281479835510254,
           8.281479835510254,
           8.281479835510254,
           8.281479835510254,
           8.281479835510254,
           8.281479835510254,
           8.281479835510254,
           8.281479835510254,
           8.281479835510254,
           8.242650032043457,
           8.242650032043457,
           8.242650032043457,
           8.242650032043457,
           8.242650032043457,
           8.242650032043457,
           8.242650032043457,
           8.242650032043457,
           8.242650032043457
          ],
          [
           8.972224235534668,
           8.974621772766113,
           8.974621772766113,
           8.974621772766113,
           8.974621772766113,
           8.974621772766113,
           8.974621772766113,
           8.974621772766113,
           8.974621772766113,
           8.281479835510254,
           8.281479835510254,
           8.281479835510254,
           8.281479835510254,
           8.281479835510254,
           8.281479835510254,
           8.281479835510254,
           8.281479835510254,
           8.281479835510254,
           8.281479835510254,
           8.281479835510254,
           8.281479835510254,
           8.281479835510254,
           8.242650032043457,
           8.242650032043457,
           8.242650032043457,
           8.242650032043457,
           8.242650032043457,
           8.242650032043457,
           8.242650032043457,
           8.242650032043457,
           8.242650032043457
          ],
          [
           8.972224235534668,
           8.974621772766113,
           8.974621772766113,
           8.974621772766113,
           8.974621772766113,
           8.974621772766113,
           8.974621772766113,
           8.974621772766113,
           8.974621772766113,
           8.281479835510254,
           8.281479835510254,
           8.281479835510254,
           8.281479835510254,
           8.281479835510254,
           8.281479835510254,
           8.281479835510254,
           8.281479835510254,
           8.281479835510254,
           8.281479835510254,
           8.281479835510254,
           8.281479835510254,
           8.281479835510254,
           8.242650032043457,
           8.242650032043457,
           8.242650032043457,
           8.242650032043457,
           8.242650032043457,
           8.242650032043457,
           8.242650032043457,
           8.242650032043457,
           8.242650032043457
          ],
          [
           8.972224235534668,
           8.974621772766113,
           8.974621772766113,
           8.974621772766113,
           8.974621772766113,
           8.974621772766113,
           8.974621772766113,
           8.974621772766113,
           8.974621772766113,
           8.281479835510254,
           8.281479835510254,
           8.281479835510254,
           8.281479835510254,
           8.281479835510254,
           8.281479835510254,
           8.281479835510254,
           8.281479835510254,
           8.281479835510254,
           8.281479835510254,
           8.281479835510254,
           8.281479835510254,
           8.281479835510254,
           8.242650032043457,
           8.242650032043457,
           8.242650032043457,
           8.242650032043457,
           8.242650032043457,
           8.242650032043457,
           8.242650032043457,
           8.242650032043457,
           8.242650032043457
          ],
          [
           8.972224235534668,
           8.974621772766113,
           8.974621772766113,
           8.974621772766113,
           8.974621772766113,
           8.974621772766113,
           8.974621772766113,
           8.974621772766113,
           8.974621772766113,
           8.281479835510254,
           8.281479835510254,
           8.281479835510254,
           8.281479835510254,
           8.281479835510254,
           8.281479835510254,
           8.281479835510254,
           8.281479835510254,
           8.281479835510254,
           8.281479835510254,
           8.281479835510254,
           8.281479835510254,
           8.281479835510254,
           8.242650032043457,
           8.242650032043457,
           8.242650032043457,
           8.242650032043457,
           8.242650032043457,
           8.242650032043457,
           8.242650032043457,
           8.242650032043457,
           8.242650032043457
          ],
          [
           8.972224235534668,
           8.974621772766113,
           8.974621772766113,
           8.974621772766113,
           8.974621772766113,
           8.974621772766113,
           8.974621772766113,
           8.974621772766113,
           8.974621772766113,
           8.281479835510254,
           8.281479835510254,
           8.281479835510254,
           8.281479835510254,
           8.281479835510254,
           8.281479835510254,
           8.281479835510254,
           8.281479835510254,
           8.281479835510254,
           8.281479835510254,
           8.281479835510254,
           8.281479835510254,
           8.281479835510254,
           8.242650032043457,
           8.242650032043457,
           8.242650032043457,
           8.242650032043457,
           8.242650032043457,
           8.242650032043457,
           8.242650032043457,
           8.242650032043457,
           8.242650032043457
          ],
          [
           9.313570976257324,
           9.313570976257324,
           9.313570976257324,
           9.313570976257324,
           9.313570976257324,
           9.313570976257324,
           9.313570976257324,
           9.313570976257324,
           9.313570976257324,
           8.620429039001465,
           8.620429039001465,
           8.620429039001465,
           8.620429039001465,
           8.620429039001465,
           8.620429039001465,
           8.620429039001465,
           8.620429039001465,
           8.620429039001465,
           8.620429039001465,
           8.620429039001465,
           8.620429039001465,
           8.620429039001465,
           8.12622356414795,
           8.12622356414795,
           8.12622356414795,
           8.12622356414795,
           8.12622356414795,
           8.12622356414795,
           8.12622356414795,
           8.12622356414795,
           8.12622356414795
          ],
          [
           9.313570976257324,
           9.313570976257324,
           9.313570976257324,
           9.313570976257324,
           9.313570976257324,
           9.313570976257324,
           9.313570976257324,
           9.313570976257324,
           9.313570976257324,
           8.620429039001465,
           8.620429039001465,
           8.620429039001465,
           8.620429039001465,
           8.620429039001465,
           8.620429039001465,
           8.620429039001465,
           8.620429039001465,
           8.620429039001465,
           8.620429039001465,
           8.620429039001465,
           8.620429039001465,
           8.620429039001465,
           8.12622356414795,
           8.12622356414795,
           8.12622356414795,
           8.12622356414795,
           8.12622356414795,
           8.12622356414795,
           8.12622356414795,
           8.12622356414795,
           8.12622356414795
          ],
          [
           9.313570976257324,
           9.313570976257324,
           9.313570976257324,
           9.313570976257324,
           9.313570976257324,
           9.313570976257324,
           9.313570976257324,
           9.313570976257324,
           9.313570976257324,
           8.620429039001465,
           8.620429039001465,
           8.620429039001465,
           8.620429039001465,
           8.620429039001465,
           8.620429039001465,
           8.620429039001465,
           8.620429039001465,
           8.620429039001465,
           8.620429039001465,
           8.620429039001465,
           8.620429039001465,
           8.620429039001465,
           8.12622356414795,
           8.12622356414795,
           8.12622356414795,
           8.12622356414795,
           8.12622356414795,
           8.12622356414795,
           8.12622356414795,
           8.12622356414795,
           8.12622356414795
          ],
          [
           9.313570976257324,
           9.313570976257324,
           9.313570976257324,
           9.313570976257324,
           9.313570976257324,
           9.313570976257324,
           9.313570976257324,
           9.313570976257324,
           9.313570976257324,
           8.620429039001465,
           8.620429039001465,
           8.620429039001465,
           8.620429039001465,
           8.620429039001465,
           8.620429039001465,
           8.620429039001465,
           8.620429039001465,
           8.620429039001465,
           8.620429039001465,
           8.620429039001465,
           8.620429039001465,
           8.620429039001465,
           8.12622356414795,
           8.12622356414795,
           8.12622356414795,
           8.12622356414795,
           8.12622356414795,
           8.12622356414795,
           8.12622356414795,
           8.12622356414795,
           8.12622356414795
          ],
          [
           9.313570976257324,
           9.313570976257324,
           9.313570976257324,
           9.313570976257324,
           9.313570976257324,
           9.313570976257324,
           9.313570976257324,
           9.313570976257324,
           9.313570976257324,
           8.620429039001465,
           8.620429039001465,
           8.620429039001465,
           8.620429039001465,
           8.620429039001465,
           8.620429039001465,
           8.620429039001465,
           8.620429039001465,
           8.620429039001465,
           8.620429039001465,
           8.620429039001465,
           8.620429039001465,
           8.620429039001465,
           8.12622356414795,
           8.12622356414795,
           8.12622356414795,
           8.12622356414795,
           8.12622356414795,
           8.12622356414795,
           8.12622356414795,
           8.12622356414795,
           8.12622356414795
          ],
          [
           9.313570976257324,
           9.313570976257324,
           9.313570976257324,
           9.313570976257324,
           9.313570976257324,
           9.313570976257324,
           9.313570976257324,
           9.313570976257324,
           9.313570976257324,
           8.620429039001465,
           8.620429039001465,
           8.620429039001465,
           8.620429039001465,
           8.620429039001465,
           8.620429039001465,
           8.620429039001465,
           8.620429039001465,
           8.620429039001465,
           8.620429039001465,
           8.620429039001465,
           8.620429039001465,
           8.620429039001465,
           8.12622356414795,
           8.12622356414795,
           8.12622356414795,
           8.12622356414795,
           8.12622356414795,
           8.12622356414795,
           8.12622356414795,
           8.12622356414795,
           8.12622356414795
          ],
          [
           9.313570976257324,
           9.313570976257324,
           9.313570976257324,
           9.313570976257324,
           9.313570976257324,
           9.313570976257324,
           9.313570976257324,
           9.313570976257324,
           9.313570976257324,
           8.620429039001465,
           8.620429039001465,
           8.620429039001465,
           8.620429039001465,
           8.620429039001465,
           8.620429039001465,
           8.620429039001465,
           8.620429039001465,
           8.620429039001465,
           8.620429039001465,
           8.620429039001465,
           8.620429039001465,
           8.620429039001465,
           8.12622356414795,
           8.12622356414795,
           8.12622356414795,
           8.12622356414795,
           8.12622356414795,
           8.12622356414795,
           8.12622356414795,
           8.12622356414795,
           8.12622356414795
          ],
          [
           9.313570976257324,
           9.313570976257324,
           9.313570976257324,
           9.313570976257324,
           9.313570976257324,
           9.313570976257324,
           9.313570976257324,
           9.313570976257324,
           9.313570976257324,
           8.620429039001465,
           8.620429039001465,
           8.620429039001465,
           8.620429039001465,
           8.620429039001465,
           8.620429039001465,
           8.620429039001465,
           8.620429039001465,
           8.620429039001465,
           8.620429039001465,
           8.620429039001465,
           8.620429039001465,
           8.620429039001465,
           8.12622356414795,
           8.12622356414795,
           8.12622356414795,
           8.12622356414795,
           8.12622356414795,
           8.12622356414795,
           8.12622356414795,
           8.12622356414795,
           8.12622356414795
          ],
          [
           9.025433540344238,
           9.025433540344238,
           9.025433540344238,
           9.025433540344238,
           9.025433540344238,
           9.025433540344238,
           9.025433540344238,
           9.025433540344238,
           9.025433540344238,
           8.496459007263184,
           8.496459007263184,
           8.496459007263184,
           8.496459007263184,
           8.496459007263184,
           8.496459007263184,
           8.496459007263184,
           8.496459007263184,
           8.496459007263184,
           8.496459007263184,
           8.496459007263184,
           8.496459007263184,
           8.496459007263184,
           8.101119041442871,
           8.101119041442871,
           8.101119041442871,
           8.101119041442871,
           8.101119041442871,
           8.101119041442871,
           8.101119041442871,
           8.101119041442871,
           8.101119041442871
          ]
         ]
        }
       ],
       "layout": {
        "scene": {
         "xaxis": {
          "title": {
           "text": "V"
          }
         },
         "yaxis": {
          "title": {
           "text": "S"
          }
         },
         "zaxis": {
          "title": {
           "text": "W"
          }
         }
        },
        "template": {
         "data": {
          "bar": [
           {
            "error_x": {
             "color": "#2a3f5f"
            },
            "error_y": {
             "color": "#2a3f5f"
            },
            "marker": {
             "line": {
              "color": "#E5ECF6",
              "width": 0.5
             },
             "pattern": {
              "fillmode": "overlay",
              "size": 10,
              "solidity": 0.2
             }
            },
            "type": "bar"
           }
          ],
          "barpolar": [
           {
            "marker": {
             "line": {
              "color": "#E5ECF6",
              "width": 0.5
             },
             "pattern": {
              "fillmode": "overlay",
              "size": 10,
              "solidity": 0.2
             }
            },
            "type": "barpolar"
           }
          ],
          "carpet": [
           {
            "aaxis": {
             "endlinecolor": "#2a3f5f",
             "gridcolor": "white",
             "linecolor": "white",
             "minorgridcolor": "white",
             "startlinecolor": "#2a3f5f"
            },
            "baxis": {
             "endlinecolor": "#2a3f5f",
             "gridcolor": "white",
             "linecolor": "white",
             "minorgridcolor": "white",
             "startlinecolor": "#2a3f5f"
            },
            "type": "carpet"
           }
          ],
          "choropleth": [
           {
            "colorbar": {
             "outlinewidth": 0,
             "ticks": ""
            },
            "type": "choropleth"
           }
          ],
          "contour": [
           {
            "colorbar": {
             "outlinewidth": 0,
             "ticks": ""
            },
            "colorscale": [
             [
              0,
              "#0d0887"
             ],
             [
              0.1111111111111111,
              "#46039f"
             ],
             [
              0.2222222222222222,
              "#7201a8"
             ],
             [
              0.3333333333333333,
              "#9c179e"
             ],
             [
              0.4444444444444444,
              "#bd3786"
             ],
             [
              0.5555555555555556,
              "#d8576b"
             ],
             [
              0.6666666666666666,
              "#ed7953"
             ],
             [
              0.7777777777777778,
              "#fb9f3a"
             ],
             [
              0.8888888888888888,
              "#fdca26"
             ],
             [
              1,
              "#f0f921"
             ]
            ],
            "type": "contour"
           }
          ],
          "contourcarpet": [
           {
            "colorbar": {
             "outlinewidth": 0,
             "ticks": ""
            },
            "type": "contourcarpet"
           }
          ],
          "heatmap": [
           {
            "colorbar": {
             "outlinewidth": 0,
             "ticks": ""
            },
            "colorscale": [
             [
              0,
              "#0d0887"
             ],
             [
              0.1111111111111111,
              "#46039f"
             ],
             [
              0.2222222222222222,
              "#7201a8"
             ],
             [
              0.3333333333333333,
              "#9c179e"
             ],
             [
              0.4444444444444444,
              "#bd3786"
             ],
             [
              0.5555555555555556,
              "#d8576b"
             ],
             [
              0.6666666666666666,
              "#ed7953"
             ],
             [
              0.7777777777777778,
              "#fb9f3a"
             ],
             [
              0.8888888888888888,
              "#fdca26"
             ],
             [
              1,
              "#f0f921"
             ]
            ],
            "type": "heatmap"
           }
          ],
          "heatmapgl": [
           {
            "colorbar": {
             "outlinewidth": 0,
             "ticks": ""
            },
            "colorscale": [
             [
              0,
              "#0d0887"
             ],
             [
              0.1111111111111111,
              "#46039f"
             ],
             [
              0.2222222222222222,
              "#7201a8"
             ],
             [
              0.3333333333333333,
              "#9c179e"
             ],
             [
              0.4444444444444444,
              "#bd3786"
             ],
             [
              0.5555555555555556,
              "#d8576b"
             ],
             [
              0.6666666666666666,
              "#ed7953"
             ],
             [
              0.7777777777777778,
              "#fb9f3a"
             ],
             [
              0.8888888888888888,
              "#fdca26"
             ],
             [
              1,
              "#f0f921"
             ]
            ],
            "type": "heatmapgl"
           }
          ],
          "histogram": [
           {
            "marker": {
             "pattern": {
              "fillmode": "overlay",
              "size": 10,
              "solidity": 0.2
             }
            },
            "type": "histogram"
           }
          ],
          "histogram2d": [
           {
            "colorbar": {
             "outlinewidth": 0,
             "ticks": ""
            },
            "colorscale": [
             [
              0,
              "#0d0887"
             ],
             [
              0.1111111111111111,
              "#46039f"
             ],
             [
              0.2222222222222222,
              "#7201a8"
             ],
             [
              0.3333333333333333,
              "#9c179e"
             ],
             [
              0.4444444444444444,
              "#bd3786"
             ],
             [
              0.5555555555555556,
              "#d8576b"
             ],
             [
              0.6666666666666666,
              "#ed7953"
             ],
             [
              0.7777777777777778,
              "#fb9f3a"
             ],
             [
              0.8888888888888888,
              "#fdca26"
             ],
             [
              1,
              "#f0f921"
             ]
            ],
            "type": "histogram2d"
           }
          ],
          "histogram2dcontour": [
           {
            "colorbar": {
             "outlinewidth": 0,
             "ticks": ""
            },
            "colorscale": [
             [
              0,
              "#0d0887"
             ],
             [
              0.1111111111111111,
              "#46039f"
             ],
             [
              0.2222222222222222,
              "#7201a8"
             ],
             [
              0.3333333333333333,
              "#9c179e"
             ],
             [
              0.4444444444444444,
              "#bd3786"
             ],
             [
              0.5555555555555556,
              "#d8576b"
             ],
             [
              0.6666666666666666,
              "#ed7953"
             ],
             [
              0.7777777777777778,
              "#fb9f3a"
             ],
             [
              0.8888888888888888,
              "#fdca26"
             ],
             [
              1,
              "#f0f921"
             ]
            ],
            "type": "histogram2dcontour"
           }
          ],
          "mesh3d": [
           {
            "colorbar": {
             "outlinewidth": 0,
             "ticks": ""
            },
            "type": "mesh3d"
           }
          ],
          "parcoords": [
           {
            "line": {
             "colorbar": {
              "outlinewidth": 0,
              "ticks": ""
             }
            },
            "type": "parcoords"
           }
          ],
          "pie": [
           {
            "automargin": true,
            "type": "pie"
           }
          ],
          "scatter": [
           {
            "fillpattern": {
             "fillmode": "overlay",
             "size": 10,
             "solidity": 0.2
            },
            "type": "scatter"
           }
          ],
          "scatter3d": [
           {
            "line": {
             "colorbar": {
              "outlinewidth": 0,
              "ticks": ""
             }
            },
            "marker": {
             "colorbar": {
              "outlinewidth": 0,
              "ticks": ""
             }
            },
            "type": "scatter3d"
           }
          ],
          "scattercarpet": [
           {
            "marker": {
             "colorbar": {
              "outlinewidth": 0,
              "ticks": ""
             }
            },
            "type": "scattercarpet"
           }
          ],
          "scattergeo": [
           {
            "marker": {
             "colorbar": {
              "outlinewidth": 0,
              "ticks": ""
             }
            },
            "type": "scattergeo"
           }
          ],
          "scattergl": [
           {
            "marker": {
             "colorbar": {
              "outlinewidth": 0,
              "ticks": ""
             }
            },
            "type": "scattergl"
           }
          ],
          "scattermapbox": [
           {
            "marker": {
             "colorbar": {
              "outlinewidth": 0,
              "ticks": ""
             }
            },
            "type": "scattermapbox"
           }
          ],
          "scatterpolar": [
           {
            "marker": {
             "colorbar": {
              "outlinewidth": 0,
              "ticks": ""
             }
            },
            "type": "scatterpolar"
           }
          ],
          "scatterpolargl": [
           {
            "marker": {
             "colorbar": {
              "outlinewidth": 0,
              "ticks": ""
             }
            },
            "type": "scatterpolargl"
           }
          ],
          "scatterternary": [
           {
            "marker": {
             "colorbar": {
              "outlinewidth": 0,
              "ticks": ""
             }
            },
            "type": "scatterternary"
           }
          ],
          "surface": [
           {
            "colorbar": {
             "outlinewidth": 0,
             "ticks": ""
            },
            "colorscale": [
             [
              0,
              "#0d0887"
             ],
             [
              0.1111111111111111,
              "#46039f"
             ],
             [
              0.2222222222222222,
              "#7201a8"
             ],
             [
              0.3333333333333333,
              "#9c179e"
             ],
             [
              0.4444444444444444,
              "#bd3786"
             ],
             [
              0.5555555555555556,
              "#d8576b"
             ],
             [
              0.6666666666666666,
              "#ed7953"
             ],
             [
              0.7777777777777778,
              "#fb9f3a"
             ],
             [
              0.8888888888888888,
              "#fdca26"
             ],
             [
              1,
              "#f0f921"
             ]
            ],
            "type": "surface"
           }
          ],
          "table": [
           {
            "cells": {
             "fill": {
              "color": "#EBF0F8"
             },
             "line": {
              "color": "white"
             }
            },
            "header": {
             "fill": {
              "color": "#C8D4E3"
             },
             "line": {
              "color": "white"
             }
            },
            "type": "table"
           }
          ]
         },
         "layout": {
          "annotationdefaults": {
           "arrowcolor": "#2a3f5f",
           "arrowhead": 0,
           "arrowwidth": 1
          },
          "autotypenumbers": "strict",
          "coloraxis": {
           "colorbar": {
            "outlinewidth": 0,
            "ticks": ""
           }
          },
          "colorscale": {
           "diverging": [
            [
             0,
             "#8e0152"
            ],
            [
             0.1,
             "#c51b7d"
            ],
            [
             0.2,
             "#de77ae"
            ],
            [
             0.3,
             "#f1b6da"
            ],
            [
             0.4,
             "#fde0ef"
            ],
            [
             0.5,
             "#f7f7f7"
            ],
            [
             0.6,
             "#e6f5d0"
            ],
            [
             0.7,
             "#b8e186"
            ],
            [
             0.8,
             "#7fbc41"
            ],
            [
             0.9,
             "#4d9221"
            ],
            [
             1,
             "#276419"
            ]
           ],
           "sequential": [
            [
             0,
             "#0d0887"
            ],
            [
             0.1111111111111111,
             "#46039f"
            ],
            [
             0.2222222222222222,
             "#7201a8"
            ],
            [
             0.3333333333333333,
             "#9c179e"
            ],
            [
             0.4444444444444444,
             "#bd3786"
            ],
            [
             0.5555555555555556,
             "#d8576b"
            ],
            [
             0.6666666666666666,
             "#ed7953"
            ],
            [
             0.7777777777777778,
             "#fb9f3a"
            ],
            [
             0.8888888888888888,
             "#fdca26"
            ],
            [
             1,
             "#f0f921"
            ]
           ],
           "sequentialminus": [
            [
             0,
             "#0d0887"
            ],
            [
             0.1111111111111111,
             "#46039f"
            ],
            [
             0.2222222222222222,
             "#7201a8"
            ],
            [
             0.3333333333333333,
             "#9c179e"
            ],
            [
             0.4444444444444444,
             "#bd3786"
            ],
            [
             0.5555555555555556,
             "#d8576b"
            ],
            [
             0.6666666666666666,
             "#ed7953"
            ],
            [
             0.7777777777777778,
             "#fb9f3a"
            ],
            [
             0.8888888888888888,
             "#fdca26"
            ],
            [
             1,
             "#f0f921"
            ]
           ]
          },
          "colorway": [
           "#636efa",
           "#EF553B",
           "#00cc96",
           "#ab63fa",
           "#FFA15A",
           "#19d3f3",
           "#FF6692",
           "#B6E880",
           "#FF97FF",
           "#FECB52"
          ],
          "font": {
           "color": "#2a3f5f"
          },
          "geo": {
           "bgcolor": "white",
           "lakecolor": "white",
           "landcolor": "#E5ECF6",
           "showlakes": true,
           "showland": true,
           "subunitcolor": "white"
          },
          "hoverlabel": {
           "align": "left"
          },
          "hovermode": "closest",
          "mapbox": {
           "style": "light"
          },
          "paper_bgcolor": "white",
          "plot_bgcolor": "#E5ECF6",
          "polar": {
           "angularaxis": {
            "gridcolor": "white",
            "linecolor": "white",
            "ticks": ""
           },
           "bgcolor": "#E5ECF6",
           "radialaxis": {
            "gridcolor": "white",
            "linecolor": "white",
            "ticks": ""
           }
          },
          "scene": {
           "xaxis": {
            "backgroundcolor": "#E5ECF6",
            "gridcolor": "white",
            "gridwidth": 2,
            "linecolor": "white",
            "showbackground": true,
            "ticks": "",
            "zerolinecolor": "white"
           },
           "yaxis": {
            "backgroundcolor": "#E5ECF6",
            "gridcolor": "white",
            "gridwidth": 2,
            "linecolor": "white",
            "showbackground": true,
            "ticks": "",
            "zerolinecolor": "white"
           },
           "zaxis": {
            "backgroundcolor": "#E5ECF6",
            "gridcolor": "white",
            "gridwidth": 2,
            "linecolor": "white",
            "showbackground": true,
            "ticks": "",
            "zerolinecolor": "white"
           }
          },
          "shapedefaults": {
           "line": {
            "color": "#2a3f5f"
           }
          },
          "ternary": {
           "aaxis": {
            "gridcolor": "white",
            "linecolor": "white",
            "ticks": ""
           },
           "baxis": {
            "gridcolor": "white",
            "linecolor": "white",
            "ticks": ""
           },
           "bgcolor": "#E5ECF6",
           "caxis": {
            "gridcolor": "white",
            "linecolor": "white",
            "ticks": ""
           }
          },
          "title": {
           "x": 0.05
          },
          "xaxis": {
           "automargin": true,
           "gridcolor": "white",
           "linecolor": "white",
           "ticks": "",
           "title": {
            "standoff": 15
           },
           "zerolinecolor": "white",
           "zerolinewidth": 2
          },
          "yaxis": {
           "automargin": true,
           "gridcolor": "white",
           "linecolor": "white",
           "ticks": "",
           "title": {
            "standoff": 15
           },
           "zerolinecolor": "white",
           "zerolinewidth": 2
          }
         }
        }
       }
      }
     },
     "metadata": {},
     "output_type": "display_data"
    }
   ],
   "source": [
    "x = data['V'].sort_values()\n",
    "y = data['S'].sort_values()\n",
    "xx, yy = np.meshgrid(x, y)\n",
    "zz = f4(xx, yy)\n",
    "\n",
    "fig = go.Figure(data =\n",
    "    go.Surface(\n",
    "        z=zz,\n",
    "        x=x,\n",
    "        y=y\n",
    "    ))\n",
    "fig.update_layout(scene = dict(\n",
    "                    xaxis_title='V',\n",
    "                    yaxis_title='S',\n",
    "                    zaxis_title='W'))\n",
    "fig.show()"
   ]
  }
 ],
 "metadata": {
  "kernelspec": {
   "display_name": "base",
   "language": "python",
   "name": "python3"
  },
  "language_info": {
   "codemirror_mode": {
    "name": "ipython",
    "version": 3
   },
   "file_extension": ".py",
   "mimetype": "text/x-python",
   "name": "python",
   "nbconvert_exporter": "python",
   "pygments_lexer": "ipython3",
   "version": "3.11.4"
  }
 },
 "nbformat": 4,
 "nbformat_minor": 2
}
